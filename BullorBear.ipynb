{
 "cells": [
  {
   "cell_type": "markdown",
   "id": "01964d74",
   "metadata": {},
   "source": [
    "# Bull or Bear Betas\n",
    "#### Beta is a measurement of how much a stock's movement is affected by the movement of the market. A high beta means that a stock moves more, so on the market's up days that stock's returns would be higher than that of the market, but on down days its returns would be worse.\n",
    "#### Beta is usually just a single measurement, often used in risk management. This project examines how stocks move in different market conditions. A bull market, is when a market is going up, and a bear market is when the market is falling. We will get two betas for each stock, one for when the market is a bull market, the other for when it is a bear market. \n",
    "#### When a stock has a high bull-beta, that stock's returns are better than the market, which is good. In contrast, a high bear-beta is bad, as the stock's returns are worse when the market is down."
   ]
  },
  {
   "cell_type": "code",
   "execution_count": 34,
   "id": "f0211c2b",
   "metadata": {},
   "outputs": [
    {
     "name": "stderr",
     "output_type": "stream",
     "text": [
      "/var/folders/9k/ywvf61854_j0k_l2ksy1rrsc0000gn/T/ipykernel_35480/760376364.py:5: FutureWarning: YF.download() has changed argument auto_adjust default to True\n",
      "  SP500=yf.download(\"^GSPC\", start = '2020-07-24', end = '2025-07-24')\n",
      "[*********************100%***********************]  1 of 1 completed\n"
     ]
    }
   ],
   "source": [
    "import pandas as pd\n",
    "import yfinance as yf\n",
    "df = pd.read_csv(\"https://datahub.io/core/s-and-p-500-companies/r/constituents.csv\")\n",
    "sp500_tickers = df[\"Symbol\"].tolist()\n",
    "SP500=yf.download(\"^GSPC\", start = '2020-07-24', end = '2025-07-24')\n",
    "SP500.dropna(inplace = True)"
   ]
  },
  {
   "cell_type": "code",
   "execution_count": 35,
   "id": "dd362c5b",
   "metadata": {},
   "outputs": [],
   "source": [
    "mydf = pd.DataFrame()\n",
    "mydf[\"Close\"] = SP500[\"Close\"]\n",
    "mydf[\"Prev\"]= SP500[\"Close\"].shift(1)\n",
    "mydf[\"Returns\"] = mydf[\"Close\"].pct_change()\n",
    "mydf.dropna(inplace = True)\n",
    "BullorBear = []\n",
    "updf = pd.DataFrame(columns = [\"Returns\"])\n",
    "downdf = pd.DataFrame(columns = [\"Returns\"])\n",
    "for row in mydf.itertuples(index=True):\n",
    "    if row.Close-row.Prev>=0:\n",
    "        BullorBear.append(1)\n",
    "        updf.loc[len(updf)] = [row.Returns]\n",
    "    else:\n",
    "        BullorBear.append(0)\n",
    "        downdf.loc[len(downdf)] = [row.Returns]"
   ]
  },
  {
   "cell_type": "code",
   "execution_count": 36,
   "id": "6d808330",
   "metadata": {
    "scrolled": true
   },
   "outputs": [
    {
     "name": "stdout",
     "output_type": "stream",
     "text": [
      "1\n"
     ]
    },
    {
     "name": "stderr",
     "output_type": "stream",
     "text": [
      "/var/folders/9k/ywvf61854_j0k_l2ksy1rrsc0000gn/T/ipykernel_35480/962940363.py:7: FutureWarning: YF.download() has changed argument auto_adjust default to True\n",
      "  temp = yf.download(ticker, start = '2020-07-24', end = '2025-07-24')\n",
      "[*********************100%***********************]  1 of 1 completed\n"
     ]
    },
    {
     "name": "stdout",
     "output_type": "stream",
     "text": [
      "2\n"
     ]
    },
    {
     "name": "stderr",
     "output_type": "stream",
     "text": [
      "/var/folders/9k/ywvf61854_j0k_l2ksy1rrsc0000gn/T/ipykernel_35480/962940363.py:7: FutureWarning: YF.download() has changed argument auto_adjust default to True\n",
      "  temp = yf.download(ticker, start = '2020-07-24', end = '2025-07-24')\n",
      "[*********************100%***********************]  1 of 1 completed\n"
     ]
    },
    {
     "name": "stdout",
     "output_type": "stream",
     "text": [
      "3\n"
     ]
    },
    {
     "name": "stderr",
     "output_type": "stream",
     "text": [
      "/var/folders/9k/ywvf61854_j0k_l2ksy1rrsc0000gn/T/ipykernel_35480/962940363.py:7: FutureWarning: YF.download() has changed argument auto_adjust default to True\n",
      "  temp = yf.download(ticker, start = '2020-07-24', end = '2025-07-24')\n",
      "[*********************100%***********************]  1 of 1 completed\n"
     ]
    },
    {
     "name": "stdout",
     "output_type": "stream",
     "text": [
      "4\n"
     ]
    },
    {
     "name": "stderr",
     "output_type": "stream",
     "text": [
      "/var/folders/9k/ywvf61854_j0k_l2ksy1rrsc0000gn/T/ipykernel_35480/962940363.py:7: FutureWarning: YF.download() has changed argument auto_adjust default to True\n",
      "  temp = yf.download(ticker, start = '2020-07-24', end = '2025-07-24')\n",
      "[*********************100%***********************]  1 of 1 completed\n"
     ]
    },
    {
     "name": "stdout",
     "output_type": "stream",
     "text": [
      "5\n"
     ]
    },
    {
     "name": "stderr",
     "output_type": "stream",
     "text": [
      "/var/folders/9k/ywvf61854_j0k_l2ksy1rrsc0000gn/T/ipykernel_35480/962940363.py:7: FutureWarning: YF.download() has changed argument auto_adjust default to True\n",
      "  temp = yf.download(ticker, start = '2020-07-24', end = '2025-07-24')\n",
      "[*********************100%***********************]  1 of 1 completed\n"
     ]
    },
    {
     "name": "stdout",
     "output_type": "stream",
     "text": [
      "6\n"
     ]
    },
    {
     "name": "stderr",
     "output_type": "stream",
     "text": [
      "/var/folders/9k/ywvf61854_j0k_l2ksy1rrsc0000gn/T/ipykernel_35480/962940363.py:7: FutureWarning: YF.download() has changed argument auto_adjust default to True\n",
      "  temp = yf.download(ticker, start = '2020-07-24', end = '2025-07-24')\n",
      "[*********************100%***********************]  1 of 1 completed\n"
     ]
    },
    {
     "name": "stdout",
     "output_type": "stream",
     "text": [
      "7\n"
     ]
    },
    {
     "name": "stderr",
     "output_type": "stream",
     "text": [
      "/var/folders/9k/ywvf61854_j0k_l2ksy1rrsc0000gn/T/ipykernel_35480/962940363.py:7: FutureWarning: YF.download() has changed argument auto_adjust default to True\n",
      "  temp = yf.download(ticker, start = '2020-07-24', end = '2025-07-24')\n",
      "[*********************100%***********************]  1 of 1 completed\n"
     ]
    },
    {
     "name": "stdout",
     "output_type": "stream",
     "text": [
      "8\n"
     ]
    },
    {
     "name": "stderr",
     "output_type": "stream",
     "text": [
      "/var/folders/9k/ywvf61854_j0k_l2ksy1rrsc0000gn/T/ipykernel_35480/962940363.py:7: FutureWarning: YF.download() has changed argument auto_adjust default to True\n",
      "  temp = yf.download(ticker, start = '2020-07-24', end = '2025-07-24')\n",
      "[*********************100%***********************]  1 of 1 completed\n"
     ]
    },
    {
     "name": "stdout",
     "output_type": "stream",
     "text": [
      "9\n"
     ]
    },
    {
     "name": "stderr",
     "output_type": "stream",
     "text": [
      "/var/folders/9k/ywvf61854_j0k_l2ksy1rrsc0000gn/T/ipykernel_35480/962940363.py:7: FutureWarning: YF.download() has changed argument auto_adjust default to True\n",
      "  temp = yf.download(ticker, start = '2020-07-24', end = '2025-07-24')\n",
      "[*********************100%***********************]  1 of 1 completed\n"
     ]
    },
    {
     "name": "stdout",
     "output_type": "stream",
     "text": [
      "10\n"
     ]
    },
    {
     "name": "stderr",
     "output_type": "stream",
     "text": [
      "/var/folders/9k/ywvf61854_j0k_l2ksy1rrsc0000gn/T/ipykernel_35480/962940363.py:7: FutureWarning: YF.download() has changed argument auto_adjust default to True\n",
      "  temp = yf.download(ticker, start = '2020-07-24', end = '2025-07-24')\n",
      "[*********************100%***********************]  1 of 1 completed\n",
      "/var/folders/9k/ywvf61854_j0k_l2ksy1rrsc0000gn/T/ipykernel_35480/962940363.py:7: FutureWarning: YF.download() has changed argument auto_adjust default to True\n",
      "  temp = yf.download(ticker, start = '2020-07-24', end = '2025-07-24')\n"
     ]
    },
    {
     "name": "stdout",
     "output_type": "stream",
     "text": [
      "11\n"
     ]
    },
    {
     "name": "stderr",
     "output_type": "stream",
     "text": [
      "[*********************100%***********************]  1 of 1 completed\n"
     ]
    },
    {
     "name": "stdout",
     "output_type": "stream",
     "text": [
      "12\n"
     ]
    },
    {
     "name": "stderr",
     "output_type": "stream",
     "text": [
      "/var/folders/9k/ywvf61854_j0k_l2ksy1rrsc0000gn/T/ipykernel_35480/962940363.py:7: FutureWarning: YF.download() has changed argument auto_adjust default to True\n",
      "  temp = yf.download(ticker, start = '2020-07-24', end = '2025-07-24')\n",
      "[*********************100%***********************]  1 of 1 completed\n",
      "/var/folders/9k/ywvf61854_j0k_l2ksy1rrsc0000gn/T/ipykernel_35480/962940363.py:7: FutureWarning: YF.download() has changed argument auto_adjust default to True\n",
      "  temp = yf.download(ticker, start = '2020-07-24', end = '2025-07-24')\n"
     ]
    },
    {
     "name": "stdout",
     "output_type": "stream",
     "text": [
      "13\n"
     ]
    },
    {
     "name": "stderr",
     "output_type": "stream",
     "text": [
      "[*********************100%***********************]  1 of 1 completed\n"
     ]
    },
    {
     "name": "stdout",
     "output_type": "stream",
     "text": [
      "14\n"
     ]
    },
    {
     "name": "stderr",
     "output_type": "stream",
     "text": [
      "/var/folders/9k/ywvf61854_j0k_l2ksy1rrsc0000gn/T/ipykernel_35480/962940363.py:7: FutureWarning: YF.download() has changed argument auto_adjust default to True\n",
      "  temp = yf.download(ticker, start = '2020-07-24', end = '2025-07-24')\n",
      "[*********************100%***********************]  1 of 1 completed\n"
     ]
    },
    {
     "name": "stdout",
     "output_type": "stream",
     "text": [
      "15\n"
     ]
    },
    {
     "name": "stderr",
     "output_type": "stream",
     "text": [
      "/var/folders/9k/ywvf61854_j0k_l2ksy1rrsc0000gn/T/ipykernel_35480/962940363.py:7: FutureWarning: YF.download() has changed argument auto_adjust default to True\n",
      "  temp = yf.download(ticker, start = '2020-07-24', end = '2025-07-24')\n",
      "[*********************100%***********************]  1 of 1 completed\n"
     ]
    },
    {
     "name": "stdout",
     "output_type": "stream",
     "text": [
      "16\n"
     ]
    },
    {
     "name": "stderr",
     "output_type": "stream",
     "text": [
      "/var/folders/9k/ywvf61854_j0k_l2ksy1rrsc0000gn/T/ipykernel_35480/962940363.py:7: FutureWarning: YF.download() has changed argument auto_adjust default to True\n",
      "  temp = yf.download(ticker, start = '2020-07-24', end = '2025-07-24')\n",
      "[*********************100%***********************]  1 of 1 completed\n"
     ]
    },
    {
     "name": "stdout",
     "output_type": "stream",
     "text": [
      "17\n"
     ]
    },
    {
     "name": "stderr",
     "output_type": "stream",
     "text": [
      "/var/folders/9k/ywvf61854_j0k_l2ksy1rrsc0000gn/T/ipykernel_35480/962940363.py:7: FutureWarning: YF.download() has changed argument auto_adjust default to True\n",
      "  temp = yf.download(ticker, start = '2020-07-24', end = '2025-07-24')\n",
      "[*********************100%***********************]  1 of 1 completed\n"
     ]
    },
    {
     "name": "stdout",
     "output_type": "stream",
     "text": [
      "18\n"
     ]
    },
    {
     "name": "stderr",
     "output_type": "stream",
     "text": [
      "/var/folders/9k/ywvf61854_j0k_l2ksy1rrsc0000gn/T/ipykernel_35480/962940363.py:7: FutureWarning: YF.download() has changed argument auto_adjust default to True\n",
      "  temp = yf.download(ticker, start = '2020-07-24', end = '2025-07-24')\n",
      "[*********************100%***********************]  1 of 1 completed\n"
     ]
    },
    {
     "name": "stdout",
     "output_type": "stream",
     "text": [
      "19\n"
     ]
    },
    {
     "name": "stderr",
     "output_type": "stream",
     "text": [
      "/var/folders/9k/ywvf61854_j0k_l2ksy1rrsc0000gn/T/ipykernel_35480/962940363.py:7: FutureWarning: YF.download() has changed argument auto_adjust default to True\n",
      "  temp = yf.download(ticker, start = '2020-07-24', end = '2025-07-24')\n",
      "[*********************100%***********************]  1 of 1 completed\n"
     ]
    },
    {
     "name": "stdout",
     "output_type": "stream",
     "text": [
      "20\n"
     ]
    },
    {
     "name": "stderr",
     "output_type": "stream",
     "text": [
      "/var/folders/9k/ywvf61854_j0k_l2ksy1rrsc0000gn/T/ipykernel_35480/962940363.py:7: FutureWarning: YF.download() has changed argument auto_adjust default to True\n",
      "  temp = yf.download(ticker, start = '2020-07-24', end = '2025-07-24')\n",
      "[*********************100%***********************]  1 of 1 completed\n"
     ]
    },
    {
     "name": "stdout",
     "output_type": "stream",
     "text": [
      "21\n"
     ]
    },
    {
     "name": "stderr",
     "output_type": "stream",
     "text": [
      "/var/folders/9k/ywvf61854_j0k_l2ksy1rrsc0000gn/T/ipykernel_35480/962940363.py:7: FutureWarning: YF.download() has changed argument auto_adjust default to True\n",
      "  temp = yf.download(ticker, start = '2020-07-24', end = '2025-07-24')\n",
      "[*********************100%***********************]  1 of 1 completed\n"
     ]
    },
    {
     "name": "stdout",
     "output_type": "stream",
     "text": [
      "22\n"
     ]
    },
    {
     "name": "stderr",
     "output_type": "stream",
     "text": [
      "/var/folders/9k/ywvf61854_j0k_l2ksy1rrsc0000gn/T/ipykernel_35480/962940363.py:7: FutureWarning: YF.download() has changed argument auto_adjust default to True\n",
      "  temp = yf.download(ticker, start = '2020-07-24', end = '2025-07-24')\n",
      "[*********************100%***********************]  1 of 1 completed\n"
     ]
    },
    {
     "name": "stdout",
     "output_type": "stream",
     "text": [
      "23\n"
     ]
    },
    {
     "name": "stderr",
     "output_type": "stream",
     "text": [
      "/var/folders/9k/ywvf61854_j0k_l2ksy1rrsc0000gn/T/ipykernel_35480/962940363.py:7: FutureWarning: YF.download() has changed argument auto_adjust default to True\n",
      "  temp = yf.download(ticker, start = '2020-07-24', end = '2025-07-24')\n",
      "[*********************100%***********************]  1 of 1 completed\n"
     ]
    },
    {
     "name": "stdout",
     "output_type": "stream",
     "text": [
      "24\n"
     ]
    },
    {
     "name": "stderr",
     "output_type": "stream",
     "text": [
      "/var/folders/9k/ywvf61854_j0k_l2ksy1rrsc0000gn/T/ipykernel_35480/962940363.py:7: FutureWarning: YF.download() has changed argument auto_adjust default to True\n",
      "  temp = yf.download(ticker, start = '2020-07-24', end = '2025-07-24')\n",
      "[*********************100%***********************]  1 of 1 completed\n"
     ]
    },
    {
     "name": "stdout",
     "output_type": "stream",
     "text": [
      "25\n"
     ]
    },
    {
     "name": "stderr",
     "output_type": "stream",
     "text": [
      "/var/folders/9k/ywvf61854_j0k_l2ksy1rrsc0000gn/T/ipykernel_35480/962940363.py:7: FutureWarning: YF.download() has changed argument auto_adjust default to True\n",
      "  temp = yf.download(ticker, start = '2020-07-24', end = '2025-07-24')\n",
      "[*********************100%***********************]  1 of 1 completed\n"
     ]
    },
    {
     "name": "stdout",
     "output_type": "stream",
     "text": [
      "26\n"
     ]
    },
    {
     "name": "stderr",
     "output_type": "stream",
     "text": [
      "/var/folders/9k/ywvf61854_j0k_l2ksy1rrsc0000gn/T/ipykernel_35480/962940363.py:7: FutureWarning: YF.download() has changed argument auto_adjust default to True\n",
      "  temp = yf.download(ticker, start = '2020-07-24', end = '2025-07-24')\n",
      "[*********************100%***********************]  1 of 1 completed\n"
     ]
    },
    {
     "name": "stdout",
     "output_type": "stream",
     "text": [
      "27\n"
     ]
    },
    {
     "name": "stderr",
     "output_type": "stream",
     "text": [
      "/var/folders/9k/ywvf61854_j0k_l2ksy1rrsc0000gn/T/ipykernel_35480/962940363.py:7: FutureWarning: YF.download() has changed argument auto_adjust default to True\n",
      "  temp = yf.download(ticker, start = '2020-07-24', end = '2025-07-24')\n",
      "[*********************100%***********************]  1 of 1 completed\n"
     ]
    },
    {
     "name": "stdout",
     "output_type": "stream",
     "text": [
      "28\n"
     ]
    },
    {
     "name": "stderr",
     "output_type": "stream",
     "text": [
      "/var/folders/9k/ywvf61854_j0k_l2ksy1rrsc0000gn/T/ipykernel_35480/962940363.py:7: FutureWarning: YF.download() has changed argument auto_adjust default to True\n",
      "  temp = yf.download(ticker, start = '2020-07-24', end = '2025-07-24')\n",
      "[*********************100%***********************]  1 of 1 completed\n"
     ]
    },
    {
     "name": "stdout",
     "output_type": "stream",
     "text": [
      "29\n"
     ]
    },
    {
     "name": "stderr",
     "output_type": "stream",
     "text": [
      "/var/folders/9k/ywvf61854_j0k_l2ksy1rrsc0000gn/T/ipykernel_35480/962940363.py:7: FutureWarning: YF.download() has changed argument auto_adjust default to True\n",
      "  temp = yf.download(ticker, start = '2020-07-24', end = '2025-07-24')\n",
      "[*********************100%***********************]  1 of 1 completed\n"
     ]
    },
    {
     "name": "stdout",
     "output_type": "stream",
     "text": [
      "30\n"
     ]
    },
    {
     "name": "stderr",
     "output_type": "stream",
     "text": [
      "/var/folders/9k/ywvf61854_j0k_l2ksy1rrsc0000gn/T/ipykernel_35480/962940363.py:7: FutureWarning: YF.download() has changed argument auto_adjust default to True\n",
      "  temp = yf.download(ticker, start = '2020-07-24', end = '2025-07-24')\n",
      "[*********************100%***********************]  1 of 1 completed\n"
     ]
    },
    {
     "name": "stdout",
     "output_type": "stream",
     "text": [
      "31\n"
     ]
    },
    {
     "name": "stderr",
     "output_type": "stream",
     "text": [
      "/var/folders/9k/ywvf61854_j0k_l2ksy1rrsc0000gn/T/ipykernel_35480/962940363.py:7: FutureWarning: YF.download() has changed argument auto_adjust default to True\n",
      "  temp = yf.download(ticker, start = '2020-07-24', end = '2025-07-24')\n",
      "[*********************100%***********************]  1 of 1 completed\n"
     ]
    },
    {
     "name": "stdout",
     "output_type": "stream",
     "text": [
      "32\n"
     ]
    },
    {
     "name": "stderr",
     "output_type": "stream",
     "text": [
      "/var/folders/9k/ywvf61854_j0k_l2ksy1rrsc0000gn/T/ipykernel_35480/962940363.py:7: FutureWarning: YF.download() has changed argument auto_adjust default to True\n",
      "  temp = yf.download(ticker, start = '2020-07-24', end = '2025-07-24')\n",
      "[*********************100%***********************]  1 of 1 completed\n"
     ]
    },
    {
     "name": "stdout",
     "output_type": "stream",
     "text": [
      "33\n"
     ]
    },
    {
     "name": "stderr",
     "output_type": "stream",
     "text": [
      "/var/folders/9k/ywvf61854_j0k_l2ksy1rrsc0000gn/T/ipykernel_35480/962940363.py:7: FutureWarning: YF.download() has changed argument auto_adjust default to True\n",
      "  temp = yf.download(ticker, start = '2020-07-24', end = '2025-07-24')\n",
      "[*********************100%***********************]  1 of 1 completed\n"
     ]
    },
    {
     "name": "stdout",
     "output_type": "stream",
     "text": [
      "34\n"
     ]
    },
    {
     "name": "stderr",
     "output_type": "stream",
     "text": [
      "/var/folders/9k/ywvf61854_j0k_l2ksy1rrsc0000gn/T/ipykernel_35480/962940363.py:7: FutureWarning: YF.download() has changed argument auto_adjust default to True\n",
      "  temp = yf.download(ticker, start = '2020-07-24', end = '2025-07-24')\n",
      "[*********************100%***********************]  1 of 1 completed\n",
      "/var/folders/9k/ywvf61854_j0k_l2ksy1rrsc0000gn/T/ipykernel_35480/962940363.py:7: FutureWarning: YF.download() has changed argument auto_adjust default to True\n",
      "  temp = yf.download(ticker, start = '2020-07-24', end = '2025-07-24')\n"
     ]
    },
    {
     "name": "stdout",
     "output_type": "stream",
     "text": [
      "35\n"
     ]
    },
    {
     "name": "stderr",
     "output_type": "stream",
     "text": [
      "[*********************100%***********************]  1 of 1 completed\n"
     ]
    },
    {
     "name": "stdout",
     "output_type": "stream",
     "text": [
      "36\n"
     ]
    },
    {
     "name": "stderr",
     "output_type": "stream",
     "text": [
      "/var/folders/9k/ywvf61854_j0k_l2ksy1rrsc0000gn/T/ipykernel_35480/962940363.py:7: FutureWarning: YF.download() has changed argument auto_adjust default to True\n",
      "  temp = yf.download(ticker, start = '2020-07-24', end = '2025-07-24')\n",
      "[*********************100%***********************]  1 of 1 completed\n"
     ]
    },
    {
     "name": "stdout",
     "output_type": "stream",
     "text": [
      "37\n"
     ]
    },
    {
     "name": "stderr",
     "output_type": "stream",
     "text": [
      "/var/folders/9k/ywvf61854_j0k_l2ksy1rrsc0000gn/T/ipykernel_35480/962940363.py:7: FutureWarning: YF.download() has changed argument auto_adjust default to True\n",
      "  temp = yf.download(ticker, start = '2020-07-24', end = '2025-07-24')\n",
      "[*********************100%***********************]  1 of 1 completed\n"
     ]
    },
    {
     "name": "stdout",
     "output_type": "stream",
     "text": [
      "38\n"
     ]
    },
    {
     "name": "stderr",
     "output_type": "stream",
     "text": [
      "/var/folders/9k/ywvf61854_j0k_l2ksy1rrsc0000gn/T/ipykernel_35480/962940363.py:7: FutureWarning: YF.download() has changed argument auto_adjust default to True\n",
      "  temp = yf.download(ticker, start = '2020-07-24', end = '2025-07-24')\n",
      "[*********************100%***********************]  1 of 1 completed\n"
     ]
    },
    {
     "name": "stdout",
     "output_type": "stream",
     "text": [
      "39\n"
     ]
    },
    {
     "name": "stderr",
     "output_type": "stream",
     "text": [
      "/var/folders/9k/ywvf61854_j0k_l2ksy1rrsc0000gn/T/ipykernel_35480/962940363.py:7: FutureWarning: YF.download() has changed argument auto_adjust default to True\n",
      "  temp = yf.download(ticker, start = '2020-07-24', end = '2025-07-24')\n",
      "[*********************100%***********************]  1 of 1 completed\n"
     ]
    },
    {
     "name": "stdout",
     "output_type": "stream",
     "text": [
      "40\n"
     ]
    },
    {
     "name": "stderr",
     "output_type": "stream",
     "text": [
      "/var/folders/9k/ywvf61854_j0k_l2ksy1rrsc0000gn/T/ipykernel_35480/962940363.py:7: FutureWarning: YF.download() has changed argument auto_adjust default to True\n",
      "  temp = yf.download(ticker, start = '2020-07-24', end = '2025-07-24')\n",
      "[*********************100%***********************]  1 of 1 completed\n"
     ]
    },
    {
     "name": "stdout",
     "output_type": "stream",
     "text": [
      "41\n"
     ]
    },
    {
     "name": "stderr",
     "output_type": "stream",
     "text": [
      "/var/folders/9k/ywvf61854_j0k_l2ksy1rrsc0000gn/T/ipykernel_35480/962940363.py:7: FutureWarning: YF.download() has changed argument auto_adjust default to True\n",
      "  temp = yf.download(ticker, start = '2020-07-24', end = '2025-07-24')\n",
      "[*********************100%***********************]  1 of 1 completed\n"
     ]
    },
    {
     "name": "stdout",
     "output_type": "stream",
     "text": [
      "42\n"
     ]
    },
    {
     "name": "stderr",
     "output_type": "stream",
     "text": [
      "/var/folders/9k/ywvf61854_j0k_l2ksy1rrsc0000gn/T/ipykernel_35480/962940363.py:7: FutureWarning: YF.download() has changed argument auto_adjust default to True\n",
      "  temp = yf.download(ticker, start = '2020-07-24', end = '2025-07-24')\n",
      "[*********************100%***********************]  1 of 1 completed\n"
     ]
    },
    {
     "name": "stdout",
     "output_type": "stream",
     "text": [
      "43\n"
     ]
    },
    {
     "name": "stderr",
     "output_type": "stream",
     "text": [
      "/var/folders/9k/ywvf61854_j0k_l2ksy1rrsc0000gn/T/ipykernel_35480/962940363.py:7: FutureWarning: YF.download() has changed argument auto_adjust default to True\n",
      "  temp = yf.download(ticker, start = '2020-07-24', end = '2025-07-24')\n",
      "[*********************100%***********************]  1 of 1 completed\n"
     ]
    },
    {
     "name": "stdout",
     "output_type": "stream",
     "text": [
      "44\n"
     ]
    },
    {
     "name": "stderr",
     "output_type": "stream",
     "text": [
      "/var/folders/9k/ywvf61854_j0k_l2ksy1rrsc0000gn/T/ipykernel_35480/962940363.py:7: FutureWarning: YF.download() has changed argument auto_adjust default to True\n",
      "  temp = yf.download(ticker, start = '2020-07-24', end = '2025-07-24')\n",
      "[*********************100%***********************]  1 of 1 completed\n",
      "/var/folders/9k/ywvf61854_j0k_l2ksy1rrsc0000gn/T/ipykernel_35480/962940363.py:7: FutureWarning: YF.download() has changed argument auto_adjust default to True\n",
      "  temp = yf.download(ticker, start = '2020-07-24', end = '2025-07-24')\n"
     ]
    },
    {
     "name": "stdout",
     "output_type": "stream",
     "text": [
      "45\n"
     ]
    },
    {
     "name": "stderr",
     "output_type": "stream",
     "text": [
      "[*********************100%***********************]  1 of 1 completed\n"
     ]
    },
    {
     "name": "stdout",
     "output_type": "stream",
     "text": [
      "46\n"
     ]
    },
    {
     "name": "stderr",
     "output_type": "stream",
     "text": [
      "/var/folders/9k/ywvf61854_j0k_l2ksy1rrsc0000gn/T/ipykernel_35480/962940363.py:7: FutureWarning: YF.download() has changed argument auto_adjust default to True\n",
      "  temp = yf.download(ticker, start = '2020-07-24', end = '2025-07-24')\n",
      "[*********************100%***********************]  1 of 1 completed\n"
     ]
    },
    {
     "name": "stdout",
     "output_type": "stream",
     "text": [
      "47\n"
     ]
    },
    {
     "name": "stderr",
     "output_type": "stream",
     "text": [
      "/var/folders/9k/ywvf61854_j0k_l2ksy1rrsc0000gn/T/ipykernel_35480/962940363.py:7: FutureWarning: YF.download() has changed argument auto_adjust default to True\n",
      "  temp = yf.download(ticker, start = '2020-07-24', end = '2025-07-24')\n",
      "[*********************100%***********************]  1 of 1 completed\n"
     ]
    },
    {
     "name": "stdout",
     "output_type": "stream",
     "text": [
      "48\n"
     ]
    },
    {
     "name": "stderr",
     "output_type": "stream",
     "text": [
      "/var/folders/9k/ywvf61854_j0k_l2ksy1rrsc0000gn/T/ipykernel_35480/962940363.py:7: FutureWarning: YF.download() has changed argument auto_adjust default to True\n",
      "  temp = yf.download(ticker, start = '2020-07-24', end = '2025-07-24')\n",
      "[*********************100%***********************]  1 of 1 completed\n"
     ]
    },
    {
     "name": "stdout",
     "output_type": "stream",
     "text": [
      "49\n"
     ]
    },
    {
     "name": "stderr",
     "output_type": "stream",
     "text": [
      "/var/folders/9k/ywvf61854_j0k_l2ksy1rrsc0000gn/T/ipykernel_35480/962940363.py:7: FutureWarning: YF.download() has changed argument auto_adjust default to True\n",
      "  temp = yf.download(ticker, start = '2020-07-24', end = '2025-07-24')\n",
      "[*********************100%***********************]  1 of 1 completed\n"
     ]
    },
    {
     "name": "stdout",
     "output_type": "stream",
     "text": [
      "50\n"
     ]
    },
    {
     "name": "stderr",
     "output_type": "stream",
     "text": [
      "/var/folders/9k/ywvf61854_j0k_l2ksy1rrsc0000gn/T/ipykernel_35480/962940363.py:7: FutureWarning: YF.download() has changed argument auto_adjust default to True\n",
      "  temp = yf.download(ticker, start = '2020-07-24', end = '2025-07-24')\n",
      "[*********************100%***********************]  1 of 1 completed\n"
     ]
    },
    {
     "name": "stdout",
     "output_type": "stream",
     "text": [
      "51\n"
     ]
    },
    {
     "name": "stderr",
     "output_type": "stream",
     "text": [
      "/var/folders/9k/ywvf61854_j0k_l2ksy1rrsc0000gn/T/ipykernel_35480/962940363.py:7: FutureWarning: YF.download() has changed argument auto_adjust default to True\n",
      "  temp = yf.download(ticker, start = '2020-07-24', end = '2025-07-24')\n",
      "[*********************100%***********************]  1 of 1 completed\n"
     ]
    },
    {
     "name": "stdout",
     "output_type": "stream",
     "text": [
      "52\n"
     ]
    },
    {
     "name": "stderr",
     "output_type": "stream",
     "text": [
      "/var/folders/9k/ywvf61854_j0k_l2ksy1rrsc0000gn/T/ipykernel_35480/962940363.py:7: FutureWarning: YF.download() has changed argument auto_adjust default to True\n",
      "  temp = yf.download(ticker, start = '2020-07-24', end = '2025-07-24')\n",
      "[*********************100%***********************]  1 of 1 completed\n"
     ]
    },
    {
     "name": "stdout",
     "output_type": "stream",
     "text": [
      "53\n"
     ]
    },
    {
     "name": "stderr",
     "output_type": "stream",
     "text": [
      "/var/folders/9k/ywvf61854_j0k_l2ksy1rrsc0000gn/T/ipykernel_35480/962940363.py:7: FutureWarning: YF.download() has changed argument auto_adjust default to True\n",
      "  temp = yf.download(ticker, start = '2020-07-24', end = '2025-07-24')\n",
      "[*********************100%***********************]  1 of 1 completed\n"
     ]
    },
    {
     "name": "stdout",
     "output_type": "stream",
     "text": [
      "54\n"
     ]
    },
    {
     "name": "stderr",
     "output_type": "stream",
     "text": [
      "/var/folders/9k/ywvf61854_j0k_l2ksy1rrsc0000gn/T/ipykernel_35480/962940363.py:7: FutureWarning: YF.download() has changed argument auto_adjust default to True\n",
      "  temp = yf.download(ticker, start = '2020-07-24', end = '2025-07-24')\n",
      "[*********************100%***********************]  1 of 1 completed\n"
     ]
    },
    {
     "name": "stdout",
     "output_type": "stream",
     "text": [
      "55\n"
     ]
    },
    {
     "name": "stderr",
     "output_type": "stream",
     "text": [
      "/var/folders/9k/ywvf61854_j0k_l2ksy1rrsc0000gn/T/ipykernel_35480/962940363.py:7: FutureWarning: YF.download() has changed argument auto_adjust default to True\n",
      "  temp = yf.download(ticker, start = '2020-07-24', end = '2025-07-24')\n",
      "[*********************100%***********************]  1 of 1 completed\n",
      "/var/folders/9k/ywvf61854_j0k_l2ksy1rrsc0000gn/T/ipykernel_35480/962940363.py:7: FutureWarning: YF.download() has changed argument auto_adjust default to True\n",
      "  temp = yf.download(ticker, start = '2020-07-24', end = '2025-07-24')\n"
     ]
    },
    {
     "name": "stdout",
     "output_type": "stream",
     "text": [
      "56\n"
     ]
    },
    {
     "name": "stderr",
     "output_type": "stream",
     "text": [
      "[*********************100%***********************]  1 of 1 completed\n"
     ]
    },
    {
     "name": "stdout",
     "output_type": "stream",
     "text": [
      "57\n"
     ]
    },
    {
     "name": "stderr",
     "output_type": "stream",
     "text": [
      "/var/folders/9k/ywvf61854_j0k_l2ksy1rrsc0000gn/T/ipykernel_35480/962940363.py:7: FutureWarning: YF.download() has changed argument auto_adjust default to True\n",
      "  temp = yf.download(ticker, start = '2020-07-24', end = '2025-07-24')\n",
      "[*********************100%***********************]  1 of 1 completed\n"
     ]
    },
    {
     "name": "stdout",
     "output_type": "stream",
     "text": [
      "58\n"
     ]
    },
    {
     "name": "stderr",
     "output_type": "stream",
     "text": [
      "/var/folders/9k/ywvf61854_j0k_l2ksy1rrsc0000gn/T/ipykernel_35480/962940363.py:7: FutureWarning: YF.download() has changed argument auto_adjust default to True\n",
      "  temp = yf.download(ticker, start = '2020-07-24', end = '2025-07-24')\n",
      "[*********************100%***********************]  1 of 1 completed\n"
     ]
    },
    {
     "name": "stdout",
     "output_type": "stream",
     "text": [
      "59\n"
     ]
    },
    {
     "name": "stderr",
     "output_type": "stream",
     "text": [
      "/var/folders/9k/ywvf61854_j0k_l2ksy1rrsc0000gn/T/ipykernel_35480/962940363.py:7: FutureWarning: YF.download() has changed argument auto_adjust default to True\n",
      "  temp = yf.download(ticker, start = '2020-07-24', end = '2025-07-24')\n",
      "[*********************100%***********************]  1 of 1 completed\n"
     ]
    },
    {
     "name": "stdout",
     "output_type": "stream",
     "text": [
      "60\n"
     ]
    },
    {
     "name": "stderr",
     "output_type": "stream",
     "text": [
      "/var/folders/9k/ywvf61854_j0k_l2ksy1rrsc0000gn/T/ipykernel_35480/962940363.py:7: FutureWarning: YF.download() has changed argument auto_adjust default to True\n",
      "  temp = yf.download(ticker, start = '2020-07-24', end = '2025-07-24')\n",
      "[*********************100%***********************]  1 of 1 completed\n",
      "\n",
      "1 Failed download:\n",
      "['BRK.B']: YFTzMissingError('possibly delisted; no timezone found')\n",
      "/var/folders/9k/ywvf61854_j0k_l2ksy1rrsc0000gn/T/ipykernel_35480/962940363.py:7: FutureWarning: YF.download() has changed argument auto_adjust default to True\n",
      "  temp = yf.download(ticker, start = '2020-07-24', end = '2025-07-24')\n"
     ]
    },
    {
     "name": "stdout",
     "output_type": "stream",
     "text": [
      "61\n"
     ]
    },
    {
     "name": "stderr",
     "output_type": "stream",
     "text": [
      "[*********************100%***********************]  1 of 1 completed\n"
     ]
    },
    {
     "name": "stdout",
     "output_type": "stream",
     "text": [
      "62\n"
     ]
    },
    {
     "name": "stderr",
     "output_type": "stream",
     "text": [
      "/var/folders/9k/ywvf61854_j0k_l2ksy1rrsc0000gn/T/ipykernel_35480/962940363.py:7: FutureWarning: YF.download() has changed argument auto_adjust default to True\n",
      "  temp = yf.download(ticker, start = '2020-07-24', end = '2025-07-24')\n",
      "[*********************100%***********************]  1 of 1 completed\n"
     ]
    },
    {
     "name": "stdout",
     "output_type": "stream",
     "text": [
      "63\n"
     ]
    },
    {
     "name": "stderr",
     "output_type": "stream",
     "text": [
      "/var/folders/9k/ywvf61854_j0k_l2ksy1rrsc0000gn/T/ipykernel_35480/962940363.py:7: FutureWarning: YF.download() has changed argument auto_adjust default to True\n",
      "  temp = yf.download(ticker, start = '2020-07-24', end = '2025-07-24')\n",
      "[*********************100%***********************]  1 of 1 completed\n"
     ]
    },
    {
     "name": "stdout",
     "output_type": "stream",
     "text": [
      "64\n"
     ]
    },
    {
     "name": "stderr",
     "output_type": "stream",
     "text": [
      "/var/folders/9k/ywvf61854_j0k_l2ksy1rrsc0000gn/T/ipykernel_35480/962940363.py:7: FutureWarning: YF.download() has changed argument auto_adjust default to True\n",
      "  temp = yf.download(ticker, start = '2020-07-24', end = '2025-07-24')\n",
      "[*********************100%***********************]  1 of 1 completed\n"
     ]
    },
    {
     "name": "stdout",
     "output_type": "stream",
     "text": [
      "65\n"
     ]
    },
    {
     "name": "stderr",
     "output_type": "stream",
     "text": [
      "/var/folders/9k/ywvf61854_j0k_l2ksy1rrsc0000gn/T/ipykernel_35480/962940363.py:7: FutureWarning: YF.download() has changed argument auto_adjust default to True\n",
      "  temp = yf.download(ticker, start = '2020-07-24', end = '2025-07-24')\n",
      "[*********************100%***********************]  1 of 1 completed\n"
     ]
    },
    {
     "name": "stdout",
     "output_type": "stream",
     "text": [
      "66\n"
     ]
    },
    {
     "name": "stderr",
     "output_type": "stream",
     "text": [
      "/var/folders/9k/ywvf61854_j0k_l2ksy1rrsc0000gn/T/ipykernel_35480/962940363.py:7: FutureWarning: YF.download() has changed argument auto_adjust default to True\n",
      "  temp = yf.download(ticker, start = '2020-07-24', end = '2025-07-24')\n",
      "[*********************100%***********************]  1 of 1 completed\n"
     ]
    },
    {
     "name": "stdout",
     "output_type": "stream",
     "text": [
      "67\n"
     ]
    },
    {
     "name": "stderr",
     "output_type": "stream",
     "text": [
      "/var/folders/9k/ywvf61854_j0k_l2ksy1rrsc0000gn/T/ipykernel_35480/962940363.py:7: FutureWarning: YF.download() has changed argument auto_adjust default to True\n",
      "  temp = yf.download(ticker, start = '2020-07-24', end = '2025-07-24')\n",
      "[*********************100%***********************]  1 of 1 completed\n"
     ]
    },
    {
     "name": "stdout",
     "output_type": "stream",
     "text": [
      "68\n"
     ]
    },
    {
     "name": "stderr",
     "output_type": "stream",
     "text": [
      "/var/folders/9k/ywvf61854_j0k_l2ksy1rrsc0000gn/T/ipykernel_35480/962940363.py:7: FutureWarning: YF.download() has changed argument auto_adjust default to True\n",
      "  temp = yf.download(ticker, start = '2020-07-24', end = '2025-07-24')\n",
      "[*********************100%***********************]  1 of 1 completed\n"
     ]
    },
    {
     "name": "stdout",
     "output_type": "stream",
     "text": [
      "69\n"
     ]
    },
    {
     "name": "stderr",
     "output_type": "stream",
     "text": [
      "/var/folders/9k/ywvf61854_j0k_l2ksy1rrsc0000gn/T/ipykernel_35480/962940363.py:7: FutureWarning: YF.download() has changed argument auto_adjust default to True\n",
      "  temp = yf.download(ticker, start = '2020-07-24', end = '2025-07-24')\n",
      "[*********************100%***********************]  1 of 1 completed\n"
     ]
    },
    {
     "name": "stdout",
     "output_type": "stream",
     "text": [
      "70\n"
     ]
    },
    {
     "name": "stderr",
     "output_type": "stream",
     "text": [
      "/var/folders/9k/ywvf61854_j0k_l2ksy1rrsc0000gn/T/ipykernel_35480/962940363.py:7: FutureWarning: YF.download() has changed argument auto_adjust default to True\n",
      "  temp = yf.download(ticker, start = '2020-07-24', end = '2025-07-24')\n",
      "[*********************100%***********************]  1 of 1 completed\n"
     ]
    },
    {
     "name": "stdout",
     "output_type": "stream",
     "text": [
      "71\n"
     ]
    },
    {
     "name": "stderr",
     "output_type": "stream",
     "text": [
      "/var/folders/9k/ywvf61854_j0k_l2ksy1rrsc0000gn/T/ipykernel_35480/962940363.py:7: FutureWarning: YF.download() has changed argument auto_adjust default to True\n",
      "  temp = yf.download(ticker, start = '2020-07-24', end = '2025-07-24')\n",
      "[*********************100%***********************]  1 of 1 completed\n"
     ]
    },
    {
     "name": "stdout",
     "output_type": "stream",
     "text": [
      "72\n"
     ]
    },
    {
     "name": "stderr",
     "output_type": "stream",
     "text": [
      "/var/folders/9k/ywvf61854_j0k_l2ksy1rrsc0000gn/T/ipykernel_35480/962940363.py:7: FutureWarning: YF.download() has changed argument auto_adjust default to True\n",
      "  temp = yf.download(ticker, start = '2020-07-24', end = '2025-07-24')\n",
      "[*********************100%***********************]  1 of 1 completed\n"
     ]
    },
    {
     "name": "stdout",
     "output_type": "stream",
     "text": [
      "73\n"
     ]
    },
    {
     "name": "stderr",
     "output_type": "stream",
     "text": [
      "/var/folders/9k/ywvf61854_j0k_l2ksy1rrsc0000gn/T/ipykernel_35480/962940363.py:7: FutureWarning: YF.download() has changed argument auto_adjust default to True\n",
      "  temp = yf.download(ticker, start = '2020-07-24', end = '2025-07-24')\n",
      "[*********************100%***********************]  1 of 1 completed\n"
     ]
    },
    {
     "name": "stdout",
     "output_type": "stream",
     "text": [
      "74\n"
     ]
    },
    {
     "name": "stderr",
     "output_type": "stream",
     "text": [
      "/var/folders/9k/ywvf61854_j0k_l2ksy1rrsc0000gn/T/ipykernel_35480/962940363.py:7: FutureWarning: YF.download() has changed argument auto_adjust default to True\n",
      "  temp = yf.download(ticker, start = '2020-07-24', end = '2025-07-24')\n",
      "[*********************100%***********************]  1 of 1 completed\n"
     ]
    },
    {
     "name": "stdout",
     "output_type": "stream",
     "text": [
      "75\n"
     ]
    },
    {
     "name": "stderr",
     "output_type": "stream",
     "text": [
      "/var/folders/9k/ywvf61854_j0k_l2ksy1rrsc0000gn/T/ipykernel_35480/962940363.py:7: FutureWarning: YF.download() has changed argument auto_adjust default to True\n",
      "  temp = yf.download(ticker, start = '2020-07-24', end = '2025-07-24')\n",
      "[*********************100%***********************]  1 of 1 completed\n",
      "\n",
      "1 Failed download:\n",
      "['BF.B']: YFPricesMissingError('possibly delisted; no price data found  (1d 2020-07-24 -> 2025-07-24)')\n",
      "/var/folders/9k/ywvf61854_j0k_l2ksy1rrsc0000gn/T/ipykernel_35480/962940363.py:7: FutureWarning: YF.download() has changed argument auto_adjust default to True\n",
      "  temp = yf.download(ticker, start = '2020-07-24', end = '2025-07-24')\n"
     ]
    },
    {
     "name": "stdout",
     "output_type": "stream",
     "text": [
      "76\n"
     ]
    },
    {
     "name": "stderr",
     "output_type": "stream",
     "text": [
      "[*********************100%***********************]  1 of 1 completed\n"
     ]
    },
    {
     "name": "stdout",
     "output_type": "stream",
     "text": [
      "77\n"
     ]
    },
    {
     "name": "stderr",
     "output_type": "stream",
     "text": [
      "/var/folders/9k/ywvf61854_j0k_l2ksy1rrsc0000gn/T/ipykernel_35480/962940363.py:7: FutureWarning: YF.download() has changed argument auto_adjust default to True\n",
      "  temp = yf.download(ticker, start = '2020-07-24', end = '2025-07-24')\n",
      "[*********************100%***********************]  1 of 1 completed\n"
     ]
    },
    {
     "name": "stdout",
     "output_type": "stream",
     "text": [
      "78\n"
     ]
    },
    {
     "name": "stderr",
     "output_type": "stream",
     "text": [
      "/var/folders/9k/ywvf61854_j0k_l2ksy1rrsc0000gn/T/ipykernel_35480/962940363.py:7: FutureWarning: YF.download() has changed argument auto_adjust default to True\n",
      "  temp = yf.download(ticker, start = '2020-07-24', end = '2025-07-24')\n",
      "[*********************100%***********************]  1 of 1 completed\n"
     ]
    },
    {
     "name": "stdout",
     "output_type": "stream",
     "text": [
      "79\n"
     ]
    },
    {
     "name": "stderr",
     "output_type": "stream",
     "text": [
      "/var/folders/9k/ywvf61854_j0k_l2ksy1rrsc0000gn/T/ipykernel_35480/962940363.py:7: FutureWarning: YF.download() has changed argument auto_adjust default to True\n",
      "  temp = yf.download(ticker, start = '2020-07-24', end = '2025-07-24')\n",
      "[*********************100%***********************]  1 of 1 completed\n"
     ]
    },
    {
     "name": "stdout",
     "output_type": "stream",
     "text": [
      "80\n"
     ]
    },
    {
     "name": "stderr",
     "output_type": "stream",
     "text": [
      "/var/folders/9k/ywvf61854_j0k_l2ksy1rrsc0000gn/T/ipykernel_35480/962940363.py:7: FutureWarning: YF.download() has changed argument auto_adjust default to True\n",
      "  temp = yf.download(ticker, start = '2020-07-24', end = '2025-07-24')\n",
      "[*********************100%***********************]  1 of 1 completed\n"
     ]
    },
    {
     "name": "stdout",
     "output_type": "stream",
     "text": [
      "81\n"
     ]
    },
    {
     "name": "stderr",
     "output_type": "stream",
     "text": [
      "/var/folders/9k/ywvf61854_j0k_l2ksy1rrsc0000gn/T/ipykernel_35480/962940363.py:7: FutureWarning: YF.download() has changed argument auto_adjust default to True\n",
      "  temp = yf.download(ticker, start = '2020-07-24', end = '2025-07-24')\n",
      "[*********************100%***********************]  1 of 1 completed\n"
     ]
    },
    {
     "name": "stdout",
     "output_type": "stream",
     "text": [
      "82\n"
     ]
    },
    {
     "name": "stderr",
     "output_type": "stream",
     "text": [
      "/var/folders/9k/ywvf61854_j0k_l2ksy1rrsc0000gn/T/ipykernel_35480/962940363.py:7: FutureWarning: YF.download() has changed argument auto_adjust default to True\n",
      "  temp = yf.download(ticker, start = '2020-07-24', end = '2025-07-24')\n",
      "[*********************100%***********************]  1 of 1 completed\n"
     ]
    },
    {
     "name": "stdout",
     "output_type": "stream",
     "text": [
      "83\n"
     ]
    },
    {
     "name": "stderr",
     "output_type": "stream",
     "text": [
      "/var/folders/9k/ywvf61854_j0k_l2ksy1rrsc0000gn/T/ipykernel_35480/962940363.py:7: FutureWarning: YF.download() has changed argument auto_adjust default to True\n",
      "  temp = yf.download(ticker, start = '2020-07-24', end = '2025-07-24')\n",
      "[*********************100%***********************]  1 of 1 completed\n"
     ]
    },
    {
     "name": "stdout",
     "output_type": "stream",
     "text": [
      "84\n"
     ]
    },
    {
     "name": "stderr",
     "output_type": "stream",
     "text": [
      "/var/folders/9k/ywvf61854_j0k_l2ksy1rrsc0000gn/T/ipykernel_35480/962940363.py:7: FutureWarning: YF.download() has changed argument auto_adjust default to True\n",
      "  temp = yf.download(ticker, start = '2020-07-24', end = '2025-07-24')\n",
      "[*********************100%***********************]  1 of 1 completed\n"
     ]
    },
    {
     "name": "stdout",
     "output_type": "stream",
     "text": [
      "85\n"
     ]
    },
    {
     "name": "stderr",
     "output_type": "stream",
     "text": [
      "/var/folders/9k/ywvf61854_j0k_l2ksy1rrsc0000gn/T/ipykernel_35480/962940363.py:7: FutureWarning: YF.download() has changed argument auto_adjust default to True\n",
      "  temp = yf.download(ticker, start = '2020-07-24', end = '2025-07-24')\n",
      "[*********************100%***********************]  1 of 1 completed\n"
     ]
    },
    {
     "name": "stdout",
     "output_type": "stream",
     "text": [
      "86\n"
     ]
    },
    {
     "name": "stderr",
     "output_type": "stream",
     "text": [
      "/var/folders/9k/ywvf61854_j0k_l2ksy1rrsc0000gn/T/ipykernel_35480/962940363.py:7: FutureWarning: YF.download() has changed argument auto_adjust default to True\n",
      "  temp = yf.download(ticker, start = '2020-07-24', end = '2025-07-24')\n",
      "[*********************100%***********************]  1 of 1 completed\n"
     ]
    },
    {
     "name": "stdout",
     "output_type": "stream",
     "text": [
      "87\n"
     ]
    },
    {
     "name": "stderr",
     "output_type": "stream",
     "text": [
      "/var/folders/9k/ywvf61854_j0k_l2ksy1rrsc0000gn/T/ipykernel_35480/962940363.py:7: FutureWarning: YF.download() has changed argument auto_adjust default to True\n",
      "  temp = yf.download(ticker, start = '2020-07-24', end = '2025-07-24')\n",
      "[*********************100%***********************]  1 of 1 completed\n"
     ]
    },
    {
     "name": "stdout",
     "output_type": "stream",
     "text": [
      "88\n"
     ]
    },
    {
     "name": "stderr",
     "output_type": "stream",
     "text": [
      "/var/folders/9k/ywvf61854_j0k_l2ksy1rrsc0000gn/T/ipykernel_35480/962940363.py:7: FutureWarning: YF.download() has changed argument auto_adjust default to True\n",
      "  temp = yf.download(ticker, start = '2020-07-24', end = '2025-07-24')\n",
      "[*********************100%***********************]  1 of 1 completed\n"
     ]
    },
    {
     "name": "stdout",
     "output_type": "stream",
     "text": [
      "89\n"
     ]
    },
    {
     "name": "stderr",
     "output_type": "stream",
     "text": [
      "/var/folders/9k/ywvf61854_j0k_l2ksy1rrsc0000gn/T/ipykernel_35480/962940363.py:7: FutureWarning: YF.download() has changed argument auto_adjust default to True\n",
      "  temp = yf.download(ticker, start = '2020-07-24', end = '2025-07-24')\n",
      "[*********************100%***********************]  1 of 1 completed\n"
     ]
    },
    {
     "name": "stdout",
     "output_type": "stream",
     "text": [
      "90\n"
     ]
    },
    {
     "name": "stderr",
     "output_type": "stream",
     "text": [
      "/var/folders/9k/ywvf61854_j0k_l2ksy1rrsc0000gn/T/ipykernel_35480/962940363.py:7: FutureWarning: YF.download() has changed argument auto_adjust default to True\n",
      "  temp = yf.download(ticker, start = '2020-07-24', end = '2025-07-24')\n",
      "[*********************100%***********************]  1 of 1 completed\n"
     ]
    },
    {
     "name": "stdout",
     "output_type": "stream",
     "text": [
      "91\n"
     ]
    },
    {
     "name": "stderr",
     "output_type": "stream",
     "text": [
      "/var/folders/9k/ywvf61854_j0k_l2ksy1rrsc0000gn/T/ipykernel_35480/962940363.py:7: FutureWarning: YF.download() has changed argument auto_adjust default to True\n",
      "  temp = yf.download(ticker, start = '2020-07-24', end = '2025-07-24')\n",
      "[*********************100%***********************]  1 of 1 completed\n"
     ]
    },
    {
     "name": "stdout",
     "output_type": "stream",
     "text": [
      "92\n"
     ]
    },
    {
     "name": "stderr",
     "output_type": "stream",
     "text": [
      "/var/folders/9k/ywvf61854_j0k_l2ksy1rrsc0000gn/T/ipykernel_35480/962940363.py:7: FutureWarning: YF.download() has changed argument auto_adjust default to True\n",
      "  temp = yf.download(ticker, start = '2020-07-24', end = '2025-07-24')\n",
      "[*********************100%***********************]  1 of 1 completed\n"
     ]
    },
    {
     "name": "stdout",
     "output_type": "stream",
     "text": [
      "93\n"
     ]
    },
    {
     "name": "stderr",
     "output_type": "stream",
     "text": [
      "/var/folders/9k/ywvf61854_j0k_l2ksy1rrsc0000gn/T/ipykernel_35480/962940363.py:7: FutureWarning: YF.download() has changed argument auto_adjust default to True\n",
      "  temp = yf.download(ticker, start = '2020-07-24', end = '2025-07-24')\n",
      "[*********************100%***********************]  1 of 1 completed\n"
     ]
    },
    {
     "name": "stdout",
     "output_type": "stream",
     "text": [
      "94\n"
     ]
    },
    {
     "name": "stderr",
     "output_type": "stream",
     "text": [
      "/var/folders/9k/ywvf61854_j0k_l2ksy1rrsc0000gn/T/ipykernel_35480/962940363.py:7: FutureWarning: YF.download() has changed argument auto_adjust default to True\n",
      "  temp = yf.download(ticker, start = '2020-07-24', end = '2025-07-24')\n",
      "[*********************100%***********************]  1 of 1 completed\n"
     ]
    },
    {
     "name": "stdout",
     "output_type": "stream",
     "text": [
      "95\n"
     ]
    },
    {
     "name": "stderr",
     "output_type": "stream",
     "text": [
      "/var/folders/9k/ywvf61854_j0k_l2ksy1rrsc0000gn/T/ipykernel_35480/962940363.py:7: FutureWarning: YF.download() has changed argument auto_adjust default to True\n",
      "  temp = yf.download(ticker, start = '2020-07-24', end = '2025-07-24')\n",
      "[*********************100%***********************]  1 of 1 completed\n"
     ]
    },
    {
     "name": "stdout",
     "output_type": "stream",
     "text": [
      "96\n"
     ]
    },
    {
     "name": "stderr",
     "output_type": "stream",
     "text": [
      "/var/folders/9k/ywvf61854_j0k_l2ksy1rrsc0000gn/T/ipykernel_35480/962940363.py:7: FutureWarning: YF.download() has changed argument auto_adjust default to True\n",
      "  temp = yf.download(ticker, start = '2020-07-24', end = '2025-07-24')\n",
      "[*********************100%***********************]  1 of 1 completed\n"
     ]
    },
    {
     "name": "stdout",
     "output_type": "stream",
     "text": [
      "97\n"
     ]
    },
    {
     "name": "stderr",
     "output_type": "stream",
     "text": [
      "/var/folders/9k/ywvf61854_j0k_l2ksy1rrsc0000gn/T/ipykernel_35480/962940363.py:7: FutureWarning: YF.download() has changed argument auto_adjust default to True\n",
      "  temp = yf.download(ticker, start = '2020-07-24', end = '2025-07-24')\n",
      "[*********************100%***********************]  1 of 1 completed\n"
     ]
    },
    {
     "name": "stdout",
     "output_type": "stream",
     "text": [
      "98\n"
     ]
    },
    {
     "name": "stderr",
     "output_type": "stream",
     "text": [
      "/var/folders/9k/ywvf61854_j0k_l2ksy1rrsc0000gn/T/ipykernel_35480/962940363.py:7: FutureWarning: YF.download() has changed argument auto_adjust default to True\n",
      "  temp = yf.download(ticker, start = '2020-07-24', end = '2025-07-24')\n",
      "[*********************100%***********************]  1 of 1 completed\n"
     ]
    },
    {
     "name": "stdout",
     "output_type": "stream",
     "text": [
      "99\n"
     ]
    },
    {
     "name": "stderr",
     "output_type": "stream",
     "text": [
      "/var/folders/9k/ywvf61854_j0k_l2ksy1rrsc0000gn/T/ipykernel_35480/962940363.py:7: FutureWarning: YF.download() has changed argument auto_adjust default to True\n",
      "  temp = yf.download(ticker, start = '2020-07-24', end = '2025-07-24')\n",
      "[*********************100%***********************]  1 of 1 completed\n"
     ]
    },
    {
     "name": "stdout",
     "output_type": "stream",
     "text": [
      "100\n"
     ]
    },
    {
     "name": "stderr",
     "output_type": "stream",
     "text": [
      "/var/folders/9k/ywvf61854_j0k_l2ksy1rrsc0000gn/T/ipykernel_35480/962940363.py:7: FutureWarning: YF.download() has changed argument auto_adjust default to True\n",
      "  temp = yf.download(ticker, start = '2020-07-24', end = '2025-07-24')\n",
      "[*********************100%***********************]  1 of 1 completed\n"
     ]
    },
    {
     "name": "stdout",
     "output_type": "stream",
     "text": [
      "101\n"
     ]
    },
    {
     "name": "stderr",
     "output_type": "stream",
     "text": [
      "/var/folders/9k/ywvf61854_j0k_l2ksy1rrsc0000gn/T/ipykernel_35480/962940363.py:7: FutureWarning: YF.download() has changed argument auto_adjust default to True\n",
      "  temp = yf.download(ticker, start = '2020-07-24', end = '2025-07-24')\n",
      "[*********************100%***********************]  1 of 1 completed\n"
     ]
    },
    {
     "name": "stdout",
     "output_type": "stream",
     "text": [
      "102\n"
     ]
    },
    {
     "name": "stderr",
     "output_type": "stream",
     "text": [
      "/var/folders/9k/ywvf61854_j0k_l2ksy1rrsc0000gn/T/ipykernel_35480/962940363.py:7: FutureWarning: YF.download() has changed argument auto_adjust default to True\n",
      "  temp = yf.download(ticker, start = '2020-07-24', end = '2025-07-24')\n",
      "[*********************100%***********************]  1 of 1 completed\n"
     ]
    },
    {
     "name": "stdout",
     "output_type": "stream",
     "text": [
      "103\n"
     ]
    },
    {
     "name": "stderr",
     "output_type": "stream",
     "text": [
      "/var/folders/9k/ywvf61854_j0k_l2ksy1rrsc0000gn/T/ipykernel_35480/962940363.py:7: FutureWarning: YF.download() has changed argument auto_adjust default to True\n",
      "  temp = yf.download(ticker, start = '2020-07-24', end = '2025-07-24')\n",
      "[*********************100%***********************]  1 of 1 completed\n"
     ]
    },
    {
     "name": "stdout",
     "output_type": "stream",
     "text": [
      "104\n"
     ]
    },
    {
     "name": "stderr",
     "output_type": "stream",
     "text": [
      "/var/folders/9k/ywvf61854_j0k_l2ksy1rrsc0000gn/T/ipykernel_35480/962940363.py:7: FutureWarning: YF.download() has changed argument auto_adjust default to True\n",
      "  temp = yf.download(ticker, start = '2020-07-24', end = '2025-07-24')\n",
      "[*********************100%***********************]  1 of 1 completed\n"
     ]
    },
    {
     "name": "stdout",
     "output_type": "stream",
     "text": [
      "105\n"
     ]
    },
    {
     "name": "stderr",
     "output_type": "stream",
     "text": [
      "/var/folders/9k/ywvf61854_j0k_l2ksy1rrsc0000gn/T/ipykernel_35480/962940363.py:7: FutureWarning: YF.download() has changed argument auto_adjust default to True\n",
      "  temp = yf.download(ticker, start = '2020-07-24', end = '2025-07-24')\n",
      "[*********************100%***********************]  1 of 1 completed\n"
     ]
    },
    {
     "name": "stdout",
     "output_type": "stream",
     "text": [
      "106\n"
     ]
    },
    {
     "name": "stderr",
     "output_type": "stream",
     "text": [
      "/var/folders/9k/ywvf61854_j0k_l2ksy1rrsc0000gn/T/ipykernel_35480/962940363.py:7: FutureWarning: YF.download() has changed argument auto_adjust default to True\n",
      "  temp = yf.download(ticker, start = '2020-07-24', end = '2025-07-24')\n",
      "[*********************100%***********************]  1 of 1 completed\n"
     ]
    },
    {
     "name": "stdout",
     "output_type": "stream",
     "text": [
      "107\n"
     ]
    },
    {
     "name": "stderr",
     "output_type": "stream",
     "text": [
      "/var/folders/9k/ywvf61854_j0k_l2ksy1rrsc0000gn/T/ipykernel_35480/962940363.py:7: FutureWarning: YF.download() has changed argument auto_adjust default to True\n",
      "  temp = yf.download(ticker, start = '2020-07-24', end = '2025-07-24')\n",
      "[*********************100%***********************]  1 of 1 completed\n"
     ]
    },
    {
     "name": "stdout",
     "output_type": "stream",
     "text": [
      "108\n"
     ]
    },
    {
     "name": "stderr",
     "output_type": "stream",
     "text": [
      "/var/folders/9k/ywvf61854_j0k_l2ksy1rrsc0000gn/T/ipykernel_35480/962940363.py:7: FutureWarning: YF.download() has changed argument auto_adjust default to True\n",
      "  temp = yf.download(ticker, start = '2020-07-24', end = '2025-07-24')\n",
      "[*********************100%***********************]  1 of 1 completed\n"
     ]
    },
    {
     "name": "stdout",
     "output_type": "stream",
     "text": [
      "109\n"
     ]
    },
    {
     "name": "stderr",
     "output_type": "stream",
     "text": [
      "/var/folders/9k/ywvf61854_j0k_l2ksy1rrsc0000gn/T/ipykernel_35480/962940363.py:7: FutureWarning: YF.download() has changed argument auto_adjust default to True\n",
      "  temp = yf.download(ticker, start = '2020-07-24', end = '2025-07-24')\n",
      "[*********************100%***********************]  1 of 1 completed\n"
     ]
    },
    {
     "name": "stdout",
     "output_type": "stream",
     "text": [
      "110\n"
     ]
    },
    {
     "name": "stderr",
     "output_type": "stream",
     "text": [
      "/var/folders/9k/ywvf61854_j0k_l2ksy1rrsc0000gn/T/ipykernel_35480/962940363.py:7: FutureWarning: YF.download() has changed argument auto_adjust default to True\n",
      "  temp = yf.download(ticker, start = '2020-07-24', end = '2025-07-24')\n",
      "[*********************100%***********************]  1 of 1 completed\n"
     ]
    },
    {
     "name": "stdout",
     "output_type": "stream",
     "text": [
      "111\n"
     ]
    },
    {
     "name": "stderr",
     "output_type": "stream",
     "text": [
      "/var/folders/9k/ywvf61854_j0k_l2ksy1rrsc0000gn/T/ipykernel_35480/962940363.py:7: FutureWarning: YF.download() has changed argument auto_adjust default to True\n",
      "  temp = yf.download(ticker, start = '2020-07-24', end = '2025-07-24')\n",
      "[*********************100%***********************]  1 of 1 completed\n"
     ]
    },
    {
     "name": "stdout",
     "output_type": "stream",
     "text": [
      "112\n"
     ]
    },
    {
     "name": "stderr",
     "output_type": "stream",
     "text": [
      "/var/folders/9k/ywvf61854_j0k_l2ksy1rrsc0000gn/T/ipykernel_35480/962940363.py:7: FutureWarning: YF.download() has changed argument auto_adjust default to True\n",
      "  temp = yf.download(ticker, start = '2020-07-24', end = '2025-07-24')\n",
      "[*********************100%***********************]  1 of 1 completed\n"
     ]
    },
    {
     "name": "stdout",
     "output_type": "stream",
     "text": [
      "113\n"
     ]
    },
    {
     "name": "stderr",
     "output_type": "stream",
     "text": [
      "/var/folders/9k/ywvf61854_j0k_l2ksy1rrsc0000gn/T/ipykernel_35480/962940363.py:7: FutureWarning: YF.download() has changed argument auto_adjust default to True\n",
      "  temp = yf.download(ticker, start = '2020-07-24', end = '2025-07-24')\n",
      "[*********************100%***********************]  1 of 1 completed\n"
     ]
    },
    {
     "name": "stdout",
     "output_type": "stream",
     "text": [
      "114\n"
     ]
    },
    {
     "name": "stderr",
     "output_type": "stream",
     "text": [
      "/var/folders/9k/ywvf61854_j0k_l2ksy1rrsc0000gn/T/ipykernel_35480/962940363.py:7: FutureWarning: YF.download() has changed argument auto_adjust default to True\n",
      "  temp = yf.download(ticker, start = '2020-07-24', end = '2025-07-24')\n",
      "[*********************100%***********************]  1 of 1 completed\n"
     ]
    },
    {
     "name": "stdout",
     "output_type": "stream",
     "text": [
      "115\n"
     ]
    },
    {
     "name": "stderr",
     "output_type": "stream",
     "text": [
      "/var/folders/9k/ywvf61854_j0k_l2ksy1rrsc0000gn/T/ipykernel_35480/962940363.py:7: FutureWarning: YF.download() has changed argument auto_adjust default to True\n",
      "  temp = yf.download(ticker, start = '2020-07-24', end = '2025-07-24')\n",
      "[*********************100%***********************]  1 of 1 completed\n",
      "/var/folders/9k/ywvf61854_j0k_l2ksy1rrsc0000gn/T/ipykernel_35480/962940363.py:7: FutureWarning: YF.download() has changed argument auto_adjust default to True\n",
      "  temp = yf.download(ticker, start = '2020-07-24', end = '2025-07-24')\n"
     ]
    },
    {
     "name": "stdout",
     "output_type": "stream",
     "text": [
      "116\n"
     ]
    },
    {
     "name": "stderr",
     "output_type": "stream",
     "text": [
      "[*********************100%***********************]  1 of 1 completed\n"
     ]
    },
    {
     "name": "stdout",
     "output_type": "stream",
     "text": [
      "117\n"
     ]
    },
    {
     "name": "stderr",
     "output_type": "stream",
     "text": [
      "/var/folders/9k/ywvf61854_j0k_l2ksy1rrsc0000gn/T/ipykernel_35480/962940363.py:7: FutureWarning: YF.download() has changed argument auto_adjust default to True\n",
      "  temp = yf.download(ticker, start = '2020-07-24', end = '2025-07-24')\n",
      "[*********************100%***********************]  1 of 1 completed\n"
     ]
    },
    {
     "name": "stdout",
     "output_type": "stream",
     "text": [
      "118\n"
     ]
    },
    {
     "name": "stderr",
     "output_type": "stream",
     "text": [
      "/var/folders/9k/ywvf61854_j0k_l2ksy1rrsc0000gn/T/ipykernel_35480/962940363.py:7: FutureWarning: YF.download() has changed argument auto_adjust default to True\n",
      "  temp = yf.download(ticker, start = '2020-07-24', end = '2025-07-24')\n",
      "[*********************100%***********************]  1 of 1 completed\n"
     ]
    },
    {
     "name": "stdout",
     "output_type": "stream",
     "text": [
      "119\n"
     ]
    },
    {
     "name": "stderr",
     "output_type": "stream",
     "text": [
      "/var/folders/9k/ywvf61854_j0k_l2ksy1rrsc0000gn/T/ipykernel_35480/962940363.py:7: FutureWarning: YF.download() has changed argument auto_adjust default to True\n",
      "  temp = yf.download(ticker, start = '2020-07-24', end = '2025-07-24')\n",
      "[*********************100%***********************]  1 of 1 completed\n"
     ]
    },
    {
     "name": "stdout",
     "output_type": "stream",
     "text": [
      "120\n"
     ]
    },
    {
     "name": "stderr",
     "output_type": "stream",
     "text": [
      "/var/folders/9k/ywvf61854_j0k_l2ksy1rrsc0000gn/T/ipykernel_35480/962940363.py:7: FutureWarning: YF.download() has changed argument auto_adjust default to True\n",
      "  temp = yf.download(ticker, start = '2020-07-24', end = '2025-07-24')\n",
      "[*********************100%***********************]  1 of 1 completed\n"
     ]
    },
    {
     "name": "stdout",
     "output_type": "stream",
     "text": [
      "121\n"
     ]
    },
    {
     "name": "stderr",
     "output_type": "stream",
     "text": [
      "/var/folders/9k/ywvf61854_j0k_l2ksy1rrsc0000gn/T/ipykernel_35480/962940363.py:7: FutureWarning: YF.download() has changed argument auto_adjust default to True\n",
      "  temp = yf.download(ticker, start = '2020-07-24', end = '2025-07-24')\n",
      "[*********************100%***********************]  1 of 1 completed\n"
     ]
    },
    {
     "name": "stdout",
     "output_type": "stream",
     "text": [
      "122\n"
     ]
    },
    {
     "name": "stderr",
     "output_type": "stream",
     "text": [
      "/var/folders/9k/ywvf61854_j0k_l2ksy1rrsc0000gn/T/ipykernel_35480/962940363.py:7: FutureWarning: YF.download() has changed argument auto_adjust default to True\n",
      "  temp = yf.download(ticker, start = '2020-07-24', end = '2025-07-24')\n",
      "[*********************100%***********************]  1 of 1 completed\n",
      "/var/folders/9k/ywvf61854_j0k_l2ksy1rrsc0000gn/T/ipykernel_35480/962940363.py:7: FutureWarning: YF.download() has changed argument auto_adjust default to True\n",
      "  temp = yf.download(ticker, start = '2020-07-24', end = '2025-07-24')\n"
     ]
    },
    {
     "name": "stdout",
     "output_type": "stream",
     "text": [
      "123\n"
     ]
    },
    {
     "name": "stderr",
     "output_type": "stream",
     "text": [
      "[*********************100%***********************]  1 of 1 completed\n"
     ]
    },
    {
     "name": "stdout",
     "output_type": "stream",
     "text": [
      "124\n"
     ]
    },
    {
     "name": "stderr",
     "output_type": "stream",
     "text": [
      "/var/folders/9k/ywvf61854_j0k_l2ksy1rrsc0000gn/T/ipykernel_35480/962940363.py:7: FutureWarning: YF.download() has changed argument auto_adjust default to True\n",
      "  temp = yf.download(ticker, start = '2020-07-24', end = '2025-07-24')\n",
      "[*********************100%***********************]  1 of 1 completed\n"
     ]
    },
    {
     "name": "stdout",
     "output_type": "stream",
     "text": [
      "125\n"
     ]
    },
    {
     "name": "stderr",
     "output_type": "stream",
     "text": [
      "/var/folders/9k/ywvf61854_j0k_l2ksy1rrsc0000gn/T/ipykernel_35480/962940363.py:7: FutureWarning: YF.download() has changed argument auto_adjust default to True\n",
      "  temp = yf.download(ticker, start = '2020-07-24', end = '2025-07-24')\n",
      "[*********************100%***********************]  1 of 1 completed\n"
     ]
    },
    {
     "name": "stdout",
     "output_type": "stream",
     "text": [
      "126\n"
     ]
    },
    {
     "name": "stderr",
     "output_type": "stream",
     "text": [
      "/var/folders/9k/ywvf61854_j0k_l2ksy1rrsc0000gn/T/ipykernel_35480/962940363.py:7: FutureWarning: YF.download() has changed argument auto_adjust default to True\n",
      "  temp = yf.download(ticker, start = '2020-07-24', end = '2025-07-24')\n",
      "[*********************100%***********************]  1 of 1 completed\n"
     ]
    },
    {
     "name": "stdout",
     "output_type": "stream",
     "text": [
      "127\n"
     ]
    },
    {
     "name": "stderr",
     "output_type": "stream",
     "text": [
      "/var/folders/9k/ywvf61854_j0k_l2ksy1rrsc0000gn/T/ipykernel_35480/962940363.py:7: FutureWarning: YF.download() has changed argument auto_adjust default to True\n",
      "  temp = yf.download(ticker, start = '2020-07-24', end = '2025-07-24')\n",
      "[*********************100%***********************]  1 of 1 completed\n"
     ]
    },
    {
     "name": "stdout",
     "output_type": "stream",
     "text": [
      "128\n"
     ]
    },
    {
     "name": "stderr",
     "output_type": "stream",
     "text": [
      "/var/folders/9k/ywvf61854_j0k_l2ksy1rrsc0000gn/T/ipykernel_35480/962940363.py:7: FutureWarning: YF.download() has changed argument auto_adjust default to True\n",
      "  temp = yf.download(ticker, start = '2020-07-24', end = '2025-07-24')\n",
      "[*********************100%***********************]  1 of 1 completed\n"
     ]
    },
    {
     "name": "stdout",
     "output_type": "stream",
     "text": [
      "129\n"
     ]
    },
    {
     "name": "stderr",
     "output_type": "stream",
     "text": [
      "/var/folders/9k/ywvf61854_j0k_l2ksy1rrsc0000gn/T/ipykernel_35480/962940363.py:7: FutureWarning: YF.download() has changed argument auto_adjust default to True\n",
      "  temp = yf.download(ticker, start = '2020-07-24', end = '2025-07-24')\n",
      "[*********************100%***********************]  1 of 1 completed\n"
     ]
    },
    {
     "name": "stdout",
     "output_type": "stream",
     "text": [
      "130\n"
     ]
    },
    {
     "name": "stderr",
     "output_type": "stream",
     "text": [
      "/var/folders/9k/ywvf61854_j0k_l2ksy1rrsc0000gn/T/ipykernel_35480/962940363.py:7: FutureWarning: YF.download() has changed argument auto_adjust default to True\n",
      "  temp = yf.download(ticker, start = '2020-07-24', end = '2025-07-24')\n",
      "[*********************100%***********************]  1 of 1 completed\n"
     ]
    },
    {
     "name": "stdout",
     "output_type": "stream",
     "text": [
      "131\n"
     ]
    },
    {
     "name": "stderr",
     "output_type": "stream",
     "text": [
      "/var/folders/9k/ywvf61854_j0k_l2ksy1rrsc0000gn/T/ipykernel_35480/962940363.py:7: FutureWarning: YF.download() has changed argument auto_adjust default to True\n",
      "  temp = yf.download(ticker, start = '2020-07-24', end = '2025-07-24')\n",
      "[*********************100%***********************]  1 of 1 completed\n"
     ]
    },
    {
     "name": "stdout",
     "output_type": "stream",
     "text": [
      "132\n"
     ]
    },
    {
     "name": "stderr",
     "output_type": "stream",
     "text": [
      "/var/folders/9k/ywvf61854_j0k_l2ksy1rrsc0000gn/T/ipykernel_35480/962940363.py:7: FutureWarning: YF.download() has changed argument auto_adjust default to True\n",
      "  temp = yf.download(ticker, start = '2020-07-24', end = '2025-07-24')\n",
      "[*********************100%***********************]  1 of 1 completed\n"
     ]
    },
    {
     "name": "stdout",
     "output_type": "stream",
     "text": [
      "133\n"
     ]
    },
    {
     "name": "stderr",
     "output_type": "stream",
     "text": [
      "/var/folders/9k/ywvf61854_j0k_l2ksy1rrsc0000gn/T/ipykernel_35480/962940363.py:7: FutureWarning: YF.download() has changed argument auto_adjust default to True\n",
      "  temp = yf.download(ticker, start = '2020-07-24', end = '2025-07-24')\n",
      "[*********************100%***********************]  1 of 1 completed\n"
     ]
    },
    {
     "name": "stdout",
     "output_type": "stream",
     "text": [
      "134\n"
     ]
    },
    {
     "name": "stderr",
     "output_type": "stream",
     "text": [
      "/var/folders/9k/ywvf61854_j0k_l2ksy1rrsc0000gn/T/ipykernel_35480/962940363.py:7: FutureWarning: YF.download() has changed argument auto_adjust default to True\n",
      "  temp = yf.download(ticker, start = '2020-07-24', end = '2025-07-24')\n",
      "[*********************100%***********************]  1 of 1 completed\n"
     ]
    },
    {
     "name": "stdout",
     "output_type": "stream",
     "text": [
      "135\n"
     ]
    },
    {
     "name": "stderr",
     "output_type": "stream",
     "text": [
      "/var/folders/9k/ywvf61854_j0k_l2ksy1rrsc0000gn/T/ipykernel_35480/962940363.py:7: FutureWarning: YF.download() has changed argument auto_adjust default to True\n",
      "  temp = yf.download(ticker, start = '2020-07-24', end = '2025-07-24')\n",
      "[*********************100%***********************]  1 of 1 completed\n"
     ]
    },
    {
     "name": "stdout",
     "output_type": "stream",
     "text": [
      "136\n"
     ]
    },
    {
     "name": "stderr",
     "output_type": "stream",
     "text": [
      "/var/folders/9k/ywvf61854_j0k_l2ksy1rrsc0000gn/T/ipykernel_35480/962940363.py:7: FutureWarning: YF.download() has changed argument auto_adjust default to True\n",
      "  temp = yf.download(ticker, start = '2020-07-24', end = '2025-07-24')\n",
      "[*********************100%***********************]  1 of 1 completed\n"
     ]
    },
    {
     "name": "stdout",
     "output_type": "stream",
     "text": [
      "137\n"
     ]
    },
    {
     "name": "stderr",
     "output_type": "stream",
     "text": [
      "/var/folders/9k/ywvf61854_j0k_l2ksy1rrsc0000gn/T/ipykernel_35480/962940363.py:7: FutureWarning: YF.download() has changed argument auto_adjust default to True\n",
      "  temp = yf.download(ticker, start = '2020-07-24', end = '2025-07-24')\n",
      "[*********************100%***********************]  1 of 1 completed\n"
     ]
    },
    {
     "name": "stdout",
     "output_type": "stream",
     "text": [
      "138\n"
     ]
    },
    {
     "name": "stderr",
     "output_type": "stream",
     "text": [
      "/var/folders/9k/ywvf61854_j0k_l2ksy1rrsc0000gn/T/ipykernel_35480/962940363.py:7: FutureWarning: YF.download() has changed argument auto_adjust default to True\n",
      "  temp = yf.download(ticker, start = '2020-07-24', end = '2025-07-24')\n",
      "[*********************100%***********************]  1 of 1 completed\n"
     ]
    },
    {
     "name": "stdout",
     "output_type": "stream",
     "text": [
      "139\n"
     ]
    },
    {
     "name": "stderr",
     "output_type": "stream",
     "text": [
      "/var/folders/9k/ywvf61854_j0k_l2ksy1rrsc0000gn/T/ipykernel_35480/962940363.py:7: FutureWarning: YF.download() has changed argument auto_adjust default to True\n",
      "  temp = yf.download(ticker, start = '2020-07-24', end = '2025-07-24')\n",
      "[*********************100%***********************]  1 of 1 completed\n"
     ]
    },
    {
     "name": "stdout",
     "output_type": "stream",
     "text": [
      "140\n"
     ]
    },
    {
     "name": "stderr",
     "output_type": "stream",
     "text": [
      "/var/folders/9k/ywvf61854_j0k_l2ksy1rrsc0000gn/T/ipykernel_35480/962940363.py:7: FutureWarning: YF.download() has changed argument auto_adjust default to True\n",
      "  temp = yf.download(ticker, start = '2020-07-24', end = '2025-07-24')\n",
      "[*********************100%***********************]  1 of 1 completed\n"
     ]
    },
    {
     "name": "stdout",
     "output_type": "stream",
     "text": [
      "141\n"
     ]
    },
    {
     "name": "stderr",
     "output_type": "stream",
     "text": [
      "/var/folders/9k/ywvf61854_j0k_l2ksy1rrsc0000gn/T/ipykernel_35480/962940363.py:7: FutureWarning: YF.download() has changed argument auto_adjust default to True\n",
      "  temp = yf.download(ticker, start = '2020-07-24', end = '2025-07-24')\n",
      "[*********************100%***********************]  1 of 1 completed\n"
     ]
    },
    {
     "name": "stdout",
     "output_type": "stream",
     "text": [
      "142\n"
     ]
    },
    {
     "name": "stderr",
     "output_type": "stream",
     "text": [
      "/var/folders/9k/ywvf61854_j0k_l2ksy1rrsc0000gn/T/ipykernel_35480/962940363.py:7: FutureWarning: YF.download() has changed argument auto_adjust default to True\n",
      "  temp = yf.download(ticker, start = '2020-07-24', end = '2025-07-24')\n",
      "[*********************100%***********************]  1 of 1 completed\n"
     ]
    },
    {
     "name": "stdout",
     "output_type": "stream",
     "text": [
      "143\n"
     ]
    },
    {
     "name": "stderr",
     "output_type": "stream",
     "text": [
      "/var/folders/9k/ywvf61854_j0k_l2ksy1rrsc0000gn/T/ipykernel_35480/962940363.py:7: FutureWarning: YF.download() has changed argument auto_adjust default to True\n",
      "  temp = yf.download(ticker, start = '2020-07-24', end = '2025-07-24')\n",
      "[*********************100%***********************]  1 of 1 completed\n"
     ]
    },
    {
     "name": "stdout",
     "output_type": "stream",
     "text": [
      "144\n"
     ]
    },
    {
     "name": "stderr",
     "output_type": "stream",
     "text": [
      "/var/folders/9k/ywvf61854_j0k_l2ksy1rrsc0000gn/T/ipykernel_35480/962940363.py:7: FutureWarning: YF.download() has changed argument auto_adjust default to True\n",
      "  temp = yf.download(ticker, start = '2020-07-24', end = '2025-07-24')\n",
      "[*********************100%***********************]  1 of 1 completed\n"
     ]
    },
    {
     "name": "stdout",
     "output_type": "stream",
     "text": [
      "145\n"
     ]
    },
    {
     "name": "stderr",
     "output_type": "stream",
     "text": [
      "/var/folders/9k/ywvf61854_j0k_l2ksy1rrsc0000gn/T/ipykernel_35480/962940363.py:7: FutureWarning: YF.download() has changed argument auto_adjust default to True\n",
      "  temp = yf.download(ticker, start = '2020-07-24', end = '2025-07-24')\n",
      "[*********************100%***********************]  1 of 1 completed\n"
     ]
    },
    {
     "name": "stdout",
     "output_type": "stream",
     "text": [
      "146\n"
     ]
    },
    {
     "name": "stderr",
     "output_type": "stream",
     "text": [
      "/var/folders/9k/ywvf61854_j0k_l2ksy1rrsc0000gn/T/ipykernel_35480/962940363.py:7: FutureWarning: YF.download() has changed argument auto_adjust default to True\n",
      "  temp = yf.download(ticker, start = '2020-07-24', end = '2025-07-24')\n",
      "[*********************100%***********************]  1 of 1 completed\n"
     ]
    },
    {
     "name": "stdout",
     "output_type": "stream",
     "text": [
      "147\n"
     ]
    },
    {
     "name": "stderr",
     "output_type": "stream",
     "text": [
      "/var/folders/9k/ywvf61854_j0k_l2ksy1rrsc0000gn/T/ipykernel_35480/962940363.py:7: FutureWarning: YF.download() has changed argument auto_adjust default to True\n",
      "  temp = yf.download(ticker, start = '2020-07-24', end = '2025-07-24')\n",
      "[*********************100%***********************]  1 of 1 completed\n"
     ]
    },
    {
     "name": "stdout",
     "output_type": "stream",
     "text": [
      "148\n"
     ]
    },
    {
     "name": "stderr",
     "output_type": "stream",
     "text": [
      "/var/folders/9k/ywvf61854_j0k_l2ksy1rrsc0000gn/T/ipykernel_35480/962940363.py:7: FutureWarning: YF.download() has changed argument auto_adjust default to True\n",
      "  temp = yf.download(ticker, start = '2020-07-24', end = '2025-07-24')\n",
      "[*********************100%***********************]  1 of 1 completed\n"
     ]
    },
    {
     "name": "stdout",
     "output_type": "stream",
     "text": [
      "149\n"
     ]
    },
    {
     "name": "stderr",
     "output_type": "stream",
     "text": [
      "/var/folders/9k/ywvf61854_j0k_l2ksy1rrsc0000gn/T/ipykernel_35480/962940363.py:7: FutureWarning: YF.download() has changed argument auto_adjust default to True\n",
      "  temp = yf.download(ticker, start = '2020-07-24', end = '2025-07-24')\n",
      "[*********************100%***********************]  1 of 1 completed\n"
     ]
    },
    {
     "name": "stdout",
     "output_type": "stream",
     "text": [
      "150\n"
     ]
    },
    {
     "name": "stderr",
     "output_type": "stream",
     "text": [
      "/var/folders/9k/ywvf61854_j0k_l2ksy1rrsc0000gn/T/ipykernel_35480/962940363.py:7: FutureWarning: YF.download() has changed argument auto_adjust default to True\n",
      "  temp = yf.download(ticker, start = '2020-07-24', end = '2025-07-24')\n",
      "[*********************100%***********************]  1 of 1 completed\n"
     ]
    },
    {
     "name": "stdout",
     "output_type": "stream",
     "text": [
      "151\n"
     ]
    },
    {
     "name": "stderr",
     "output_type": "stream",
     "text": [
      "/var/folders/9k/ywvf61854_j0k_l2ksy1rrsc0000gn/T/ipykernel_35480/962940363.py:7: FutureWarning: YF.download() has changed argument auto_adjust default to True\n",
      "  temp = yf.download(ticker, start = '2020-07-24', end = '2025-07-24')\n",
      "[*********************100%***********************]  1 of 1 completed\n"
     ]
    },
    {
     "name": "stdout",
     "output_type": "stream",
     "text": [
      "152\n"
     ]
    },
    {
     "name": "stderr",
     "output_type": "stream",
     "text": [
      "/var/folders/9k/ywvf61854_j0k_l2ksy1rrsc0000gn/T/ipykernel_35480/962940363.py:7: FutureWarning: YF.download() has changed argument auto_adjust default to True\n",
      "  temp = yf.download(ticker, start = '2020-07-24', end = '2025-07-24')\n",
      "[*********************100%***********************]  1 of 1 completed\n"
     ]
    },
    {
     "name": "stdout",
     "output_type": "stream",
     "text": [
      "153\n"
     ]
    },
    {
     "name": "stderr",
     "output_type": "stream",
     "text": [
      "/var/folders/9k/ywvf61854_j0k_l2ksy1rrsc0000gn/T/ipykernel_35480/962940363.py:7: FutureWarning: YF.download() has changed argument auto_adjust default to True\n",
      "  temp = yf.download(ticker, start = '2020-07-24', end = '2025-07-24')\n",
      "[*********************100%***********************]  1 of 1 completed\n",
      "/var/folders/9k/ywvf61854_j0k_l2ksy1rrsc0000gn/T/ipykernel_35480/962940363.py:7: FutureWarning: YF.download() has changed argument auto_adjust default to True\n",
      "  temp = yf.download(ticker, start = '2020-07-24', end = '2025-07-24')\n"
     ]
    },
    {
     "name": "stdout",
     "output_type": "stream",
     "text": [
      "154\n"
     ]
    },
    {
     "name": "stderr",
     "output_type": "stream",
     "text": [
      "[*********************100%***********************]  1 of 1 completed\n"
     ]
    },
    {
     "name": "stdout",
     "output_type": "stream",
     "text": [
      "155\n"
     ]
    },
    {
     "name": "stderr",
     "output_type": "stream",
     "text": [
      "/var/folders/9k/ywvf61854_j0k_l2ksy1rrsc0000gn/T/ipykernel_35480/962940363.py:7: FutureWarning: YF.download() has changed argument auto_adjust default to True\n",
      "  temp = yf.download(ticker, start = '2020-07-24', end = '2025-07-24')\n",
      "[*********************100%***********************]  1 of 1 completed\n"
     ]
    },
    {
     "name": "stdout",
     "output_type": "stream",
     "text": [
      "156\n"
     ]
    },
    {
     "name": "stderr",
     "output_type": "stream",
     "text": [
      "/var/folders/9k/ywvf61854_j0k_l2ksy1rrsc0000gn/T/ipykernel_35480/962940363.py:7: FutureWarning: YF.download() has changed argument auto_adjust default to True\n",
      "  temp = yf.download(ticker, start = '2020-07-24', end = '2025-07-24')\n",
      "[*********************100%***********************]  1 of 1 completed\n",
      "/var/folders/9k/ywvf61854_j0k_l2ksy1rrsc0000gn/T/ipykernel_35480/962940363.py:7: FutureWarning: YF.download() has changed argument auto_adjust default to True\n",
      "  temp = yf.download(ticker, start = '2020-07-24', end = '2025-07-24')\n"
     ]
    },
    {
     "name": "stdout",
     "output_type": "stream",
     "text": [
      "157\n"
     ]
    },
    {
     "name": "stderr",
     "output_type": "stream",
     "text": [
      "[*********************100%***********************]  1 of 1 completed\n"
     ]
    },
    {
     "name": "stdout",
     "output_type": "stream",
     "text": [
      "158\n"
     ]
    },
    {
     "name": "stderr",
     "output_type": "stream",
     "text": [
      "/var/folders/9k/ywvf61854_j0k_l2ksy1rrsc0000gn/T/ipykernel_35480/962940363.py:7: FutureWarning: YF.download() has changed argument auto_adjust default to True\n",
      "  temp = yf.download(ticker, start = '2020-07-24', end = '2025-07-24')\n",
      "[*********************100%***********************]  1 of 1 completed\n"
     ]
    },
    {
     "name": "stdout",
     "output_type": "stream",
     "text": [
      "159\n"
     ]
    },
    {
     "name": "stderr",
     "output_type": "stream",
     "text": [
      "/var/folders/9k/ywvf61854_j0k_l2ksy1rrsc0000gn/T/ipykernel_35480/962940363.py:7: FutureWarning: YF.download() has changed argument auto_adjust default to True\n",
      "  temp = yf.download(ticker, start = '2020-07-24', end = '2025-07-24')\n",
      "[*********************100%***********************]  1 of 1 completed\n"
     ]
    },
    {
     "name": "stdout",
     "output_type": "stream",
     "text": [
      "160\n"
     ]
    },
    {
     "name": "stderr",
     "output_type": "stream",
     "text": [
      "/var/folders/9k/ywvf61854_j0k_l2ksy1rrsc0000gn/T/ipykernel_35480/962940363.py:7: FutureWarning: YF.download() has changed argument auto_adjust default to True\n",
      "  temp = yf.download(ticker, start = '2020-07-24', end = '2025-07-24')\n",
      "[*********************100%***********************]  1 of 1 completed\n"
     ]
    },
    {
     "name": "stdout",
     "output_type": "stream",
     "text": [
      "161\n"
     ]
    },
    {
     "name": "stderr",
     "output_type": "stream",
     "text": [
      "/var/folders/9k/ywvf61854_j0k_l2ksy1rrsc0000gn/T/ipykernel_35480/962940363.py:7: FutureWarning: YF.download() has changed argument auto_adjust default to True\n",
      "  temp = yf.download(ticker, start = '2020-07-24', end = '2025-07-24')\n",
      "[*********************100%***********************]  1 of 1 completed\n"
     ]
    },
    {
     "name": "stdout",
     "output_type": "stream",
     "text": [
      "162\n"
     ]
    },
    {
     "name": "stderr",
     "output_type": "stream",
     "text": [
      "/var/folders/9k/ywvf61854_j0k_l2ksy1rrsc0000gn/T/ipykernel_35480/962940363.py:7: FutureWarning: YF.download() has changed argument auto_adjust default to True\n",
      "  temp = yf.download(ticker, start = '2020-07-24', end = '2025-07-24')\n",
      "[*********************100%***********************]  1 of 1 completed\n"
     ]
    },
    {
     "name": "stdout",
     "output_type": "stream",
     "text": [
      "163\n"
     ]
    },
    {
     "name": "stderr",
     "output_type": "stream",
     "text": [
      "/var/folders/9k/ywvf61854_j0k_l2ksy1rrsc0000gn/T/ipykernel_35480/962940363.py:7: FutureWarning: YF.download() has changed argument auto_adjust default to True\n",
      "  temp = yf.download(ticker, start = '2020-07-24', end = '2025-07-24')\n",
      "[*********************100%***********************]  1 of 1 completed\n"
     ]
    },
    {
     "name": "stdout",
     "output_type": "stream",
     "text": [
      "164\n"
     ]
    },
    {
     "name": "stderr",
     "output_type": "stream",
     "text": [
      "/var/folders/9k/ywvf61854_j0k_l2ksy1rrsc0000gn/T/ipykernel_35480/962940363.py:7: FutureWarning: YF.download() has changed argument auto_adjust default to True\n",
      "  temp = yf.download(ticker, start = '2020-07-24', end = '2025-07-24')\n",
      "[*********************100%***********************]  1 of 1 completed\n"
     ]
    },
    {
     "name": "stdout",
     "output_type": "stream",
     "text": [
      "165\n"
     ]
    },
    {
     "name": "stderr",
     "output_type": "stream",
     "text": [
      "/var/folders/9k/ywvf61854_j0k_l2ksy1rrsc0000gn/T/ipykernel_35480/962940363.py:7: FutureWarning: YF.download() has changed argument auto_adjust default to True\n",
      "  temp = yf.download(ticker, start = '2020-07-24', end = '2025-07-24')\n",
      "[*********************100%***********************]  1 of 1 completed\n"
     ]
    },
    {
     "name": "stdout",
     "output_type": "stream",
     "text": [
      "166\n"
     ]
    },
    {
     "name": "stderr",
     "output_type": "stream",
     "text": [
      "/var/folders/9k/ywvf61854_j0k_l2ksy1rrsc0000gn/T/ipykernel_35480/962940363.py:7: FutureWarning: YF.download() has changed argument auto_adjust default to True\n",
      "  temp = yf.download(ticker, start = '2020-07-24', end = '2025-07-24')\n",
      "[*********************100%***********************]  1 of 1 completed\n"
     ]
    },
    {
     "name": "stdout",
     "output_type": "stream",
     "text": [
      "167\n"
     ]
    },
    {
     "name": "stderr",
     "output_type": "stream",
     "text": [
      "/var/folders/9k/ywvf61854_j0k_l2ksy1rrsc0000gn/T/ipykernel_35480/962940363.py:7: FutureWarning: YF.download() has changed argument auto_adjust default to True\n",
      "  temp = yf.download(ticker, start = '2020-07-24', end = '2025-07-24')\n",
      "[*********************100%***********************]  1 of 1 completed\n"
     ]
    },
    {
     "name": "stdout",
     "output_type": "stream",
     "text": [
      "168\n"
     ]
    },
    {
     "name": "stderr",
     "output_type": "stream",
     "text": [
      "/var/folders/9k/ywvf61854_j0k_l2ksy1rrsc0000gn/T/ipykernel_35480/962940363.py:7: FutureWarning: YF.download() has changed argument auto_adjust default to True\n",
      "  temp = yf.download(ticker, start = '2020-07-24', end = '2025-07-24')\n",
      "[*********************100%***********************]  1 of 1 completed\n"
     ]
    },
    {
     "name": "stdout",
     "output_type": "stream",
     "text": [
      "169\n"
     ]
    },
    {
     "name": "stderr",
     "output_type": "stream",
     "text": [
      "/var/folders/9k/ywvf61854_j0k_l2ksy1rrsc0000gn/T/ipykernel_35480/962940363.py:7: FutureWarning: YF.download() has changed argument auto_adjust default to True\n",
      "  temp = yf.download(ticker, start = '2020-07-24', end = '2025-07-24')\n",
      "[*********************100%***********************]  1 of 1 completed\n"
     ]
    },
    {
     "name": "stdout",
     "output_type": "stream",
     "text": [
      "170\n"
     ]
    },
    {
     "name": "stderr",
     "output_type": "stream",
     "text": [
      "/var/folders/9k/ywvf61854_j0k_l2ksy1rrsc0000gn/T/ipykernel_35480/962940363.py:7: FutureWarning: YF.download() has changed argument auto_adjust default to True\n",
      "  temp = yf.download(ticker, start = '2020-07-24', end = '2025-07-24')\n",
      "[*********************100%***********************]  1 of 1 completed\n"
     ]
    },
    {
     "name": "stdout",
     "output_type": "stream",
     "text": [
      "171\n"
     ]
    },
    {
     "name": "stderr",
     "output_type": "stream",
     "text": [
      "/var/folders/9k/ywvf61854_j0k_l2ksy1rrsc0000gn/T/ipykernel_35480/962940363.py:7: FutureWarning: YF.download() has changed argument auto_adjust default to True\n",
      "  temp = yf.download(ticker, start = '2020-07-24', end = '2025-07-24')\n",
      "[*********************100%***********************]  1 of 1 completed\n"
     ]
    },
    {
     "name": "stdout",
     "output_type": "stream",
     "text": [
      "172\n"
     ]
    },
    {
     "name": "stderr",
     "output_type": "stream",
     "text": [
      "/var/folders/9k/ywvf61854_j0k_l2ksy1rrsc0000gn/T/ipykernel_35480/962940363.py:7: FutureWarning: YF.download() has changed argument auto_adjust default to True\n",
      "  temp = yf.download(ticker, start = '2020-07-24', end = '2025-07-24')\n",
      "[*********************100%***********************]  1 of 1 completed\n"
     ]
    },
    {
     "name": "stdout",
     "output_type": "stream",
     "text": [
      "173\n"
     ]
    },
    {
     "name": "stderr",
     "output_type": "stream",
     "text": [
      "/var/folders/9k/ywvf61854_j0k_l2ksy1rrsc0000gn/T/ipykernel_35480/962940363.py:7: FutureWarning: YF.download() has changed argument auto_adjust default to True\n",
      "  temp = yf.download(ticker, start = '2020-07-24', end = '2025-07-24')\n",
      "[*********************100%***********************]  1 of 1 completed\n"
     ]
    },
    {
     "name": "stdout",
     "output_type": "stream",
     "text": [
      "174\n"
     ]
    },
    {
     "name": "stderr",
     "output_type": "stream",
     "text": [
      "/var/folders/9k/ywvf61854_j0k_l2ksy1rrsc0000gn/T/ipykernel_35480/962940363.py:7: FutureWarning: YF.download() has changed argument auto_adjust default to True\n",
      "  temp = yf.download(ticker, start = '2020-07-24', end = '2025-07-24')\n",
      "[*********************100%***********************]  1 of 1 completed\n"
     ]
    },
    {
     "name": "stdout",
     "output_type": "stream",
     "text": [
      "175\n"
     ]
    },
    {
     "name": "stderr",
     "output_type": "stream",
     "text": [
      "/var/folders/9k/ywvf61854_j0k_l2ksy1rrsc0000gn/T/ipykernel_35480/962940363.py:7: FutureWarning: YF.download() has changed argument auto_adjust default to True\n",
      "  temp = yf.download(ticker, start = '2020-07-24', end = '2025-07-24')\n",
      "[*********************100%***********************]  1 of 1 completed\n"
     ]
    },
    {
     "name": "stdout",
     "output_type": "stream",
     "text": [
      "176\n"
     ]
    },
    {
     "name": "stderr",
     "output_type": "stream",
     "text": [
      "/var/folders/9k/ywvf61854_j0k_l2ksy1rrsc0000gn/T/ipykernel_35480/962940363.py:7: FutureWarning: YF.download() has changed argument auto_adjust default to True\n",
      "  temp = yf.download(ticker, start = '2020-07-24', end = '2025-07-24')\n",
      "[*********************100%***********************]  1 of 1 completed\n"
     ]
    },
    {
     "name": "stdout",
     "output_type": "stream",
     "text": [
      "177\n"
     ]
    },
    {
     "name": "stderr",
     "output_type": "stream",
     "text": [
      "/var/folders/9k/ywvf61854_j0k_l2ksy1rrsc0000gn/T/ipykernel_35480/962940363.py:7: FutureWarning: YF.download() has changed argument auto_adjust default to True\n",
      "  temp = yf.download(ticker, start = '2020-07-24', end = '2025-07-24')\n",
      "[*********************100%***********************]  1 of 1 completed\n"
     ]
    },
    {
     "name": "stdout",
     "output_type": "stream",
     "text": [
      "178\n"
     ]
    },
    {
     "name": "stderr",
     "output_type": "stream",
     "text": [
      "/var/folders/9k/ywvf61854_j0k_l2ksy1rrsc0000gn/T/ipykernel_35480/962940363.py:7: FutureWarning: YF.download() has changed argument auto_adjust default to True\n",
      "  temp = yf.download(ticker, start = '2020-07-24', end = '2025-07-24')\n",
      "[*********************100%***********************]  1 of 1 completed\n"
     ]
    },
    {
     "name": "stdout",
     "output_type": "stream",
     "text": [
      "179\n"
     ]
    },
    {
     "name": "stderr",
     "output_type": "stream",
     "text": [
      "/var/folders/9k/ywvf61854_j0k_l2ksy1rrsc0000gn/T/ipykernel_35480/962940363.py:7: FutureWarning: YF.download() has changed argument auto_adjust default to True\n",
      "  temp = yf.download(ticker, start = '2020-07-24', end = '2025-07-24')\n",
      "[*********************100%***********************]  1 of 1 completed\n"
     ]
    },
    {
     "name": "stdout",
     "output_type": "stream",
     "text": [
      "180\n"
     ]
    },
    {
     "name": "stderr",
     "output_type": "stream",
     "text": [
      "/var/folders/9k/ywvf61854_j0k_l2ksy1rrsc0000gn/T/ipykernel_35480/962940363.py:7: FutureWarning: YF.download() has changed argument auto_adjust default to True\n",
      "  temp = yf.download(ticker, start = '2020-07-24', end = '2025-07-24')\n",
      "[*********************100%***********************]  1 of 1 completed\n"
     ]
    },
    {
     "name": "stdout",
     "output_type": "stream",
     "text": [
      "181\n"
     ]
    },
    {
     "name": "stderr",
     "output_type": "stream",
     "text": [
      "/var/folders/9k/ywvf61854_j0k_l2ksy1rrsc0000gn/T/ipykernel_35480/962940363.py:7: FutureWarning: YF.download() has changed argument auto_adjust default to True\n",
      "  temp = yf.download(ticker, start = '2020-07-24', end = '2025-07-24')\n",
      "[*********************100%***********************]  1 of 1 completed\n"
     ]
    },
    {
     "name": "stdout",
     "output_type": "stream",
     "text": [
      "182\n"
     ]
    },
    {
     "name": "stderr",
     "output_type": "stream",
     "text": [
      "/var/folders/9k/ywvf61854_j0k_l2ksy1rrsc0000gn/T/ipykernel_35480/962940363.py:7: FutureWarning: YF.download() has changed argument auto_adjust default to True\n",
      "  temp = yf.download(ticker, start = '2020-07-24', end = '2025-07-24')\n",
      "[*********************100%***********************]  1 of 1 completed\n"
     ]
    },
    {
     "name": "stdout",
     "output_type": "stream",
     "text": [
      "183\n"
     ]
    },
    {
     "name": "stderr",
     "output_type": "stream",
     "text": [
      "/var/folders/9k/ywvf61854_j0k_l2ksy1rrsc0000gn/T/ipykernel_35480/962940363.py:7: FutureWarning: YF.download() has changed argument auto_adjust default to True\n",
      "  temp = yf.download(ticker, start = '2020-07-24', end = '2025-07-24')\n",
      "[*********************100%***********************]  1 of 1 completed\n"
     ]
    },
    {
     "name": "stdout",
     "output_type": "stream",
     "text": [
      "184\n"
     ]
    },
    {
     "name": "stderr",
     "output_type": "stream",
     "text": [
      "/var/folders/9k/ywvf61854_j0k_l2ksy1rrsc0000gn/T/ipykernel_35480/962940363.py:7: FutureWarning: YF.download() has changed argument auto_adjust default to True\n",
      "  temp = yf.download(ticker, start = '2020-07-24', end = '2025-07-24')\n",
      "[*********************100%***********************]  1 of 1 completed\n",
      "/var/folders/9k/ywvf61854_j0k_l2ksy1rrsc0000gn/T/ipykernel_35480/962940363.py:7: FutureWarning: YF.download() has changed argument auto_adjust default to True\n",
      "  temp = yf.download(ticker, start = '2020-07-24', end = '2025-07-24')\n"
     ]
    },
    {
     "name": "stdout",
     "output_type": "stream",
     "text": [
      "185\n"
     ]
    },
    {
     "name": "stderr",
     "output_type": "stream",
     "text": [
      "[*********************100%***********************]  1 of 1 completed\n"
     ]
    },
    {
     "name": "stdout",
     "output_type": "stream",
     "text": [
      "186\n"
     ]
    },
    {
     "name": "stderr",
     "output_type": "stream",
     "text": [
      "/var/folders/9k/ywvf61854_j0k_l2ksy1rrsc0000gn/T/ipykernel_35480/962940363.py:7: FutureWarning: YF.download() has changed argument auto_adjust default to True\n",
      "  temp = yf.download(ticker, start = '2020-07-24', end = '2025-07-24')\n",
      "[*********************100%***********************]  1 of 1 completed\n"
     ]
    },
    {
     "name": "stdout",
     "output_type": "stream",
     "text": [
      "187\n"
     ]
    },
    {
     "name": "stderr",
     "output_type": "stream",
     "text": [
      "/var/folders/9k/ywvf61854_j0k_l2ksy1rrsc0000gn/T/ipykernel_35480/962940363.py:7: FutureWarning: YF.download() has changed argument auto_adjust default to True\n",
      "  temp = yf.download(ticker, start = '2020-07-24', end = '2025-07-24')\n",
      "[*********************100%***********************]  1 of 1 completed\n"
     ]
    },
    {
     "name": "stdout",
     "output_type": "stream",
     "text": [
      "188\n"
     ]
    },
    {
     "name": "stderr",
     "output_type": "stream",
     "text": [
      "/var/folders/9k/ywvf61854_j0k_l2ksy1rrsc0000gn/T/ipykernel_35480/962940363.py:7: FutureWarning: YF.download() has changed argument auto_adjust default to True\n",
      "  temp = yf.download(ticker, start = '2020-07-24', end = '2025-07-24')\n",
      "[*********************100%***********************]  1 of 1 completed\n"
     ]
    },
    {
     "name": "stdout",
     "output_type": "stream",
     "text": [
      "189\n"
     ]
    },
    {
     "name": "stderr",
     "output_type": "stream",
     "text": [
      "/var/folders/9k/ywvf61854_j0k_l2ksy1rrsc0000gn/T/ipykernel_35480/962940363.py:7: FutureWarning: YF.download() has changed argument auto_adjust default to True\n",
      "  temp = yf.download(ticker, start = '2020-07-24', end = '2025-07-24')\n",
      "[*********************100%***********************]  1 of 1 completed\n"
     ]
    },
    {
     "name": "stdout",
     "output_type": "stream",
     "text": [
      "190\n"
     ]
    },
    {
     "name": "stderr",
     "output_type": "stream",
     "text": [
      "/var/folders/9k/ywvf61854_j0k_l2ksy1rrsc0000gn/T/ipykernel_35480/962940363.py:7: FutureWarning: YF.download() has changed argument auto_adjust default to True\n",
      "  temp = yf.download(ticker, start = '2020-07-24', end = '2025-07-24')\n",
      "[*********************100%***********************]  1 of 1 completed\n"
     ]
    },
    {
     "name": "stdout",
     "output_type": "stream",
     "text": [
      "191\n"
     ]
    },
    {
     "name": "stderr",
     "output_type": "stream",
     "text": [
      "/var/folders/9k/ywvf61854_j0k_l2ksy1rrsc0000gn/T/ipykernel_35480/962940363.py:7: FutureWarning: YF.download() has changed argument auto_adjust default to True\n",
      "  temp = yf.download(ticker, start = '2020-07-24', end = '2025-07-24')\n",
      "[*********************100%***********************]  1 of 1 completed\n"
     ]
    },
    {
     "name": "stdout",
     "output_type": "stream",
     "text": [
      "192\n"
     ]
    },
    {
     "name": "stderr",
     "output_type": "stream",
     "text": [
      "/var/folders/9k/ywvf61854_j0k_l2ksy1rrsc0000gn/T/ipykernel_35480/962940363.py:7: FutureWarning: YF.download() has changed argument auto_adjust default to True\n",
      "  temp = yf.download(ticker, start = '2020-07-24', end = '2025-07-24')\n",
      "[*********************100%***********************]  1 of 1 completed\n"
     ]
    },
    {
     "name": "stdout",
     "output_type": "stream",
     "text": [
      "193\n"
     ]
    },
    {
     "name": "stderr",
     "output_type": "stream",
     "text": [
      "/var/folders/9k/ywvf61854_j0k_l2ksy1rrsc0000gn/T/ipykernel_35480/962940363.py:7: FutureWarning: YF.download() has changed argument auto_adjust default to True\n",
      "  temp = yf.download(ticker, start = '2020-07-24', end = '2025-07-24')\n",
      "[*********************100%***********************]  1 of 1 completed\n"
     ]
    },
    {
     "name": "stdout",
     "output_type": "stream",
     "text": [
      "194\n"
     ]
    },
    {
     "name": "stderr",
     "output_type": "stream",
     "text": [
      "/var/folders/9k/ywvf61854_j0k_l2ksy1rrsc0000gn/T/ipykernel_35480/962940363.py:7: FutureWarning: YF.download() has changed argument auto_adjust default to True\n",
      "  temp = yf.download(ticker, start = '2020-07-24', end = '2025-07-24')\n",
      "[*********************100%***********************]  1 of 1 completed\n"
     ]
    },
    {
     "name": "stdout",
     "output_type": "stream",
     "text": [
      "195\n"
     ]
    },
    {
     "name": "stderr",
     "output_type": "stream",
     "text": [
      "/var/folders/9k/ywvf61854_j0k_l2ksy1rrsc0000gn/T/ipykernel_35480/962940363.py:7: FutureWarning: YF.download() has changed argument auto_adjust default to True\n",
      "  temp = yf.download(ticker, start = '2020-07-24', end = '2025-07-24')\n",
      "[*********************100%***********************]  1 of 1 completed\n"
     ]
    },
    {
     "name": "stdout",
     "output_type": "stream",
     "text": [
      "196\n"
     ]
    },
    {
     "name": "stderr",
     "output_type": "stream",
     "text": [
      "/var/folders/9k/ywvf61854_j0k_l2ksy1rrsc0000gn/T/ipykernel_35480/962940363.py:7: FutureWarning: YF.download() has changed argument auto_adjust default to True\n",
      "  temp = yf.download(ticker, start = '2020-07-24', end = '2025-07-24')\n",
      "[*********************100%***********************]  1 of 1 completed\n"
     ]
    },
    {
     "name": "stdout",
     "output_type": "stream",
     "text": [
      "197\n"
     ]
    },
    {
     "name": "stderr",
     "output_type": "stream",
     "text": [
      "/var/folders/9k/ywvf61854_j0k_l2ksy1rrsc0000gn/T/ipykernel_35480/962940363.py:7: FutureWarning: YF.download() has changed argument auto_adjust default to True\n",
      "  temp = yf.download(ticker, start = '2020-07-24', end = '2025-07-24')\n",
      "[*********************100%***********************]  1 of 1 completed\n"
     ]
    },
    {
     "name": "stdout",
     "output_type": "stream",
     "text": [
      "198\n"
     ]
    },
    {
     "name": "stderr",
     "output_type": "stream",
     "text": [
      "/var/folders/9k/ywvf61854_j0k_l2ksy1rrsc0000gn/T/ipykernel_35480/962940363.py:7: FutureWarning: YF.download() has changed argument auto_adjust default to True\n",
      "  temp = yf.download(ticker, start = '2020-07-24', end = '2025-07-24')\n",
      "[*********************100%***********************]  1 of 1 completed\n"
     ]
    },
    {
     "name": "stdout",
     "output_type": "stream",
     "text": [
      "199\n"
     ]
    },
    {
     "name": "stderr",
     "output_type": "stream",
     "text": [
      "/var/folders/9k/ywvf61854_j0k_l2ksy1rrsc0000gn/T/ipykernel_35480/962940363.py:7: FutureWarning: YF.download() has changed argument auto_adjust default to True\n",
      "  temp = yf.download(ticker, start = '2020-07-24', end = '2025-07-24')\n",
      "[*********************100%***********************]  1 of 1 completed\n"
     ]
    },
    {
     "name": "stdout",
     "output_type": "stream",
     "text": [
      "200\n"
     ]
    },
    {
     "name": "stderr",
     "output_type": "stream",
     "text": [
      "/var/folders/9k/ywvf61854_j0k_l2ksy1rrsc0000gn/T/ipykernel_35480/962940363.py:7: FutureWarning: YF.download() has changed argument auto_adjust default to True\n",
      "  temp = yf.download(ticker, start = '2020-07-24', end = '2025-07-24')\n",
      "[*********************100%***********************]  1 of 1 completed\n"
     ]
    },
    {
     "name": "stdout",
     "output_type": "stream",
     "text": [
      "201\n"
     ]
    },
    {
     "name": "stderr",
     "output_type": "stream",
     "text": [
      "/var/folders/9k/ywvf61854_j0k_l2ksy1rrsc0000gn/T/ipykernel_35480/962940363.py:7: FutureWarning: YF.download() has changed argument auto_adjust default to True\n",
      "  temp = yf.download(ticker, start = '2020-07-24', end = '2025-07-24')\n",
      "[*********************100%***********************]  1 of 1 completed\n"
     ]
    },
    {
     "name": "stdout",
     "output_type": "stream",
     "text": [
      "202\n"
     ]
    },
    {
     "name": "stderr",
     "output_type": "stream",
     "text": [
      "/var/folders/9k/ywvf61854_j0k_l2ksy1rrsc0000gn/T/ipykernel_35480/962940363.py:7: FutureWarning: YF.download() has changed argument auto_adjust default to True\n",
      "  temp = yf.download(ticker, start = '2020-07-24', end = '2025-07-24')\n",
      "[*********************100%***********************]  1 of 1 completed\n"
     ]
    },
    {
     "name": "stdout",
     "output_type": "stream",
     "text": [
      "203\n"
     ]
    },
    {
     "name": "stderr",
     "output_type": "stream",
     "text": [
      "/var/folders/9k/ywvf61854_j0k_l2ksy1rrsc0000gn/T/ipykernel_35480/962940363.py:7: FutureWarning: YF.download() has changed argument auto_adjust default to True\n",
      "  temp = yf.download(ticker, start = '2020-07-24', end = '2025-07-24')\n",
      "[*********************100%***********************]  1 of 1 completed\n"
     ]
    },
    {
     "name": "stdout",
     "output_type": "stream",
     "text": [
      "204\n"
     ]
    },
    {
     "name": "stderr",
     "output_type": "stream",
     "text": [
      "/var/folders/9k/ywvf61854_j0k_l2ksy1rrsc0000gn/T/ipykernel_35480/962940363.py:7: FutureWarning: YF.download() has changed argument auto_adjust default to True\n",
      "  temp = yf.download(ticker, start = '2020-07-24', end = '2025-07-24')\n",
      "[*********************100%***********************]  1 of 1 completed\n"
     ]
    },
    {
     "name": "stdout",
     "output_type": "stream",
     "text": [
      "205\n"
     ]
    },
    {
     "name": "stderr",
     "output_type": "stream",
     "text": [
      "/var/folders/9k/ywvf61854_j0k_l2ksy1rrsc0000gn/T/ipykernel_35480/962940363.py:7: FutureWarning: YF.download() has changed argument auto_adjust default to True\n",
      "  temp = yf.download(ticker, start = '2020-07-24', end = '2025-07-24')\n",
      "[*********************100%***********************]  1 of 1 completed\n"
     ]
    },
    {
     "name": "stdout",
     "output_type": "stream",
     "text": [
      "206\n"
     ]
    },
    {
     "name": "stderr",
     "output_type": "stream",
     "text": [
      "/var/folders/9k/ywvf61854_j0k_l2ksy1rrsc0000gn/T/ipykernel_35480/962940363.py:7: FutureWarning: YF.download() has changed argument auto_adjust default to True\n",
      "  temp = yf.download(ticker, start = '2020-07-24', end = '2025-07-24')\n",
      "[*********************100%***********************]  1 of 1 completed\n"
     ]
    },
    {
     "name": "stdout",
     "output_type": "stream",
     "text": [
      "207\n"
     ]
    },
    {
     "name": "stderr",
     "output_type": "stream",
     "text": [
      "/var/folders/9k/ywvf61854_j0k_l2ksy1rrsc0000gn/T/ipykernel_35480/962940363.py:7: FutureWarning: YF.download() has changed argument auto_adjust default to True\n",
      "  temp = yf.download(ticker, start = '2020-07-24', end = '2025-07-24')\n",
      "[*********************100%***********************]  1 of 1 completed\n"
     ]
    },
    {
     "name": "stdout",
     "output_type": "stream",
     "text": [
      "208\n"
     ]
    },
    {
     "name": "stderr",
     "output_type": "stream",
     "text": [
      "/var/folders/9k/ywvf61854_j0k_l2ksy1rrsc0000gn/T/ipykernel_35480/962940363.py:7: FutureWarning: YF.download() has changed argument auto_adjust default to True\n",
      "  temp = yf.download(ticker, start = '2020-07-24', end = '2025-07-24')\n",
      "[*********************100%***********************]  1 of 1 completed\n"
     ]
    },
    {
     "name": "stdout",
     "output_type": "stream",
     "text": [
      "209\n"
     ]
    },
    {
     "name": "stderr",
     "output_type": "stream",
     "text": [
      "/var/folders/9k/ywvf61854_j0k_l2ksy1rrsc0000gn/T/ipykernel_35480/962940363.py:7: FutureWarning: YF.download() has changed argument auto_adjust default to True\n",
      "  temp = yf.download(ticker, start = '2020-07-24', end = '2025-07-24')\n",
      "[*********************100%***********************]  1 of 1 completed\n"
     ]
    },
    {
     "name": "stdout",
     "output_type": "stream",
     "text": [
      "210\n"
     ]
    },
    {
     "name": "stderr",
     "output_type": "stream",
     "text": [
      "/var/folders/9k/ywvf61854_j0k_l2ksy1rrsc0000gn/T/ipykernel_35480/962940363.py:7: FutureWarning: YF.download() has changed argument auto_adjust default to True\n",
      "  temp = yf.download(ticker, start = '2020-07-24', end = '2025-07-24')\n",
      "[*********************100%***********************]  1 of 1 completed\n",
      "/var/folders/9k/ywvf61854_j0k_l2ksy1rrsc0000gn/T/ipykernel_35480/962940363.py:7: FutureWarning: YF.download() has changed argument auto_adjust default to True\n",
      "  temp = yf.download(ticker, start = '2020-07-24', end = '2025-07-24')\n"
     ]
    },
    {
     "name": "stdout",
     "output_type": "stream",
     "text": [
      "211\n"
     ]
    },
    {
     "name": "stderr",
     "output_type": "stream",
     "text": [
      "[*********************100%***********************]  1 of 1 completed\n",
      "/var/folders/9k/ywvf61854_j0k_l2ksy1rrsc0000gn/T/ipykernel_35480/962940363.py:7: FutureWarning: YF.download() has changed argument auto_adjust default to True\n",
      "  temp = yf.download(ticker, start = '2020-07-24', end = '2025-07-24')\n"
     ]
    },
    {
     "name": "stdout",
     "output_type": "stream",
     "text": [
      "212\n"
     ]
    },
    {
     "name": "stderr",
     "output_type": "stream",
     "text": [
      "[*********************100%***********************]  1 of 1 completed\n"
     ]
    },
    {
     "name": "stdout",
     "output_type": "stream",
     "text": [
      "213\n"
     ]
    },
    {
     "name": "stderr",
     "output_type": "stream",
     "text": [
      "/var/folders/9k/ywvf61854_j0k_l2ksy1rrsc0000gn/T/ipykernel_35480/962940363.py:7: FutureWarning: YF.download() has changed argument auto_adjust default to True\n",
      "  temp = yf.download(ticker, start = '2020-07-24', end = '2025-07-24')\n",
      "[*********************100%***********************]  1 of 1 completed\n"
     ]
    },
    {
     "name": "stdout",
     "output_type": "stream",
     "text": [
      "214\n"
     ]
    },
    {
     "name": "stderr",
     "output_type": "stream",
     "text": [
      "/var/folders/9k/ywvf61854_j0k_l2ksy1rrsc0000gn/T/ipykernel_35480/962940363.py:7: FutureWarning: YF.download() has changed argument auto_adjust default to True\n",
      "  temp = yf.download(ticker, start = '2020-07-24', end = '2025-07-24')\n",
      "[*********************100%***********************]  1 of 1 completed\n"
     ]
    },
    {
     "name": "stdout",
     "output_type": "stream",
     "text": [
      "215\n"
     ]
    },
    {
     "name": "stderr",
     "output_type": "stream",
     "text": [
      "/var/folders/9k/ywvf61854_j0k_l2ksy1rrsc0000gn/T/ipykernel_35480/962940363.py:7: FutureWarning: YF.download() has changed argument auto_adjust default to True\n",
      "  temp = yf.download(ticker, start = '2020-07-24', end = '2025-07-24')\n",
      "[*********************100%***********************]  1 of 1 completed\n"
     ]
    },
    {
     "name": "stdout",
     "output_type": "stream",
     "text": [
      "216\n"
     ]
    },
    {
     "name": "stderr",
     "output_type": "stream",
     "text": [
      "/var/folders/9k/ywvf61854_j0k_l2ksy1rrsc0000gn/T/ipykernel_35480/962940363.py:7: FutureWarning: YF.download() has changed argument auto_adjust default to True\n",
      "  temp = yf.download(ticker, start = '2020-07-24', end = '2025-07-24')\n",
      "[*********************100%***********************]  1 of 1 completed\n"
     ]
    },
    {
     "name": "stdout",
     "output_type": "stream",
     "text": [
      "217\n"
     ]
    },
    {
     "name": "stderr",
     "output_type": "stream",
     "text": [
      "/var/folders/9k/ywvf61854_j0k_l2ksy1rrsc0000gn/T/ipykernel_35480/962940363.py:7: FutureWarning: YF.download() has changed argument auto_adjust default to True\n",
      "  temp = yf.download(ticker, start = '2020-07-24', end = '2025-07-24')\n",
      "[*********************100%***********************]  1 of 1 completed\n"
     ]
    },
    {
     "name": "stdout",
     "output_type": "stream",
     "text": [
      "218\n"
     ]
    },
    {
     "name": "stderr",
     "output_type": "stream",
     "text": [
      "/var/folders/9k/ywvf61854_j0k_l2ksy1rrsc0000gn/T/ipykernel_35480/962940363.py:7: FutureWarning: YF.download() has changed argument auto_adjust default to True\n",
      "  temp = yf.download(ticker, start = '2020-07-24', end = '2025-07-24')\n",
      "[*********************100%***********************]  1 of 1 completed\n"
     ]
    },
    {
     "name": "stdout",
     "output_type": "stream",
     "text": [
      "219\n"
     ]
    },
    {
     "name": "stderr",
     "output_type": "stream",
     "text": [
      "/var/folders/9k/ywvf61854_j0k_l2ksy1rrsc0000gn/T/ipykernel_35480/962940363.py:7: FutureWarning: YF.download() has changed argument auto_adjust default to True\n",
      "  temp = yf.download(ticker, start = '2020-07-24', end = '2025-07-24')\n",
      "[*********************100%***********************]  1 of 1 completed\n"
     ]
    },
    {
     "name": "stdout",
     "output_type": "stream",
     "text": [
      "220\n"
     ]
    },
    {
     "name": "stderr",
     "output_type": "stream",
     "text": [
      "/var/folders/9k/ywvf61854_j0k_l2ksy1rrsc0000gn/T/ipykernel_35480/962940363.py:7: FutureWarning: YF.download() has changed argument auto_adjust default to True\n",
      "  temp = yf.download(ticker, start = '2020-07-24', end = '2025-07-24')\n",
      "[*********************100%***********************]  1 of 1 completed\n"
     ]
    },
    {
     "name": "stdout",
     "output_type": "stream",
     "text": [
      "221\n"
     ]
    },
    {
     "name": "stderr",
     "output_type": "stream",
     "text": [
      "/var/folders/9k/ywvf61854_j0k_l2ksy1rrsc0000gn/T/ipykernel_35480/962940363.py:7: FutureWarning: YF.download() has changed argument auto_adjust default to True\n",
      "  temp = yf.download(ticker, start = '2020-07-24', end = '2025-07-24')\n",
      "[*********************100%***********************]  1 of 1 completed\n"
     ]
    },
    {
     "name": "stdout",
     "output_type": "stream",
     "text": [
      "222\n"
     ]
    },
    {
     "name": "stderr",
     "output_type": "stream",
     "text": [
      "/var/folders/9k/ywvf61854_j0k_l2ksy1rrsc0000gn/T/ipykernel_35480/962940363.py:7: FutureWarning: YF.download() has changed argument auto_adjust default to True\n",
      "  temp = yf.download(ticker, start = '2020-07-24', end = '2025-07-24')\n",
      "[*********************100%***********************]  1 of 1 completed\n"
     ]
    },
    {
     "name": "stdout",
     "output_type": "stream",
     "text": [
      "223\n"
     ]
    },
    {
     "name": "stderr",
     "output_type": "stream",
     "text": [
      "/var/folders/9k/ywvf61854_j0k_l2ksy1rrsc0000gn/T/ipykernel_35480/962940363.py:7: FutureWarning: YF.download() has changed argument auto_adjust default to True\n",
      "  temp = yf.download(ticker, start = '2020-07-24', end = '2025-07-24')\n",
      "[*********************100%***********************]  1 of 1 completed\n"
     ]
    },
    {
     "name": "stdout",
     "output_type": "stream",
     "text": [
      "224\n"
     ]
    },
    {
     "name": "stderr",
     "output_type": "stream",
     "text": [
      "/var/folders/9k/ywvf61854_j0k_l2ksy1rrsc0000gn/T/ipykernel_35480/962940363.py:7: FutureWarning: YF.download() has changed argument auto_adjust default to True\n",
      "  temp = yf.download(ticker, start = '2020-07-24', end = '2025-07-24')\n",
      "[*********************100%***********************]  1 of 1 completed\n"
     ]
    },
    {
     "name": "stdout",
     "output_type": "stream",
     "text": [
      "225\n"
     ]
    },
    {
     "name": "stderr",
     "output_type": "stream",
     "text": [
      "/var/folders/9k/ywvf61854_j0k_l2ksy1rrsc0000gn/T/ipykernel_35480/962940363.py:7: FutureWarning: YF.download() has changed argument auto_adjust default to True\n",
      "  temp = yf.download(ticker, start = '2020-07-24', end = '2025-07-24')\n",
      "[*********************100%***********************]  1 of 1 completed\n"
     ]
    },
    {
     "name": "stdout",
     "output_type": "stream",
     "text": [
      "226\n"
     ]
    },
    {
     "name": "stderr",
     "output_type": "stream",
     "text": [
      "/var/folders/9k/ywvf61854_j0k_l2ksy1rrsc0000gn/T/ipykernel_35480/962940363.py:7: FutureWarning: YF.download() has changed argument auto_adjust default to True\n",
      "  temp = yf.download(ticker, start = '2020-07-24', end = '2025-07-24')\n",
      "[*********************100%***********************]  1 of 1 completed\n"
     ]
    },
    {
     "name": "stdout",
     "output_type": "stream",
     "text": [
      "227\n"
     ]
    },
    {
     "name": "stderr",
     "output_type": "stream",
     "text": [
      "/var/folders/9k/ywvf61854_j0k_l2ksy1rrsc0000gn/T/ipykernel_35480/962940363.py:7: FutureWarning: YF.download() has changed argument auto_adjust default to True\n",
      "  temp = yf.download(ticker, start = '2020-07-24', end = '2025-07-24')\n",
      "[*********************100%***********************]  1 of 1 completed\n"
     ]
    },
    {
     "name": "stdout",
     "output_type": "stream",
     "text": [
      "228\n"
     ]
    },
    {
     "name": "stderr",
     "output_type": "stream",
     "text": [
      "/var/folders/9k/ywvf61854_j0k_l2ksy1rrsc0000gn/T/ipykernel_35480/962940363.py:7: FutureWarning: YF.download() has changed argument auto_adjust default to True\n",
      "  temp = yf.download(ticker, start = '2020-07-24', end = '2025-07-24')\n",
      "[*********************100%***********************]  1 of 1 completed\n"
     ]
    },
    {
     "name": "stdout",
     "output_type": "stream",
     "text": [
      "229\n"
     ]
    },
    {
     "name": "stderr",
     "output_type": "stream",
     "text": [
      "/var/folders/9k/ywvf61854_j0k_l2ksy1rrsc0000gn/T/ipykernel_35480/962940363.py:7: FutureWarning: YF.download() has changed argument auto_adjust default to True\n",
      "  temp = yf.download(ticker, start = '2020-07-24', end = '2025-07-24')\n",
      "[*********************100%***********************]  1 of 1 completed\n"
     ]
    },
    {
     "name": "stdout",
     "output_type": "stream",
     "text": [
      "230\n"
     ]
    },
    {
     "name": "stderr",
     "output_type": "stream",
     "text": [
      "/var/folders/9k/ywvf61854_j0k_l2ksy1rrsc0000gn/T/ipykernel_35480/962940363.py:7: FutureWarning: YF.download() has changed argument auto_adjust default to True\n",
      "  temp = yf.download(ticker, start = '2020-07-24', end = '2025-07-24')\n",
      "[*********************100%***********************]  1 of 1 completed\n"
     ]
    },
    {
     "name": "stdout",
     "output_type": "stream",
     "text": [
      "231\n"
     ]
    },
    {
     "name": "stderr",
     "output_type": "stream",
     "text": [
      "/var/folders/9k/ywvf61854_j0k_l2ksy1rrsc0000gn/T/ipykernel_35480/962940363.py:7: FutureWarning: YF.download() has changed argument auto_adjust default to True\n",
      "  temp = yf.download(ticker, start = '2020-07-24', end = '2025-07-24')\n",
      "[*********************100%***********************]  1 of 1 completed\n"
     ]
    },
    {
     "name": "stdout",
     "output_type": "stream",
     "text": [
      "232\n"
     ]
    },
    {
     "name": "stderr",
     "output_type": "stream",
     "text": [
      "/var/folders/9k/ywvf61854_j0k_l2ksy1rrsc0000gn/T/ipykernel_35480/962940363.py:7: FutureWarning: YF.download() has changed argument auto_adjust default to True\n",
      "  temp = yf.download(ticker, start = '2020-07-24', end = '2025-07-24')\n",
      "[*********************100%***********************]  1 of 1 completed\n"
     ]
    },
    {
     "name": "stdout",
     "output_type": "stream",
     "text": [
      "233\n"
     ]
    },
    {
     "name": "stderr",
     "output_type": "stream",
     "text": [
      "/var/folders/9k/ywvf61854_j0k_l2ksy1rrsc0000gn/T/ipykernel_35480/962940363.py:7: FutureWarning: YF.download() has changed argument auto_adjust default to True\n",
      "  temp = yf.download(ticker, start = '2020-07-24', end = '2025-07-24')\n",
      "[*********************100%***********************]  1 of 1 completed\n"
     ]
    },
    {
     "name": "stdout",
     "output_type": "stream",
     "text": [
      "234\n"
     ]
    },
    {
     "name": "stderr",
     "output_type": "stream",
     "text": [
      "/var/folders/9k/ywvf61854_j0k_l2ksy1rrsc0000gn/T/ipykernel_35480/962940363.py:7: FutureWarning: YF.download() has changed argument auto_adjust default to True\n",
      "  temp = yf.download(ticker, start = '2020-07-24', end = '2025-07-24')\n",
      "[*********************100%***********************]  1 of 1 completed\n"
     ]
    },
    {
     "name": "stdout",
     "output_type": "stream",
     "text": [
      "235\n"
     ]
    },
    {
     "name": "stderr",
     "output_type": "stream",
     "text": [
      "/var/folders/9k/ywvf61854_j0k_l2ksy1rrsc0000gn/T/ipykernel_35480/962940363.py:7: FutureWarning: YF.download() has changed argument auto_adjust default to True\n",
      "  temp = yf.download(ticker, start = '2020-07-24', end = '2025-07-24')\n",
      "[*********************100%***********************]  1 of 1 completed\n"
     ]
    },
    {
     "name": "stdout",
     "output_type": "stream",
     "text": [
      "236\n"
     ]
    },
    {
     "name": "stderr",
     "output_type": "stream",
     "text": [
      "/var/folders/9k/ywvf61854_j0k_l2ksy1rrsc0000gn/T/ipykernel_35480/962940363.py:7: FutureWarning: YF.download() has changed argument auto_adjust default to True\n",
      "  temp = yf.download(ticker, start = '2020-07-24', end = '2025-07-24')\n",
      "[*********************100%***********************]  1 of 1 completed\n"
     ]
    },
    {
     "name": "stdout",
     "output_type": "stream",
     "text": [
      "237\n"
     ]
    },
    {
     "name": "stderr",
     "output_type": "stream",
     "text": [
      "/var/folders/9k/ywvf61854_j0k_l2ksy1rrsc0000gn/T/ipykernel_35480/962940363.py:7: FutureWarning: YF.download() has changed argument auto_adjust default to True\n",
      "  temp = yf.download(ticker, start = '2020-07-24', end = '2025-07-24')\n",
      "[*********************100%***********************]  1 of 1 completed\n"
     ]
    },
    {
     "name": "stdout",
     "output_type": "stream",
     "text": [
      "238\n"
     ]
    },
    {
     "name": "stderr",
     "output_type": "stream",
     "text": [
      "/var/folders/9k/ywvf61854_j0k_l2ksy1rrsc0000gn/T/ipykernel_35480/962940363.py:7: FutureWarning: YF.download() has changed argument auto_adjust default to True\n",
      "  temp = yf.download(ticker, start = '2020-07-24', end = '2025-07-24')\n",
      "[*********************100%***********************]  1 of 1 completed\n"
     ]
    },
    {
     "name": "stdout",
     "output_type": "stream",
     "text": [
      "239\n"
     ]
    },
    {
     "name": "stderr",
     "output_type": "stream",
     "text": [
      "/var/folders/9k/ywvf61854_j0k_l2ksy1rrsc0000gn/T/ipykernel_35480/962940363.py:7: FutureWarning: YF.download() has changed argument auto_adjust default to True\n",
      "  temp = yf.download(ticker, start = '2020-07-24', end = '2025-07-24')\n",
      "[*********************100%***********************]  1 of 1 completed\n"
     ]
    },
    {
     "name": "stdout",
     "output_type": "stream",
     "text": [
      "240\n"
     ]
    },
    {
     "name": "stderr",
     "output_type": "stream",
     "text": [
      "/var/folders/9k/ywvf61854_j0k_l2ksy1rrsc0000gn/T/ipykernel_35480/962940363.py:7: FutureWarning: YF.download() has changed argument auto_adjust default to True\n",
      "  temp = yf.download(ticker, start = '2020-07-24', end = '2025-07-24')\n",
      "[*********************100%***********************]  1 of 1 completed\n"
     ]
    },
    {
     "name": "stdout",
     "output_type": "stream",
     "text": [
      "241\n"
     ]
    },
    {
     "name": "stderr",
     "output_type": "stream",
     "text": [
      "/var/folders/9k/ywvf61854_j0k_l2ksy1rrsc0000gn/T/ipykernel_35480/962940363.py:7: FutureWarning: YF.download() has changed argument auto_adjust default to True\n",
      "  temp = yf.download(ticker, start = '2020-07-24', end = '2025-07-24')\n",
      "[*********************100%***********************]  1 of 1 completed\n"
     ]
    },
    {
     "name": "stdout",
     "output_type": "stream",
     "text": [
      "242\n"
     ]
    },
    {
     "name": "stderr",
     "output_type": "stream",
     "text": [
      "/var/folders/9k/ywvf61854_j0k_l2ksy1rrsc0000gn/T/ipykernel_35480/962940363.py:7: FutureWarning: YF.download() has changed argument auto_adjust default to True\n",
      "  temp = yf.download(ticker, start = '2020-07-24', end = '2025-07-24')\n",
      "[*********************100%***********************]  1 of 1 completed\n"
     ]
    },
    {
     "name": "stdout",
     "output_type": "stream",
     "text": [
      "243\n"
     ]
    },
    {
     "name": "stderr",
     "output_type": "stream",
     "text": [
      "/var/folders/9k/ywvf61854_j0k_l2ksy1rrsc0000gn/T/ipykernel_35480/962940363.py:7: FutureWarning: YF.download() has changed argument auto_adjust default to True\n",
      "  temp = yf.download(ticker, start = '2020-07-24', end = '2025-07-24')\n",
      "[*********************100%***********************]  1 of 1 completed\n"
     ]
    },
    {
     "name": "stdout",
     "output_type": "stream",
     "text": [
      "244\n"
     ]
    },
    {
     "name": "stderr",
     "output_type": "stream",
     "text": [
      "/var/folders/9k/ywvf61854_j0k_l2ksy1rrsc0000gn/T/ipykernel_35480/962940363.py:7: FutureWarning: YF.download() has changed argument auto_adjust default to True\n",
      "  temp = yf.download(ticker, start = '2020-07-24', end = '2025-07-24')\n",
      "[*********************100%***********************]  1 of 1 completed\n"
     ]
    },
    {
     "name": "stdout",
     "output_type": "stream",
     "text": [
      "245\n"
     ]
    },
    {
     "name": "stderr",
     "output_type": "stream",
     "text": [
      "/var/folders/9k/ywvf61854_j0k_l2ksy1rrsc0000gn/T/ipykernel_35480/962940363.py:7: FutureWarning: YF.download() has changed argument auto_adjust default to True\n",
      "  temp = yf.download(ticker, start = '2020-07-24', end = '2025-07-24')\n",
      "[*********************100%***********************]  1 of 1 completed\n"
     ]
    },
    {
     "name": "stdout",
     "output_type": "stream",
     "text": [
      "246\n"
     ]
    },
    {
     "name": "stderr",
     "output_type": "stream",
     "text": [
      "/var/folders/9k/ywvf61854_j0k_l2ksy1rrsc0000gn/T/ipykernel_35480/962940363.py:7: FutureWarning: YF.download() has changed argument auto_adjust default to True\n",
      "  temp = yf.download(ticker, start = '2020-07-24', end = '2025-07-24')\n",
      "[*********************100%***********************]  1 of 1 completed\n"
     ]
    },
    {
     "name": "stdout",
     "output_type": "stream",
     "text": [
      "247\n"
     ]
    },
    {
     "name": "stderr",
     "output_type": "stream",
     "text": [
      "/var/folders/9k/ywvf61854_j0k_l2ksy1rrsc0000gn/T/ipykernel_35480/962940363.py:7: FutureWarning: YF.download() has changed argument auto_adjust default to True\n",
      "  temp = yf.download(ticker, start = '2020-07-24', end = '2025-07-24')\n",
      "[*********************100%***********************]  1 of 1 completed\n"
     ]
    },
    {
     "name": "stdout",
     "output_type": "stream",
     "text": [
      "248\n"
     ]
    },
    {
     "name": "stderr",
     "output_type": "stream",
     "text": [
      "/var/folders/9k/ywvf61854_j0k_l2ksy1rrsc0000gn/T/ipykernel_35480/962940363.py:7: FutureWarning: YF.download() has changed argument auto_adjust default to True\n",
      "  temp = yf.download(ticker, start = '2020-07-24', end = '2025-07-24')\n",
      "[*********************100%***********************]  1 of 1 completed\n"
     ]
    },
    {
     "name": "stdout",
     "output_type": "stream",
     "text": [
      "249\n"
     ]
    },
    {
     "name": "stderr",
     "output_type": "stream",
     "text": [
      "/var/folders/9k/ywvf61854_j0k_l2ksy1rrsc0000gn/T/ipykernel_35480/962940363.py:7: FutureWarning: YF.download() has changed argument auto_adjust default to True\n",
      "  temp = yf.download(ticker, start = '2020-07-24', end = '2025-07-24')\n",
      "[*********************100%***********************]  1 of 1 completed\n"
     ]
    },
    {
     "name": "stdout",
     "output_type": "stream",
     "text": [
      "250\n"
     ]
    },
    {
     "name": "stderr",
     "output_type": "stream",
     "text": [
      "/var/folders/9k/ywvf61854_j0k_l2ksy1rrsc0000gn/T/ipykernel_35480/962940363.py:7: FutureWarning: YF.download() has changed argument auto_adjust default to True\n",
      "  temp = yf.download(ticker, start = '2020-07-24', end = '2025-07-24')\n",
      "[*********************100%***********************]  1 of 1 completed\n"
     ]
    },
    {
     "name": "stdout",
     "output_type": "stream",
     "text": [
      "251\n"
     ]
    },
    {
     "name": "stderr",
     "output_type": "stream",
     "text": [
      "/var/folders/9k/ywvf61854_j0k_l2ksy1rrsc0000gn/T/ipykernel_35480/962940363.py:7: FutureWarning: YF.download() has changed argument auto_adjust default to True\n",
      "  temp = yf.download(ticker, start = '2020-07-24', end = '2025-07-24')\n",
      "[*********************100%***********************]  1 of 1 completed\n"
     ]
    },
    {
     "name": "stdout",
     "output_type": "stream",
     "text": [
      "252\n"
     ]
    },
    {
     "name": "stderr",
     "output_type": "stream",
     "text": [
      "/var/folders/9k/ywvf61854_j0k_l2ksy1rrsc0000gn/T/ipykernel_35480/962940363.py:7: FutureWarning: YF.download() has changed argument auto_adjust default to True\n",
      "  temp = yf.download(ticker, start = '2020-07-24', end = '2025-07-24')\n",
      "[*********************100%***********************]  1 of 1 completed\n"
     ]
    },
    {
     "name": "stdout",
     "output_type": "stream",
     "text": [
      "253\n"
     ]
    },
    {
     "name": "stderr",
     "output_type": "stream",
     "text": [
      "/var/folders/9k/ywvf61854_j0k_l2ksy1rrsc0000gn/T/ipykernel_35480/962940363.py:7: FutureWarning: YF.download() has changed argument auto_adjust default to True\n",
      "  temp = yf.download(ticker, start = '2020-07-24', end = '2025-07-24')\n",
      "[*********************100%***********************]  1 of 1 completed\n"
     ]
    },
    {
     "name": "stdout",
     "output_type": "stream",
     "text": [
      "254\n"
     ]
    },
    {
     "name": "stderr",
     "output_type": "stream",
     "text": [
      "/var/folders/9k/ywvf61854_j0k_l2ksy1rrsc0000gn/T/ipykernel_35480/962940363.py:7: FutureWarning: YF.download() has changed argument auto_adjust default to True\n",
      "  temp = yf.download(ticker, start = '2020-07-24', end = '2025-07-24')\n",
      "[*********************100%***********************]  1 of 1 completed\n"
     ]
    },
    {
     "name": "stdout",
     "output_type": "stream",
     "text": [
      "255\n"
     ]
    },
    {
     "name": "stderr",
     "output_type": "stream",
     "text": [
      "/var/folders/9k/ywvf61854_j0k_l2ksy1rrsc0000gn/T/ipykernel_35480/962940363.py:7: FutureWarning: YF.download() has changed argument auto_adjust default to True\n",
      "  temp = yf.download(ticker, start = '2020-07-24', end = '2025-07-24')\n",
      "[*********************100%***********************]  1 of 1 completed\n"
     ]
    },
    {
     "name": "stdout",
     "output_type": "stream",
     "text": [
      "256\n"
     ]
    },
    {
     "name": "stderr",
     "output_type": "stream",
     "text": [
      "/var/folders/9k/ywvf61854_j0k_l2ksy1rrsc0000gn/T/ipykernel_35480/962940363.py:7: FutureWarning: YF.download() has changed argument auto_adjust default to True\n",
      "  temp = yf.download(ticker, start = '2020-07-24', end = '2025-07-24')\n",
      "[*********************100%***********************]  1 of 1 completed\n"
     ]
    },
    {
     "name": "stdout",
     "output_type": "stream",
     "text": [
      "257\n"
     ]
    },
    {
     "name": "stderr",
     "output_type": "stream",
     "text": [
      "/var/folders/9k/ywvf61854_j0k_l2ksy1rrsc0000gn/T/ipykernel_35480/962940363.py:7: FutureWarning: YF.download() has changed argument auto_adjust default to True\n",
      "  temp = yf.download(ticker, start = '2020-07-24', end = '2025-07-24')\n",
      "[*********************100%***********************]  1 of 1 completed\n"
     ]
    },
    {
     "name": "stdout",
     "output_type": "stream",
     "text": [
      "258\n"
     ]
    },
    {
     "name": "stderr",
     "output_type": "stream",
     "text": [
      "/var/folders/9k/ywvf61854_j0k_l2ksy1rrsc0000gn/T/ipykernel_35480/962940363.py:7: FutureWarning: YF.download() has changed argument auto_adjust default to True\n",
      "  temp = yf.download(ticker, start = '2020-07-24', end = '2025-07-24')\n",
      "[*********************100%***********************]  1 of 1 completed\n"
     ]
    },
    {
     "name": "stdout",
     "output_type": "stream",
     "text": [
      "259\n"
     ]
    },
    {
     "name": "stderr",
     "output_type": "stream",
     "text": [
      "/var/folders/9k/ywvf61854_j0k_l2ksy1rrsc0000gn/T/ipykernel_35480/962940363.py:7: FutureWarning: YF.download() has changed argument auto_adjust default to True\n",
      "  temp = yf.download(ticker, start = '2020-07-24', end = '2025-07-24')\n",
      "[*********************100%***********************]  1 of 1 completed\n"
     ]
    },
    {
     "name": "stdout",
     "output_type": "stream",
     "text": [
      "260\n"
     ]
    },
    {
     "name": "stderr",
     "output_type": "stream",
     "text": [
      "/var/folders/9k/ywvf61854_j0k_l2ksy1rrsc0000gn/T/ipykernel_35480/962940363.py:7: FutureWarning: YF.download() has changed argument auto_adjust default to True\n",
      "  temp = yf.download(ticker, start = '2020-07-24', end = '2025-07-24')\n",
      "[*********************100%***********************]  1 of 1 completed\n"
     ]
    },
    {
     "name": "stdout",
     "output_type": "stream",
     "text": [
      "261\n"
     ]
    },
    {
     "name": "stderr",
     "output_type": "stream",
     "text": [
      "/var/folders/9k/ywvf61854_j0k_l2ksy1rrsc0000gn/T/ipykernel_35480/962940363.py:7: FutureWarning: YF.download() has changed argument auto_adjust default to True\n",
      "  temp = yf.download(ticker, start = '2020-07-24', end = '2025-07-24')\n",
      "[*********************100%***********************]  1 of 1 completed\n"
     ]
    },
    {
     "name": "stdout",
     "output_type": "stream",
     "text": [
      "262\n"
     ]
    },
    {
     "name": "stderr",
     "output_type": "stream",
     "text": [
      "/var/folders/9k/ywvf61854_j0k_l2ksy1rrsc0000gn/T/ipykernel_35480/962940363.py:7: FutureWarning: YF.download() has changed argument auto_adjust default to True\n",
      "  temp = yf.download(ticker, start = '2020-07-24', end = '2025-07-24')\n",
      "[*********************100%***********************]  1 of 1 completed\n"
     ]
    },
    {
     "name": "stdout",
     "output_type": "stream",
     "text": [
      "263\n"
     ]
    },
    {
     "name": "stderr",
     "output_type": "stream",
     "text": [
      "/var/folders/9k/ywvf61854_j0k_l2ksy1rrsc0000gn/T/ipykernel_35480/962940363.py:7: FutureWarning: YF.download() has changed argument auto_adjust default to True\n",
      "  temp = yf.download(ticker, start = '2020-07-24', end = '2025-07-24')\n",
      "[*********************100%***********************]  1 of 1 completed\n"
     ]
    },
    {
     "name": "stdout",
     "output_type": "stream",
     "text": [
      "264\n"
     ]
    },
    {
     "name": "stderr",
     "output_type": "stream",
     "text": [
      "/var/folders/9k/ywvf61854_j0k_l2ksy1rrsc0000gn/T/ipykernel_35480/962940363.py:7: FutureWarning: YF.download() has changed argument auto_adjust default to True\n",
      "  temp = yf.download(ticker, start = '2020-07-24', end = '2025-07-24')\n",
      "[*********************100%***********************]  1 of 1 completed\n"
     ]
    },
    {
     "name": "stdout",
     "output_type": "stream",
     "text": [
      "265\n"
     ]
    },
    {
     "name": "stderr",
     "output_type": "stream",
     "text": [
      "/var/folders/9k/ywvf61854_j0k_l2ksy1rrsc0000gn/T/ipykernel_35480/962940363.py:7: FutureWarning: YF.download() has changed argument auto_adjust default to True\n",
      "  temp = yf.download(ticker, start = '2020-07-24', end = '2025-07-24')\n",
      "[*********************100%***********************]  1 of 1 completed\n"
     ]
    },
    {
     "name": "stdout",
     "output_type": "stream",
     "text": [
      "266\n"
     ]
    },
    {
     "name": "stderr",
     "output_type": "stream",
     "text": [
      "/var/folders/9k/ywvf61854_j0k_l2ksy1rrsc0000gn/T/ipykernel_35480/962940363.py:7: FutureWarning: YF.download() has changed argument auto_adjust default to True\n",
      "  temp = yf.download(ticker, start = '2020-07-24', end = '2025-07-24')\n",
      "[*********************100%***********************]  1 of 1 completed\n"
     ]
    },
    {
     "name": "stdout",
     "output_type": "stream",
     "text": [
      "267\n"
     ]
    },
    {
     "name": "stderr",
     "output_type": "stream",
     "text": [
      "/var/folders/9k/ywvf61854_j0k_l2ksy1rrsc0000gn/T/ipykernel_35480/962940363.py:7: FutureWarning: YF.download() has changed argument auto_adjust default to True\n",
      "  temp = yf.download(ticker, start = '2020-07-24', end = '2025-07-24')\n",
      "[*********************100%***********************]  1 of 1 completed\n"
     ]
    },
    {
     "name": "stdout",
     "output_type": "stream",
     "text": [
      "268\n"
     ]
    },
    {
     "name": "stderr",
     "output_type": "stream",
     "text": [
      "/var/folders/9k/ywvf61854_j0k_l2ksy1rrsc0000gn/T/ipykernel_35480/962940363.py:7: FutureWarning: YF.download() has changed argument auto_adjust default to True\n",
      "  temp = yf.download(ticker, start = '2020-07-24', end = '2025-07-24')\n",
      "[*********************100%***********************]  1 of 1 completed\n"
     ]
    },
    {
     "name": "stdout",
     "output_type": "stream",
     "text": [
      "269\n"
     ]
    },
    {
     "name": "stderr",
     "output_type": "stream",
     "text": [
      "/var/folders/9k/ywvf61854_j0k_l2ksy1rrsc0000gn/T/ipykernel_35480/962940363.py:7: FutureWarning: YF.download() has changed argument auto_adjust default to True\n",
      "  temp = yf.download(ticker, start = '2020-07-24', end = '2025-07-24')\n",
      "[*********************100%***********************]  1 of 1 completed\n",
      "/var/folders/9k/ywvf61854_j0k_l2ksy1rrsc0000gn/T/ipykernel_35480/962940363.py:7: FutureWarning: YF.download() has changed argument auto_adjust default to True\n",
      "  temp = yf.download(ticker, start = '2020-07-24', end = '2025-07-24')\n"
     ]
    },
    {
     "name": "stdout",
     "output_type": "stream",
     "text": [
      "270\n"
     ]
    },
    {
     "name": "stderr",
     "output_type": "stream",
     "text": [
      "[*********************100%***********************]  1 of 1 completed\n"
     ]
    },
    {
     "name": "stdout",
     "output_type": "stream",
     "text": [
      "271\n"
     ]
    },
    {
     "name": "stderr",
     "output_type": "stream",
     "text": [
      "/var/folders/9k/ywvf61854_j0k_l2ksy1rrsc0000gn/T/ipykernel_35480/962940363.py:7: FutureWarning: YF.download() has changed argument auto_adjust default to True\n",
      "  temp = yf.download(ticker, start = '2020-07-24', end = '2025-07-24')\n",
      "[*********************100%***********************]  1 of 1 completed\n"
     ]
    },
    {
     "name": "stdout",
     "output_type": "stream",
     "text": [
      "272\n"
     ]
    },
    {
     "name": "stderr",
     "output_type": "stream",
     "text": [
      "/var/folders/9k/ywvf61854_j0k_l2ksy1rrsc0000gn/T/ipykernel_35480/962940363.py:7: FutureWarning: YF.download() has changed argument auto_adjust default to True\n",
      "  temp = yf.download(ticker, start = '2020-07-24', end = '2025-07-24')\n",
      "[*********************100%***********************]  1 of 1 completed\n"
     ]
    },
    {
     "name": "stdout",
     "output_type": "stream",
     "text": [
      "273\n"
     ]
    },
    {
     "name": "stderr",
     "output_type": "stream",
     "text": [
      "/var/folders/9k/ywvf61854_j0k_l2ksy1rrsc0000gn/T/ipykernel_35480/962940363.py:7: FutureWarning: YF.download() has changed argument auto_adjust default to True\n",
      "  temp = yf.download(ticker, start = '2020-07-24', end = '2025-07-24')\n",
      "[*********************100%***********************]  1 of 1 completed\n"
     ]
    },
    {
     "name": "stdout",
     "output_type": "stream",
     "text": [
      "274\n"
     ]
    },
    {
     "name": "stderr",
     "output_type": "stream",
     "text": [
      "/var/folders/9k/ywvf61854_j0k_l2ksy1rrsc0000gn/T/ipykernel_35480/962940363.py:7: FutureWarning: YF.download() has changed argument auto_adjust default to True\n",
      "  temp = yf.download(ticker, start = '2020-07-24', end = '2025-07-24')\n",
      "[*********************100%***********************]  1 of 1 completed\n"
     ]
    },
    {
     "name": "stdout",
     "output_type": "stream",
     "text": [
      "275\n"
     ]
    },
    {
     "name": "stderr",
     "output_type": "stream",
     "text": [
      "/var/folders/9k/ywvf61854_j0k_l2ksy1rrsc0000gn/T/ipykernel_35480/962940363.py:7: FutureWarning: YF.download() has changed argument auto_adjust default to True\n",
      "  temp = yf.download(ticker, start = '2020-07-24', end = '2025-07-24')\n",
      "[*********************100%***********************]  1 of 1 completed\n"
     ]
    },
    {
     "name": "stdout",
     "output_type": "stream",
     "text": [
      "276\n"
     ]
    },
    {
     "name": "stderr",
     "output_type": "stream",
     "text": [
      "/var/folders/9k/ywvf61854_j0k_l2ksy1rrsc0000gn/T/ipykernel_35480/962940363.py:7: FutureWarning: YF.download() has changed argument auto_adjust default to True\n",
      "  temp = yf.download(ticker, start = '2020-07-24', end = '2025-07-24')\n",
      "[*********************100%***********************]  1 of 1 completed\n"
     ]
    },
    {
     "name": "stdout",
     "output_type": "stream",
     "text": [
      "277\n"
     ]
    },
    {
     "name": "stderr",
     "output_type": "stream",
     "text": [
      "/var/folders/9k/ywvf61854_j0k_l2ksy1rrsc0000gn/T/ipykernel_35480/962940363.py:7: FutureWarning: YF.download() has changed argument auto_adjust default to True\n",
      "  temp = yf.download(ticker, start = '2020-07-24', end = '2025-07-24')\n",
      "[*********************100%***********************]  1 of 1 completed\n"
     ]
    },
    {
     "name": "stdout",
     "output_type": "stream",
     "text": [
      "278\n"
     ]
    },
    {
     "name": "stderr",
     "output_type": "stream",
     "text": [
      "/var/folders/9k/ywvf61854_j0k_l2ksy1rrsc0000gn/T/ipykernel_35480/962940363.py:7: FutureWarning: YF.download() has changed argument auto_adjust default to True\n",
      "  temp = yf.download(ticker, start = '2020-07-24', end = '2025-07-24')\n",
      "[*********************100%***********************]  1 of 1 completed\n"
     ]
    },
    {
     "name": "stdout",
     "output_type": "stream",
     "text": [
      "279\n"
     ]
    },
    {
     "name": "stderr",
     "output_type": "stream",
     "text": [
      "/var/folders/9k/ywvf61854_j0k_l2ksy1rrsc0000gn/T/ipykernel_35480/962940363.py:7: FutureWarning: YF.download() has changed argument auto_adjust default to True\n",
      "  temp = yf.download(ticker, start = '2020-07-24', end = '2025-07-24')\n",
      "[*********************100%***********************]  1 of 1 completed\n"
     ]
    },
    {
     "name": "stdout",
     "output_type": "stream",
     "text": [
      "280\n"
     ]
    },
    {
     "name": "stderr",
     "output_type": "stream",
     "text": [
      "/var/folders/9k/ywvf61854_j0k_l2ksy1rrsc0000gn/T/ipykernel_35480/962940363.py:7: FutureWarning: YF.download() has changed argument auto_adjust default to True\n",
      "  temp = yf.download(ticker, start = '2020-07-24', end = '2025-07-24')\n",
      "[*********************100%***********************]  1 of 1 completed\n"
     ]
    },
    {
     "name": "stdout",
     "output_type": "stream",
     "text": [
      "281\n"
     ]
    },
    {
     "name": "stderr",
     "output_type": "stream",
     "text": [
      "/var/folders/9k/ywvf61854_j0k_l2ksy1rrsc0000gn/T/ipykernel_35480/962940363.py:7: FutureWarning: YF.download() has changed argument auto_adjust default to True\n",
      "  temp = yf.download(ticker, start = '2020-07-24', end = '2025-07-24')\n",
      "[*********************100%***********************]  1 of 1 completed\n"
     ]
    },
    {
     "name": "stdout",
     "output_type": "stream",
     "text": [
      "282\n"
     ]
    },
    {
     "name": "stderr",
     "output_type": "stream",
     "text": [
      "/var/folders/9k/ywvf61854_j0k_l2ksy1rrsc0000gn/T/ipykernel_35480/962940363.py:7: FutureWarning: YF.download() has changed argument auto_adjust default to True\n",
      "  temp = yf.download(ticker, start = '2020-07-24', end = '2025-07-24')\n",
      "[*********************100%***********************]  1 of 1 completed\n"
     ]
    },
    {
     "name": "stdout",
     "output_type": "stream",
     "text": [
      "283\n"
     ]
    },
    {
     "name": "stderr",
     "output_type": "stream",
     "text": [
      "/var/folders/9k/ywvf61854_j0k_l2ksy1rrsc0000gn/T/ipykernel_35480/962940363.py:7: FutureWarning: YF.download() has changed argument auto_adjust default to True\n",
      "  temp = yf.download(ticker, start = '2020-07-24', end = '2025-07-24')\n",
      "[*********************100%***********************]  1 of 1 completed\n"
     ]
    },
    {
     "name": "stdout",
     "output_type": "stream",
     "text": [
      "284\n"
     ]
    },
    {
     "name": "stderr",
     "output_type": "stream",
     "text": [
      "/var/folders/9k/ywvf61854_j0k_l2ksy1rrsc0000gn/T/ipykernel_35480/962940363.py:7: FutureWarning: YF.download() has changed argument auto_adjust default to True\n",
      "  temp = yf.download(ticker, start = '2020-07-24', end = '2025-07-24')\n",
      "[*********************100%***********************]  1 of 1 completed\n"
     ]
    },
    {
     "name": "stdout",
     "output_type": "stream",
     "text": [
      "285\n"
     ]
    },
    {
     "name": "stderr",
     "output_type": "stream",
     "text": [
      "/var/folders/9k/ywvf61854_j0k_l2ksy1rrsc0000gn/T/ipykernel_35480/962940363.py:7: FutureWarning: YF.download() has changed argument auto_adjust default to True\n",
      "  temp = yf.download(ticker, start = '2020-07-24', end = '2025-07-24')\n",
      "[*********************100%***********************]  1 of 1 completed\n"
     ]
    },
    {
     "name": "stdout",
     "output_type": "stream",
     "text": [
      "286\n"
     ]
    },
    {
     "name": "stderr",
     "output_type": "stream",
     "text": [
      "/var/folders/9k/ywvf61854_j0k_l2ksy1rrsc0000gn/T/ipykernel_35480/962940363.py:7: FutureWarning: YF.download() has changed argument auto_adjust default to True\n",
      "  temp = yf.download(ticker, start = '2020-07-24', end = '2025-07-24')\n",
      "[*********************100%***********************]  1 of 1 completed\n"
     ]
    },
    {
     "name": "stdout",
     "output_type": "stream",
     "text": [
      "287\n"
     ]
    },
    {
     "name": "stderr",
     "output_type": "stream",
     "text": [
      "/var/folders/9k/ywvf61854_j0k_l2ksy1rrsc0000gn/T/ipykernel_35480/962940363.py:7: FutureWarning: YF.download() has changed argument auto_adjust default to True\n",
      "  temp = yf.download(ticker, start = '2020-07-24', end = '2025-07-24')\n",
      "[*********************100%***********************]  1 of 1 completed\n"
     ]
    },
    {
     "name": "stdout",
     "output_type": "stream",
     "text": [
      "288\n"
     ]
    },
    {
     "name": "stderr",
     "output_type": "stream",
     "text": [
      "/var/folders/9k/ywvf61854_j0k_l2ksy1rrsc0000gn/T/ipykernel_35480/962940363.py:7: FutureWarning: YF.download() has changed argument auto_adjust default to True\n",
      "  temp = yf.download(ticker, start = '2020-07-24', end = '2025-07-24')\n",
      "[*********************100%***********************]  1 of 1 completed\n"
     ]
    },
    {
     "name": "stdout",
     "output_type": "stream",
     "text": [
      "289\n"
     ]
    },
    {
     "name": "stderr",
     "output_type": "stream",
     "text": [
      "/var/folders/9k/ywvf61854_j0k_l2ksy1rrsc0000gn/T/ipykernel_35480/962940363.py:7: FutureWarning: YF.download() has changed argument auto_adjust default to True\n",
      "  temp = yf.download(ticker, start = '2020-07-24', end = '2025-07-24')\n",
      "[*********************100%***********************]  1 of 1 completed\n"
     ]
    },
    {
     "name": "stdout",
     "output_type": "stream",
     "text": [
      "290\n"
     ]
    },
    {
     "name": "stderr",
     "output_type": "stream",
     "text": [
      "/var/folders/9k/ywvf61854_j0k_l2ksy1rrsc0000gn/T/ipykernel_35480/962940363.py:7: FutureWarning: YF.download() has changed argument auto_adjust default to True\n",
      "  temp = yf.download(ticker, start = '2020-07-24', end = '2025-07-24')\n",
      "[*********************100%***********************]  1 of 1 completed\n"
     ]
    },
    {
     "name": "stdout",
     "output_type": "stream",
     "text": [
      "291\n"
     ]
    },
    {
     "name": "stderr",
     "output_type": "stream",
     "text": [
      "/var/folders/9k/ywvf61854_j0k_l2ksy1rrsc0000gn/T/ipykernel_35480/962940363.py:7: FutureWarning: YF.download() has changed argument auto_adjust default to True\n",
      "  temp = yf.download(ticker, start = '2020-07-24', end = '2025-07-24')\n",
      "[*********************100%***********************]  1 of 1 completed\n"
     ]
    },
    {
     "name": "stdout",
     "output_type": "stream",
     "text": [
      "292\n"
     ]
    },
    {
     "name": "stderr",
     "output_type": "stream",
     "text": [
      "/var/folders/9k/ywvf61854_j0k_l2ksy1rrsc0000gn/T/ipykernel_35480/962940363.py:7: FutureWarning: YF.download() has changed argument auto_adjust default to True\n",
      "  temp = yf.download(ticker, start = '2020-07-24', end = '2025-07-24')\n",
      "[*********************100%***********************]  1 of 1 completed\n"
     ]
    },
    {
     "name": "stdout",
     "output_type": "stream",
     "text": [
      "293\n"
     ]
    },
    {
     "name": "stderr",
     "output_type": "stream",
     "text": [
      "/var/folders/9k/ywvf61854_j0k_l2ksy1rrsc0000gn/T/ipykernel_35480/962940363.py:7: FutureWarning: YF.download() has changed argument auto_adjust default to True\n",
      "  temp = yf.download(ticker, start = '2020-07-24', end = '2025-07-24')\n",
      "[*********************100%***********************]  1 of 1 completed\n"
     ]
    },
    {
     "name": "stdout",
     "output_type": "stream",
     "text": [
      "294\n"
     ]
    },
    {
     "name": "stderr",
     "output_type": "stream",
     "text": [
      "/var/folders/9k/ywvf61854_j0k_l2ksy1rrsc0000gn/T/ipykernel_35480/962940363.py:7: FutureWarning: YF.download() has changed argument auto_adjust default to True\n",
      "  temp = yf.download(ticker, start = '2020-07-24', end = '2025-07-24')\n",
      "[*********************100%***********************]  1 of 1 completed\n"
     ]
    },
    {
     "name": "stdout",
     "output_type": "stream",
     "text": [
      "295\n"
     ]
    },
    {
     "name": "stderr",
     "output_type": "stream",
     "text": [
      "/var/folders/9k/ywvf61854_j0k_l2ksy1rrsc0000gn/T/ipykernel_35480/962940363.py:7: FutureWarning: YF.download() has changed argument auto_adjust default to True\n",
      "  temp = yf.download(ticker, start = '2020-07-24', end = '2025-07-24')\n",
      "[*********************100%***********************]  1 of 1 completed\n"
     ]
    },
    {
     "name": "stdout",
     "output_type": "stream",
     "text": [
      "296\n"
     ]
    },
    {
     "name": "stderr",
     "output_type": "stream",
     "text": [
      "/var/folders/9k/ywvf61854_j0k_l2ksy1rrsc0000gn/T/ipykernel_35480/962940363.py:7: FutureWarning: YF.download() has changed argument auto_adjust default to True\n",
      "  temp = yf.download(ticker, start = '2020-07-24', end = '2025-07-24')\n",
      "[*********************100%***********************]  1 of 1 completed\n"
     ]
    },
    {
     "name": "stdout",
     "output_type": "stream",
     "text": [
      "297\n"
     ]
    },
    {
     "name": "stderr",
     "output_type": "stream",
     "text": [
      "/var/folders/9k/ywvf61854_j0k_l2ksy1rrsc0000gn/T/ipykernel_35480/962940363.py:7: FutureWarning: YF.download() has changed argument auto_adjust default to True\n",
      "  temp = yf.download(ticker, start = '2020-07-24', end = '2025-07-24')\n",
      "[*********************100%***********************]  1 of 1 completed\n"
     ]
    },
    {
     "name": "stdout",
     "output_type": "stream",
     "text": [
      "298\n"
     ]
    },
    {
     "name": "stderr",
     "output_type": "stream",
     "text": [
      "/var/folders/9k/ywvf61854_j0k_l2ksy1rrsc0000gn/T/ipykernel_35480/962940363.py:7: FutureWarning: YF.download() has changed argument auto_adjust default to True\n",
      "  temp = yf.download(ticker, start = '2020-07-24', end = '2025-07-24')\n",
      "[*********************100%***********************]  1 of 1 completed\n"
     ]
    },
    {
     "name": "stdout",
     "output_type": "stream",
     "text": [
      "299\n"
     ]
    },
    {
     "name": "stderr",
     "output_type": "stream",
     "text": [
      "/var/folders/9k/ywvf61854_j0k_l2ksy1rrsc0000gn/T/ipykernel_35480/962940363.py:7: FutureWarning: YF.download() has changed argument auto_adjust default to True\n",
      "  temp = yf.download(ticker, start = '2020-07-24', end = '2025-07-24')\n",
      "[*********************100%***********************]  1 of 1 completed\n"
     ]
    },
    {
     "name": "stdout",
     "output_type": "stream",
     "text": [
      "300\n"
     ]
    },
    {
     "name": "stderr",
     "output_type": "stream",
     "text": [
      "/var/folders/9k/ywvf61854_j0k_l2ksy1rrsc0000gn/T/ipykernel_35480/962940363.py:7: FutureWarning: YF.download() has changed argument auto_adjust default to True\n",
      "  temp = yf.download(ticker, start = '2020-07-24', end = '2025-07-24')\n",
      "[*********************100%***********************]  1 of 1 completed\n"
     ]
    },
    {
     "name": "stdout",
     "output_type": "stream",
     "text": [
      "301\n"
     ]
    },
    {
     "name": "stderr",
     "output_type": "stream",
     "text": [
      "/var/folders/9k/ywvf61854_j0k_l2ksy1rrsc0000gn/T/ipykernel_35480/962940363.py:7: FutureWarning: YF.download() has changed argument auto_adjust default to True\n",
      "  temp = yf.download(ticker, start = '2020-07-24', end = '2025-07-24')\n",
      "[*********************100%***********************]  1 of 1 completed\n"
     ]
    },
    {
     "name": "stdout",
     "output_type": "stream",
     "text": [
      "302\n"
     ]
    },
    {
     "name": "stderr",
     "output_type": "stream",
     "text": [
      "/var/folders/9k/ywvf61854_j0k_l2ksy1rrsc0000gn/T/ipykernel_35480/962940363.py:7: FutureWarning: YF.download() has changed argument auto_adjust default to True\n",
      "  temp = yf.download(ticker, start = '2020-07-24', end = '2025-07-24')\n",
      "[*********************100%***********************]  1 of 1 completed\n"
     ]
    },
    {
     "name": "stdout",
     "output_type": "stream",
     "text": [
      "303\n"
     ]
    },
    {
     "name": "stderr",
     "output_type": "stream",
     "text": [
      "/var/folders/9k/ywvf61854_j0k_l2ksy1rrsc0000gn/T/ipykernel_35480/962940363.py:7: FutureWarning: YF.download() has changed argument auto_adjust default to True\n",
      "  temp = yf.download(ticker, start = '2020-07-24', end = '2025-07-24')\n",
      "[*********************100%***********************]  1 of 1 completed\n"
     ]
    },
    {
     "name": "stdout",
     "output_type": "stream",
     "text": [
      "304\n"
     ]
    },
    {
     "name": "stderr",
     "output_type": "stream",
     "text": [
      "/var/folders/9k/ywvf61854_j0k_l2ksy1rrsc0000gn/T/ipykernel_35480/962940363.py:7: FutureWarning: YF.download() has changed argument auto_adjust default to True\n",
      "  temp = yf.download(ticker, start = '2020-07-24', end = '2025-07-24')\n",
      "[*********************100%***********************]  1 of 1 completed\n"
     ]
    },
    {
     "name": "stdout",
     "output_type": "stream",
     "text": [
      "305\n"
     ]
    },
    {
     "name": "stderr",
     "output_type": "stream",
     "text": [
      "/var/folders/9k/ywvf61854_j0k_l2ksy1rrsc0000gn/T/ipykernel_35480/962940363.py:7: FutureWarning: YF.download() has changed argument auto_adjust default to True\n",
      "  temp = yf.download(ticker, start = '2020-07-24', end = '2025-07-24')\n",
      "[*********************100%***********************]  1 of 1 completed\n"
     ]
    },
    {
     "name": "stdout",
     "output_type": "stream",
     "text": [
      "306\n"
     ]
    },
    {
     "name": "stderr",
     "output_type": "stream",
     "text": [
      "/var/folders/9k/ywvf61854_j0k_l2ksy1rrsc0000gn/T/ipykernel_35480/962940363.py:7: FutureWarning: YF.download() has changed argument auto_adjust default to True\n",
      "  temp = yf.download(ticker, start = '2020-07-24', end = '2025-07-24')\n",
      "[*********************100%***********************]  1 of 1 completed\n"
     ]
    },
    {
     "name": "stdout",
     "output_type": "stream",
     "text": [
      "307\n"
     ]
    },
    {
     "name": "stderr",
     "output_type": "stream",
     "text": [
      "/var/folders/9k/ywvf61854_j0k_l2ksy1rrsc0000gn/T/ipykernel_35480/962940363.py:7: FutureWarning: YF.download() has changed argument auto_adjust default to True\n",
      "  temp = yf.download(ticker, start = '2020-07-24', end = '2025-07-24')\n",
      "[*********************100%***********************]  1 of 1 completed\n"
     ]
    },
    {
     "name": "stdout",
     "output_type": "stream",
     "text": [
      "308\n"
     ]
    },
    {
     "name": "stderr",
     "output_type": "stream",
     "text": [
      "/var/folders/9k/ywvf61854_j0k_l2ksy1rrsc0000gn/T/ipykernel_35480/962940363.py:7: FutureWarning: YF.download() has changed argument auto_adjust default to True\n",
      "  temp = yf.download(ticker, start = '2020-07-24', end = '2025-07-24')\n",
      "[*********************100%***********************]  1 of 1 completed\n"
     ]
    },
    {
     "name": "stdout",
     "output_type": "stream",
     "text": [
      "309\n"
     ]
    },
    {
     "name": "stderr",
     "output_type": "stream",
     "text": [
      "/var/folders/9k/ywvf61854_j0k_l2ksy1rrsc0000gn/T/ipykernel_35480/962940363.py:7: FutureWarning: YF.download() has changed argument auto_adjust default to True\n",
      "  temp = yf.download(ticker, start = '2020-07-24', end = '2025-07-24')\n",
      "[*********************100%***********************]  1 of 1 completed\n"
     ]
    },
    {
     "name": "stdout",
     "output_type": "stream",
     "text": [
      "310\n"
     ]
    },
    {
     "name": "stderr",
     "output_type": "stream",
     "text": [
      "/var/folders/9k/ywvf61854_j0k_l2ksy1rrsc0000gn/T/ipykernel_35480/962940363.py:7: FutureWarning: YF.download() has changed argument auto_adjust default to True\n",
      "  temp = yf.download(ticker, start = '2020-07-24', end = '2025-07-24')\n",
      "[*********************100%***********************]  1 of 1 completed\n"
     ]
    },
    {
     "name": "stdout",
     "output_type": "stream",
     "text": [
      "311\n"
     ]
    },
    {
     "name": "stderr",
     "output_type": "stream",
     "text": [
      "/var/folders/9k/ywvf61854_j0k_l2ksy1rrsc0000gn/T/ipykernel_35480/962940363.py:7: FutureWarning: YF.download() has changed argument auto_adjust default to True\n",
      "  temp = yf.download(ticker, start = '2020-07-24', end = '2025-07-24')\n",
      "[*********************100%***********************]  1 of 1 completed\n"
     ]
    },
    {
     "name": "stdout",
     "output_type": "stream",
     "text": [
      "312\n"
     ]
    },
    {
     "name": "stderr",
     "output_type": "stream",
     "text": [
      "/var/folders/9k/ywvf61854_j0k_l2ksy1rrsc0000gn/T/ipykernel_35480/962940363.py:7: FutureWarning: YF.download() has changed argument auto_adjust default to True\n",
      "  temp = yf.download(ticker, start = '2020-07-24', end = '2025-07-24')\n",
      "[*********************100%***********************]  1 of 1 completed\n",
      "/var/folders/9k/ywvf61854_j0k_l2ksy1rrsc0000gn/T/ipykernel_35480/962940363.py:7: FutureWarning: YF.download() has changed argument auto_adjust default to True\n",
      "  temp = yf.download(ticker, start = '2020-07-24', end = '2025-07-24')\n"
     ]
    },
    {
     "name": "stdout",
     "output_type": "stream",
     "text": [
      "313\n"
     ]
    },
    {
     "name": "stderr",
     "output_type": "stream",
     "text": [
      "[*********************100%***********************]  1 of 1 completed\n"
     ]
    },
    {
     "name": "stdout",
     "output_type": "stream",
     "text": [
      "314\n"
     ]
    },
    {
     "name": "stderr",
     "output_type": "stream",
     "text": [
      "/var/folders/9k/ywvf61854_j0k_l2ksy1rrsc0000gn/T/ipykernel_35480/962940363.py:7: FutureWarning: YF.download() has changed argument auto_adjust default to True\n",
      "  temp = yf.download(ticker, start = '2020-07-24', end = '2025-07-24')\n",
      "[*********************100%***********************]  1 of 1 completed\n"
     ]
    },
    {
     "name": "stdout",
     "output_type": "stream",
     "text": [
      "315\n"
     ]
    },
    {
     "name": "stderr",
     "output_type": "stream",
     "text": [
      "/var/folders/9k/ywvf61854_j0k_l2ksy1rrsc0000gn/T/ipykernel_35480/962940363.py:7: FutureWarning: YF.download() has changed argument auto_adjust default to True\n",
      "  temp = yf.download(ticker, start = '2020-07-24', end = '2025-07-24')\n",
      "[*********************100%***********************]  1 of 1 completed\n"
     ]
    },
    {
     "name": "stdout",
     "output_type": "stream",
     "text": [
      "316\n"
     ]
    },
    {
     "name": "stderr",
     "output_type": "stream",
     "text": [
      "/var/folders/9k/ywvf61854_j0k_l2ksy1rrsc0000gn/T/ipykernel_35480/962940363.py:7: FutureWarning: YF.download() has changed argument auto_adjust default to True\n",
      "  temp = yf.download(ticker, start = '2020-07-24', end = '2025-07-24')\n",
      "[*********************100%***********************]  1 of 1 completed\n"
     ]
    },
    {
     "name": "stdout",
     "output_type": "stream",
     "text": [
      "317\n"
     ]
    },
    {
     "name": "stderr",
     "output_type": "stream",
     "text": [
      "/var/folders/9k/ywvf61854_j0k_l2ksy1rrsc0000gn/T/ipykernel_35480/962940363.py:7: FutureWarning: YF.download() has changed argument auto_adjust default to True\n",
      "  temp = yf.download(ticker, start = '2020-07-24', end = '2025-07-24')\n",
      "[*********************100%***********************]  1 of 1 completed\n"
     ]
    },
    {
     "name": "stdout",
     "output_type": "stream",
     "text": [
      "318\n"
     ]
    },
    {
     "name": "stderr",
     "output_type": "stream",
     "text": [
      "/var/folders/9k/ywvf61854_j0k_l2ksy1rrsc0000gn/T/ipykernel_35480/962940363.py:7: FutureWarning: YF.download() has changed argument auto_adjust default to True\n",
      "  temp = yf.download(ticker, start = '2020-07-24', end = '2025-07-24')\n",
      "[*********************100%***********************]  1 of 1 completed\n"
     ]
    },
    {
     "name": "stdout",
     "output_type": "stream",
     "text": [
      "319\n"
     ]
    },
    {
     "name": "stderr",
     "output_type": "stream",
     "text": [
      "/var/folders/9k/ywvf61854_j0k_l2ksy1rrsc0000gn/T/ipykernel_35480/962940363.py:7: FutureWarning: YF.download() has changed argument auto_adjust default to True\n",
      "  temp = yf.download(ticker, start = '2020-07-24', end = '2025-07-24')\n",
      "[*********************100%***********************]  1 of 1 completed\n"
     ]
    },
    {
     "name": "stdout",
     "output_type": "stream",
     "text": [
      "320\n"
     ]
    },
    {
     "name": "stderr",
     "output_type": "stream",
     "text": [
      "/var/folders/9k/ywvf61854_j0k_l2ksy1rrsc0000gn/T/ipykernel_35480/962940363.py:7: FutureWarning: YF.download() has changed argument auto_adjust default to True\n",
      "  temp = yf.download(ticker, start = '2020-07-24', end = '2025-07-24')\n",
      "[*********************100%***********************]  1 of 1 completed\n"
     ]
    },
    {
     "name": "stdout",
     "output_type": "stream",
     "text": [
      "321\n"
     ]
    },
    {
     "name": "stderr",
     "output_type": "stream",
     "text": [
      "/var/folders/9k/ywvf61854_j0k_l2ksy1rrsc0000gn/T/ipykernel_35480/962940363.py:7: FutureWarning: YF.download() has changed argument auto_adjust default to True\n",
      "  temp = yf.download(ticker, start = '2020-07-24', end = '2025-07-24')\n",
      "[*********************100%***********************]  1 of 1 completed\n"
     ]
    },
    {
     "name": "stdout",
     "output_type": "stream",
     "text": [
      "322\n"
     ]
    },
    {
     "name": "stderr",
     "output_type": "stream",
     "text": [
      "/var/folders/9k/ywvf61854_j0k_l2ksy1rrsc0000gn/T/ipykernel_35480/962940363.py:7: FutureWarning: YF.download() has changed argument auto_adjust default to True\n",
      "  temp = yf.download(ticker, start = '2020-07-24', end = '2025-07-24')\n",
      "[*********************100%***********************]  1 of 1 completed\n"
     ]
    },
    {
     "name": "stdout",
     "output_type": "stream",
     "text": [
      "323\n"
     ]
    },
    {
     "name": "stderr",
     "output_type": "stream",
     "text": [
      "/var/folders/9k/ywvf61854_j0k_l2ksy1rrsc0000gn/T/ipykernel_35480/962940363.py:7: FutureWarning: YF.download() has changed argument auto_adjust default to True\n",
      "  temp = yf.download(ticker, start = '2020-07-24', end = '2025-07-24')\n",
      "[*********************100%***********************]  1 of 1 completed\n"
     ]
    },
    {
     "name": "stdout",
     "output_type": "stream",
     "text": [
      "324\n"
     ]
    },
    {
     "name": "stderr",
     "output_type": "stream",
     "text": [
      "/var/folders/9k/ywvf61854_j0k_l2ksy1rrsc0000gn/T/ipykernel_35480/962940363.py:7: FutureWarning: YF.download() has changed argument auto_adjust default to True\n",
      "  temp = yf.download(ticker, start = '2020-07-24', end = '2025-07-24')\n",
      "[*********************100%***********************]  1 of 1 completed\n"
     ]
    },
    {
     "name": "stdout",
     "output_type": "stream",
     "text": [
      "325\n"
     ]
    },
    {
     "name": "stderr",
     "output_type": "stream",
     "text": [
      "/var/folders/9k/ywvf61854_j0k_l2ksy1rrsc0000gn/T/ipykernel_35480/962940363.py:7: FutureWarning: YF.download() has changed argument auto_adjust default to True\n",
      "  temp = yf.download(ticker, start = '2020-07-24', end = '2025-07-24')\n",
      "[*********************100%***********************]  1 of 1 completed\n"
     ]
    },
    {
     "name": "stdout",
     "output_type": "stream",
     "text": [
      "326\n"
     ]
    },
    {
     "name": "stderr",
     "output_type": "stream",
     "text": [
      "/var/folders/9k/ywvf61854_j0k_l2ksy1rrsc0000gn/T/ipykernel_35480/962940363.py:7: FutureWarning: YF.download() has changed argument auto_adjust default to True\n",
      "  temp = yf.download(ticker, start = '2020-07-24', end = '2025-07-24')\n",
      "[*********************100%***********************]  1 of 1 completed\n"
     ]
    },
    {
     "name": "stdout",
     "output_type": "stream",
     "text": [
      "327\n"
     ]
    },
    {
     "name": "stderr",
     "output_type": "stream",
     "text": [
      "/var/folders/9k/ywvf61854_j0k_l2ksy1rrsc0000gn/T/ipykernel_35480/962940363.py:7: FutureWarning: YF.download() has changed argument auto_adjust default to True\n",
      "  temp = yf.download(ticker, start = '2020-07-24', end = '2025-07-24')\n",
      "[*********************100%***********************]  1 of 1 completed\n"
     ]
    },
    {
     "name": "stdout",
     "output_type": "stream",
     "text": [
      "328\n"
     ]
    },
    {
     "name": "stderr",
     "output_type": "stream",
     "text": [
      "/var/folders/9k/ywvf61854_j0k_l2ksy1rrsc0000gn/T/ipykernel_35480/962940363.py:7: FutureWarning: YF.download() has changed argument auto_adjust default to True\n",
      "  temp = yf.download(ticker, start = '2020-07-24', end = '2025-07-24')\n",
      "[*********************100%***********************]  1 of 1 completed\n"
     ]
    },
    {
     "name": "stdout",
     "output_type": "stream",
     "text": [
      "329\n"
     ]
    },
    {
     "name": "stderr",
     "output_type": "stream",
     "text": [
      "/var/folders/9k/ywvf61854_j0k_l2ksy1rrsc0000gn/T/ipykernel_35480/962940363.py:7: FutureWarning: YF.download() has changed argument auto_adjust default to True\n",
      "  temp = yf.download(ticker, start = '2020-07-24', end = '2025-07-24')\n",
      "[*********************100%***********************]  1 of 1 completed\n"
     ]
    },
    {
     "name": "stdout",
     "output_type": "stream",
     "text": [
      "330\n"
     ]
    },
    {
     "name": "stderr",
     "output_type": "stream",
     "text": [
      "/var/folders/9k/ywvf61854_j0k_l2ksy1rrsc0000gn/T/ipykernel_35480/962940363.py:7: FutureWarning: YF.download() has changed argument auto_adjust default to True\n",
      "  temp = yf.download(ticker, start = '2020-07-24', end = '2025-07-24')\n",
      "[*********************100%***********************]  1 of 1 completed\n"
     ]
    },
    {
     "name": "stdout",
     "output_type": "stream",
     "text": [
      "331\n"
     ]
    },
    {
     "name": "stderr",
     "output_type": "stream",
     "text": [
      "/var/folders/9k/ywvf61854_j0k_l2ksy1rrsc0000gn/T/ipykernel_35480/962940363.py:7: FutureWarning: YF.download() has changed argument auto_adjust default to True\n",
      "  temp = yf.download(ticker, start = '2020-07-24', end = '2025-07-24')\n",
      "[*********************100%***********************]  1 of 1 completed\n"
     ]
    },
    {
     "name": "stdout",
     "output_type": "stream",
     "text": [
      "332\n"
     ]
    },
    {
     "name": "stderr",
     "output_type": "stream",
     "text": [
      "/var/folders/9k/ywvf61854_j0k_l2ksy1rrsc0000gn/T/ipykernel_35480/962940363.py:7: FutureWarning: YF.download() has changed argument auto_adjust default to True\n",
      "  temp = yf.download(ticker, start = '2020-07-24', end = '2025-07-24')\n",
      "[*********************100%***********************]  1 of 1 completed\n"
     ]
    },
    {
     "name": "stdout",
     "output_type": "stream",
     "text": [
      "333\n"
     ]
    },
    {
     "name": "stderr",
     "output_type": "stream",
     "text": [
      "/var/folders/9k/ywvf61854_j0k_l2ksy1rrsc0000gn/T/ipykernel_35480/962940363.py:7: FutureWarning: YF.download() has changed argument auto_adjust default to True\n",
      "  temp = yf.download(ticker, start = '2020-07-24', end = '2025-07-24')\n",
      "[*********************100%***********************]  1 of 1 completed\n"
     ]
    },
    {
     "name": "stdout",
     "output_type": "stream",
     "text": [
      "334\n"
     ]
    },
    {
     "name": "stderr",
     "output_type": "stream",
     "text": [
      "/var/folders/9k/ywvf61854_j0k_l2ksy1rrsc0000gn/T/ipykernel_35480/962940363.py:7: FutureWarning: YF.download() has changed argument auto_adjust default to True\n",
      "  temp = yf.download(ticker, start = '2020-07-24', end = '2025-07-24')\n",
      "[*********************100%***********************]  1 of 1 completed\n"
     ]
    },
    {
     "name": "stdout",
     "output_type": "stream",
     "text": [
      "335\n"
     ]
    },
    {
     "name": "stderr",
     "output_type": "stream",
     "text": [
      "/var/folders/9k/ywvf61854_j0k_l2ksy1rrsc0000gn/T/ipykernel_35480/962940363.py:7: FutureWarning: YF.download() has changed argument auto_adjust default to True\n",
      "  temp = yf.download(ticker, start = '2020-07-24', end = '2025-07-24')\n",
      "[*********************100%***********************]  1 of 1 completed\n"
     ]
    },
    {
     "name": "stdout",
     "output_type": "stream",
     "text": [
      "336\n"
     ]
    },
    {
     "name": "stderr",
     "output_type": "stream",
     "text": [
      "/var/folders/9k/ywvf61854_j0k_l2ksy1rrsc0000gn/T/ipykernel_35480/962940363.py:7: FutureWarning: YF.download() has changed argument auto_adjust default to True\n",
      "  temp = yf.download(ticker, start = '2020-07-24', end = '2025-07-24')\n",
      "[*********************100%***********************]  1 of 1 completed\n"
     ]
    },
    {
     "name": "stdout",
     "output_type": "stream",
     "text": [
      "337\n"
     ]
    },
    {
     "name": "stderr",
     "output_type": "stream",
     "text": [
      "/var/folders/9k/ywvf61854_j0k_l2ksy1rrsc0000gn/T/ipykernel_35480/962940363.py:7: FutureWarning: YF.download() has changed argument auto_adjust default to True\n",
      "  temp = yf.download(ticker, start = '2020-07-24', end = '2025-07-24')\n",
      "[*********************100%***********************]  1 of 1 completed\n"
     ]
    },
    {
     "name": "stdout",
     "output_type": "stream",
     "text": [
      "338\n"
     ]
    },
    {
     "name": "stderr",
     "output_type": "stream",
     "text": [
      "/var/folders/9k/ywvf61854_j0k_l2ksy1rrsc0000gn/T/ipykernel_35480/962940363.py:7: FutureWarning: YF.download() has changed argument auto_adjust default to True\n",
      "  temp = yf.download(ticker, start = '2020-07-24', end = '2025-07-24')\n",
      "[*********************100%***********************]  1 of 1 completed\n"
     ]
    },
    {
     "name": "stdout",
     "output_type": "stream",
     "text": [
      "339\n"
     ]
    },
    {
     "name": "stderr",
     "output_type": "stream",
     "text": [
      "/var/folders/9k/ywvf61854_j0k_l2ksy1rrsc0000gn/T/ipykernel_35480/962940363.py:7: FutureWarning: YF.download() has changed argument auto_adjust default to True\n",
      "  temp = yf.download(ticker, start = '2020-07-24', end = '2025-07-24')\n",
      "[*********************100%***********************]  1 of 1 completed\n"
     ]
    },
    {
     "name": "stdout",
     "output_type": "stream",
     "text": [
      "340\n"
     ]
    },
    {
     "name": "stderr",
     "output_type": "stream",
     "text": [
      "/var/folders/9k/ywvf61854_j0k_l2ksy1rrsc0000gn/T/ipykernel_35480/962940363.py:7: FutureWarning: YF.download() has changed argument auto_adjust default to True\n",
      "  temp = yf.download(ticker, start = '2020-07-24', end = '2025-07-24')\n",
      "[*********************100%***********************]  1 of 1 completed\n"
     ]
    },
    {
     "name": "stdout",
     "output_type": "stream",
     "text": [
      "341\n"
     ]
    },
    {
     "name": "stderr",
     "output_type": "stream",
     "text": [
      "/var/folders/9k/ywvf61854_j0k_l2ksy1rrsc0000gn/T/ipykernel_35480/962940363.py:7: FutureWarning: YF.download() has changed argument auto_adjust default to True\n",
      "  temp = yf.download(ticker, start = '2020-07-24', end = '2025-07-24')\n",
      "[*********************100%***********************]  1 of 1 completed\n"
     ]
    },
    {
     "name": "stdout",
     "output_type": "stream",
     "text": [
      "342\n"
     ]
    },
    {
     "name": "stderr",
     "output_type": "stream",
     "text": [
      "/var/folders/9k/ywvf61854_j0k_l2ksy1rrsc0000gn/T/ipykernel_35480/962940363.py:7: FutureWarning: YF.download() has changed argument auto_adjust default to True\n",
      "  temp = yf.download(ticker, start = '2020-07-24', end = '2025-07-24')\n",
      "[*********************100%***********************]  1 of 1 completed\n"
     ]
    },
    {
     "name": "stdout",
     "output_type": "stream",
     "text": [
      "343\n"
     ]
    },
    {
     "name": "stderr",
     "output_type": "stream",
     "text": [
      "/var/folders/9k/ywvf61854_j0k_l2ksy1rrsc0000gn/T/ipykernel_35480/962940363.py:7: FutureWarning: YF.download() has changed argument auto_adjust default to True\n",
      "  temp = yf.download(ticker, start = '2020-07-24', end = '2025-07-24')\n",
      "[*********************100%***********************]  1 of 1 completed\n"
     ]
    },
    {
     "name": "stdout",
     "output_type": "stream",
     "text": [
      "344\n"
     ]
    },
    {
     "name": "stderr",
     "output_type": "stream",
     "text": [
      "/var/folders/9k/ywvf61854_j0k_l2ksy1rrsc0000gn/T/ipykernel_35480/962940363.py:7: FutureWarning: YF.download() has changed argument auto_adjust default to True\n",
      "  temp = yf.download(ticker, start = '2020-07-24', end = '2025-07-24')\n",
      "[*********************100%***********************]  1 of 1 completed\n"
     ]
    },
    {
     "name": "stdout",
     "output_type": "stream",
     "text": [
      "345\n"
     ]
    },
    {
     "name": "stderr",
     "output_type": "stream",
     "text": [
      "/var/folders/9k/ywvf61854_j0k_l2ksy1rrsc0000gn/T/ipykernel_35480/962940363.py:7: FutureWarning: YF.download() has changed argument auto_adjust default to True\n",
      "  temp = yf.download(ticker, start = '2020-07-24', end = '2025-07-24')\n",
      "[*********************100%***********************]  1 of 1 completed\n"
     ]
    },
    {
     "name": "stdout",
     "output_type": "stream",
     "text": [
      "346\n"
     ]
    },
    {
     "name": "stderr",
     "output_type": "stream",
     "text": [
      "/var/folders/9k/ywvf61854_j0k_l2ksy1rrsc0000gn/T/ipykernel_35480/962940363.py:7: FutureWarning: YF.download() has changed argument auto_adjust default to True\n",
      "  temp = yf.download(ticker, start = '2020-07-24', end = '2025-07-24')\n",
      "[*********************100%***********************]  1 of 1 completed\n"
     ]
    },
    {
     "name": "stdout",
     "output_type": "stream",
     "text": [
      "347\n"
     ]
    },
    {
     "name": "stderr",
     "output_type": "stream",
     "text": [
      "/var/folders/9k/ywvf61854_j0k_l2ksy1rrsc0000gn/T/ipykernel_35480/962940363.py:7: FutureWarning: YF.download() has changed argument auto_adjust default to True\n",
      "  temp = yf.download(ticker, start = '2020-07-24', end = '2025-07-24')\n",
      "[*********************100%***********************]  1 of 1 completed\n"
     ]
    },
    {
     "name": "stdout",
     "output_type": "stream",
     "text": [
      "348\n"
     ]
    },
    {
     "name": "stderr",
     "output_type": "stream",
     "text": [
      "/var/folders/9k/ywvf61854_j0k_l2ksy1rrsc0000gn/T/ipykernel_35480/962940363.py:7: FutureWarning: YF.download() has changed argument auto_adjust default to True\n",
      "  temp = yf.download(ticker, start = '2020-07-24', end = '2025-07-24')\n",
      "[*********************100%***********************]  1 of 1 completed\n"
     ]
    },
    {
     "name": "stdout",
     "output_type": "stream",
     "text": [
      "349\n"
     ]
    },
    {
     "name": "stderr",
     "output_type": "stream",
     "text": [
      "/var/folders/9k/ywvf61854_j0k_l2ksy1rrsc0000gn/T/ipykernel_35480/962940363.py:7: FutureWarning: YF.download() has changed argument auto_adjust default to True\n",
      "  temp = yf.download(ticker, start = '2020-07-24', end = '2025-07-24')\n",
      "[*********************100%***********************]  1 of 1 completed\n"
     ]
    },
    {
     "name": "stdout",
     "output_type": "stream",
     "text": [
      "350\n"
     ]
    },
    {
     "name": "stderr",
     "output_type": "stream",
     "text": [
      "/var/folders/9k/ywvf61854_j0k_l2ksy1rrsc0000gn/T/ipykernel_35480/962940363.py:7: FutureWarning: YF.download() has changed argument auto_adjust default to True\n",
      "  temp = yf.download(ticker, start = '2020-07-24', end = '2025-07-24')\n",
      "[*********************100%***********************]  1 of 1 completed\n"
     ]
    },
    {
     "name": "stdout",
     "output_type": "stream",
     "text": [
      "351\n"
     ]
    },
    {
     "name": "stderr",
     "output_type": "stream",
     "text": [
      "/var/folders/9k/ywvf61854_j0k_l2ksy1rrsc0000gn/T/ipykernel_35480/962940363.py:7: FutureWarning: YF.download() has changed argument auto_adjust default to True\n",
      "  temp = yf.download(ticker, start = '2020-07-24', end = '2025-07-24')\n",
      "[*********************100%***********************]  1 of 1 completed\n"
     ]
    },
    {
     "name": "stdout",
     "output_type": "stream",
     "text": [
      "352\n"
     ]
    },
    {
     "name": "stderr",
     "output_type": "stream",
     "text": [
      "/var/folders/9k/ywvf61854_j0k_l2ksy1rrsc0000gn/T/ipykernel_35480/962940363.py:7: FutureWarning: YF.download() has changed argument auto_adjust default to True\n",
      "  temp = yf.download(ticker, start = '2020-07-24', end = '2025-07-24')\n",
      "[*********************100%***********************]  1 of 1 completed\n"
     ]
    },
    {
     "name": "stdout",
     "output_type": "stream",
     "text": [
      "353\n"
     ]
    },
    {
     "name": "stderr",
     "output_type": "stream",
     "text": [
      "/var/folders/9k/ywvf61854_j0k_l2ksy1rrsc0000gn/T/ipykernel_35480/962940363.py:7: FutureWarning: YF.download() has changed argument auto_adjust default to True\n",
      "  temp = yf.download(ticker, start = '2020-07-24', end = '2025-07-24')\n",
      "[*********************100%***********************]  1 of 1 completed\n"
     ]
    },
    {
     "name": "stdout",
     "output_type": "stream",
     "text": [
      "354\n"
     ]
    },
    {
     "name": "stderr",
     "output_type": "stream",
     "text": [
      "/var/folders/9k/ywvf61854_j0k_l2ksy1rrsc0000gn/T/ipykernel_35480/962940363.py:7: FutureWarning: YF.download() has changed argument auto_adjust default to True\n",
      "  temp = yf.download(ticker, start = '2020-07-24', end = '2025-07-24')\n",
      "[*********************100%***********************]  1 of 1 completed\n"
     ]
    },
    {
     "name": "stdout",
     "output_type": "stream",
     "text": [
      "355\n"
     ]
    },
    {
     "name": "stderr",
     "output_type": "stream",
     "text": [
      "/var/folders/9k/ywvf61854_j0k_l2ksy1rrsc0000gn/T/ipykernel_35480/962940363.py:7: FutureWarning: YF.download() has changed argument auto_adjust default to True\n",
      "  temp = yf.download(ticker, start = '2020-07-24', end = '2025-07-24')\n",
      "[*********************100%***********************]  1 of 1 completed\n"
     ]
    },
    {
     "name": "stdout",
     "output_type": "stream",
     "text": [
      "356\n"
     ]
    },
    {
     "name": "stderr",
     "output_type": "stream",
     "text": [
      "/var/folders/9k/ywvf61854_j0k_l2ksy1rrsc0000gn/T/ipykernel_35480/962940363.py:7: FutureWarning: YF.download() has changed argument auto_adjust default to True\n",
      "  temp = yf.download(ticker, start = '2020-07-24', end = '2025-07-24')\n",
      "[*********************100%***********************]  1 of 1 completed\n"
     ]
    },
    {
     "name": "stdout",
     "output_type": "stream",
     "text": [
      "357\n"
     ]
    },
    {
     "name": "stderr",
     "output_type": "stream",
     "text": [
      "/var/folders/9k/ywvf61854_j0k_l2ksy1rrsc0000gn/T/ipykernel_35480/962940363.py:7: FutureWarning: YF.download() has changed argument auto_adjust default to True\n",
      "  temp = yf.download(ticker, start = '2020-07-24', end = '2025-07-24')\n",
      "[*********************100%***********************]  1 of 1 completed\n"
     ]
    },
    {
     "name": "stdout",
     "output_type": "stream",
     "text": [
      "358\n"
     ]
    },
    {
     "name": "stderr",
     "output_type": "stream",
     "text": [
      "/var/folders/9k/ywvf61854_j0k_l2ksy1rrsc0000gn/T/ipykernel_35480/962940363.py:7: FutureWarning: YF.download() has changed argument auto_adjust default to True\n",
      "  temp = yf.download(ticker, start = '2020-07-24', end = '2025-07-24')\n",
      "[*********************100%***********************]  1 of 1 completed\n"
     ]
    },
    {
     "name": "stdout",
     "output_type": "stream",
     "text": [
      "359\n"
     ]
    },
    {
     "name": "stderr",
     "output_type": "stream",
     "text": [
      "/var/folders/9k/ywvf61854_j0k_l2ksy1rrsc0000gn/T/ipykernel_35480/962940363.py:7: FutureWarning: YF.download() has changed argument auto_adjust default to True\n",
      "  temp = yf.download(ticker, start = '2020-07-24', end = '2025-07-24')\n",
      "[*********************100%***********************]  1 of 1 completed\n"
     ]
    },
    {
     "name": "stdout",
     "output_type": "stream",
     "text": [
      "360\n"
     ]
    },
    {
     "name": "stderr",
     "output_type": "stream",
     "text": [
      "/var/folders/9k/ywvf61854_j0k_l2ksy1rrsc0000gn/T/ipykernel_35480/962940363.py:7: FutureWarning: YF.download() has changed argument auto_adjust default to True\n",
      "  temp = yf.download(ticker, start = '2020-07-24', end = '2025-07-24')\n",
      "[*********************100%***********************]  1 of 1 completed\n",
      "/var/folders/9k/ywvf61854_j0k_l2ksy1rrsc0000gn/T/ipykernel_35480/962940363.py:7: FutureWarning: YF.download() has changed argument auto_adjust default to True\n",
      "  temp = yf.download(ticker, start = '2020-07-24', end = '2025-07-24')\n"
     ]
    },
    {
     "name": "stdout",
     "output_type": "stream",
     "text": [
      "361\n"
     ]
    },
    {
     "name": "stderr",
     "output_type": "stream",
     "text": [
      "[*********************100%***********************]  1 of 1 completed\n"
     ]
    },
    {
     "name": "stdout",
     "output_type": "stream",
     "text": [
      "362\n"
     ]
    },
    {
     "name": "stderr",
     "output_type": "stream",
     "text": [
      "/var/folders/9k/ywvf61854_j0k_l2ksy1rrsc0000gn/T/ipykernel_35480/962940363.py:7: FutureWarning: YF.download() has changed argument auto_adjust default to True\n",
      "  temp = yf.download(ticker, start = '2020-07-24', end = '2025-07-24')\n",
      "[*********************100%***********************]  1 of 1 completed\n"
     ]
    },
    {
     "name": "stdout",
     "output_type": "stream",
     "text": [
      "363\n"
     ]
    },
    {
     "name": "stderr",
     "output_type": "stream",
     "text": [
      "/var/folders/9k/ywvf61854_j0k_l2ksy1rrsc0000gn/T/ipykernel_35480/962940363.py:7: FutureWarning: YF.download() has changed argument auto_adjust default to True\n",
      "  temp = yf.download(ticker, start = '2020-07-24', end = '2025-07-24')\n",
      "[*********************100%***********************]  1 of 1 completed\n"
     ]
    },
    {
     "name": "stdout",
     "output_type": "stream",
     "text": [
      "364\n"
     ]
    },
    {
     "name": "stderr",
     "output_type": "stream",
     "text": [
      "/var/folders/9k/ywvf61854_j0k_l2ksy1rrsc0000gn/T/ipykernel_35480/962940363.py:7: FutureWarning: YF.download() has changed argument auto_adjust default to True\n",
      "  temp = yf.download(ticker, start = '2020-07-24', end = '2025-07-24')\n",
      "[*********************100%***********************]  1 of 1 completed\n"
     ]
    },
    {
     "name": "stdout",
     "output_type": "stream",
     "text": [
      "365\n"
     ]
    },
    {
     "name": "stderr",
     "output_type": "stream",
     "text": [
      "/var/folders/9k/ywvf61854_j0k_l2ksy1rrsc0000gn/T/ipykernel_35480/962940363.py:7: FutureWarning: YF.download() has changed argument auto_adjust default to True\n",
      "  temp = yf.download(ticker, start = '2020-07-24', end = '2025-07-24')\n",
      "[*********************100%***********************]  1 of 1 completed\n"
     ]
    },
    {
     "name": "stdout",
     "output_type": "stream",
     "text": [
      "366\n"
     ]
    },
    {
     "name": "stderr",
     "output_type": "stream",
     "text": [
      "/var/folders/9k/ywvf61854_j0k_l2ksy1rrsc0000gn/T/ipykernel_35480/962940363.py:7: FutureWarning: YF.download() has changed argument auto_adjust default to True\n",
      "  temp = yf.download(ticker, start = '2020-07-24', end = '2025-07-24')\n",
      "[*********************100%***********************]  1 of 1 completed\n"
     ]
    },
    {
     "name": "stdout",
     "output_type": "stream",
     "text": [
      "367\n"
     ]
    },
    {
     "name": "stderr",
     "output_type": "stream",
     "text": [
      "/var/folders/9k/ywvf61854_j0k_l2ksy1rrsc0000gn/T/ipykernel_35480/962940363.py:7: FutureWarning: YF.download() has changed argument auto_adjust default to True\n",
      "  temp = yf.download(ticker, start = '2020-07-24', end = '2025-07-24')\n",
      "[*********************100%***********************]  1 of 1 completed\n"
     ]
    },
    {
     "name": "stdout",
     "output_type": "stream",
     "text": [
      "368\n"
     ]
    },
    {
     "name": "stderr",
     "output_type": "stream",
     "text": [
      "/var/folders/9k/ywvf61854_j0k_l2ksy1rrsc0000gn/T/ipykernel_35480/962940363.py:7: FutureWarning: YF.download() has changed argument auto_adjust default to True\n",
      "  temp = yf.download(ticker, start = '2020-07-24', end = '2025-07-24')\n",
      "[*********************100%***********************]  1 of 1 completed\n"
     ]
    },
    {
     "name": "stdout",
     "output_type": "stream",
     "text": [
      "369\n"
     ]
    },
    {
     "name": "stderr",
     "output_type": "stream",
     "text": [
      "/var/folders/9k/ywvf61854_j0k_l2ksy1rrsc0000gn/T/ipykernel_35480/962940363.py:7: FutureWarning: YF.download() has changed argument auto_adjust default to True\n",
      "  temp = yf.download(ticker, start = '2020-07-24', end = '2025-07-24')\n",
      "[*********************100%***********************]  1 of 1 completed\n"
     ]
    },
    {
     "name": "stdout",
     "output_type": "stream",
     "text": [
      "370\n"
     ]
    },
    {
     "name": "stderr",
     "output_type": "stream",
     "text": [
      "/var/folders/9k/ywvf61854_j0k_l2ksy1rrsc0000gn/T/ipykernel_35480/962940363.py:7: FutureWarning: YF.download() has changed argument auto_adjust default to True\n",
      "  temp = yf.download(ticker, start = '2020-07-24', end = '2025-07-24')\n",
      "[*********************100%***********************]  1 of 1 completed\n"
     ]
    },
    {
     "name": "stdout",
     "output_type": "stream",
     "text": [
      "371\n"
     ]
    },
    {
     "name": "stderr",
     "output_type": "stream",
     "text": [
      "/var/folders/9k/ywvf61854_j0k_l2ksy1rrsc0000gn/T/ipykernel_35480/962940363.py:7: FutureWarning: YF.download() has changed argument auto_adjust default to True\n",
      "  temp = yf.download(ticker, start = '2020-07-24', end = '2025-07-24')\n",
      "[*********************100%***********************]  1 of 1 completed\n"
     ]
    },
    {
     "name": "stdout",
     "output_type": "stream",
     "text": [
      "372\n"
     ]
    },
    {
     "name": "stderr",
     "output_type": "stream",
     "text": [
      "/var/folders/9k/ywvf61854_j0k_l2ksy1rrsc0000gn/T/ipykernel_35480/962940363.py:7: FutureWarning: YF.download() has changed argument auto_adjust default to True\n",
      "  temp = yf.download(ticker, start = '2020-07-24', end = '2025-07-24')\n",
      "[*********************100%***********************]  1 of 1 completed\n"
     ]
    },
    {
     "name": "stdout",
     "output_type": "stream",
     "text": [
      "373\n"
     ]
    },
    {
     "name": "stderr",
     "output_type": "stream",
     "text": [
      "/var/folders/9k/ywvf61854_j0k_l2ksy1rrsc0000gn/T/ipykernel_35480/962940363.py:7: FutureWarning: YF.download() has changed argument auto_adjust default to True\n",
      "  temp = yf.download(ticker, start = '2020-07-24', end = '2025-07-24')\n",
      "[*********************100%***********************]  1 of 1 completed\n"
     ]
    },
    {
     "name": "stdout",
     "output_type": "stream",
     "text": [
      "374\n"
     ]
    },
    {
     "name": "stderr",
     "output_type": "stream",
     "text": [
      "/var/folders/9k/ywvf61854_j0k_l2ksy1rrsc0000gn/T/ipykernel_35480/962940363.py:7: FutureWarning: YF.download() has changed argument auto_adjust default to True\n",
      "  temp = yf.download(ticker, start = '2020-07-24', end = '2025-07-24')\n",
      "[*********************100%***********************]  1 of 1 completed\n"
     ]
    },
    {
     "name": "stdout",
     "output_type": "stream",
     "text": [
      "375\n"
     ]
    },
    {
     "name": "stderr",
     "output_type": "stream",
     "text": [
      "/var/folders/9k/ywvf61854_j0k_l2ksy1rrsc0000gn/T/ipykernel_35480/962940363.py:7: FutureWarning: YF.download() has changed argument auto_adjust default to True\n",
      "  temp = yf.download(ticker, start = '2020-07-24', end = '2025-07-24')\n",
      "[*********************100%***********************]  1 of 1 completed\n"
     ]
    },
    {
     "name": "stdout",
     "output_type": "stream",
     "text": [
      "376\n"
     ]
    },
    {
     "name": "stderr",
     "output_type": "stream",
     "text": [
      "/var/folders/9k/ywvf61854_j0k_l2ksy1rrsc0000gn/T/ipykernel_35480/962940363.py:7: FutureWarning: YF.download() has changed argument auto_adjust default to True\n",
      "  temp = yf.download(ticker, start = '2020-07-24', end = '2025-07-24')\n",
      "[*********************100%***********************]  1 of 1 completed\n"
     ]
    },
    {
     "name": "stdout",
     "output_type": "stream",
     "text": [
      "377\n"
     ]
    },
    {
     "name": "stderr",
     "output_type": "stream",
     "text": [
      "/var/folders/9k/ywvf61854_j0k_l2ksy1rrsc0000gn/T/ipykernel_35480/962940363.py:7: FutureWarning: YF.download() has changed argument auto_adjust default to True\n",
      "  temp = yf.download(ticker, start = '2020-07-24', end = '2025-07-24')\n",
      "[*********************100%***********************]  1 of 1 completed\n"
     ]
    },
    {
     "name": "stdout",
     "output_type": "stream",
     "text": [
      "378\n"
     ]
    },
    {
     "name": "stderr",
     "output_type": "stream",
     "text": [
      "/var/folders/9k/ywvf61854_j0k_l2ksy1rrsc0000gn/T/ipykernel_35480/962940363.py:7: FutureWarning: YF.download() has changed argument auto_adjust default to True\n",
      "  temp = yf.download(ticker, start = '2020-07-24', end = '2025-07-24')\n",
      "[*********************100%***********************]  1 of 1 completed\n"
     ]
    },
    {
     "name": "stdout",
     "output_type": "stream",
     "text": [
      "379\n"
     ]
    },
    {
     "name": "stderr",
     "output_type": "stream",
     "text": [
      "/var/folders/9k/ywvf61854_j0k_l2ksy1rrsc0000gn/T/ipykernel_35480/962940363.py:7: FutureWarning: YF.download() has changed argument auto_adjust default to True\n",
      "  temp = yf.download(ticker, start = '2020-07-24', end = '2025-07-24')\n",
      "[*********************100%***********************]  1 of 1 completed\n"
     ]
    },
    {
     "name": "stdout",
     "output_type": "stream",
     "text": [
      "380\n"
     ]
    },
    {
     "name": "stderr",
     "output_type": "stream",
     "text": [
      "/var/folders/9k/ywvf61854_j0k_l2ksy1rrsc0000gn/T/ipykernel_35480/962940363.py:7: FutureWarning: YF.download() has changed argument auto_adjust default to True\n",
      "  temp = yf.download(ticker, start = '2020-07-24', end = '2025-07-24')\n",
      "[*********************100%***********************]  1 of 1 completed\n"
     ]
    },
    {
     "name": "stdout",
     "output_type": "stream",
     "text": [
      "381\n"
     ]
    },
    {
     "name": "stderr",
     "output_type": "stream",
     "text": [
      "/var/folders/9k/ywvf61854_j0k_l2ksy1rrsc0000gn/T/ipykernel_35480/962940363.py:7: FutureWarning: YF.download() has changed argument auto_adjust default to True\n",
      "  temp = yf.download(ticker, start = '2020-07-24', end = '2025-07-24')\n",
      "[*********************100%***********************]  1 of 1 completed\n"
     ]
    },
    {
     "name": "stdout",
     "output_type": "stream",
     "text": [
      "382\n"
     ]
    },
    {
     "name": "stderr",
     "output_type": "stream",
     "text": [
      "/var/folders/9k/ywvf61854_j0k_l2ksy1rrsc0000gn/T/ipykernel_35480/962940363.py:7: FutureWarning: YF.download() has changed argument auto_adjust default to True\n",
      "  temp = yf.download(ticker, start = '2020-07-24', end = '2025-07-24')\n",
      "[*********************100%***********************]  1 of 1 completed\n"
     ]
    },
    {
     "name": "stdout",
     "output_type": "stream",
     "text": [
      "383\n"
     ]
    },
    {
     "name": "stderr",
     "output_type": "stream",
     "text": [
      "/var/folders/9k/ywvf61854_j0k_l2ksy1rrsc0000gn/T/ipykernel_35480/962940363.py:7: FutureWarning: YF.download() has changed argument auto_adjust default to True\n",
      "  temp = yf.download(ticker, start = '2020-07-24', end = '2025-07-24')\n",
      "[*********************100%***********************]  1 of 1 completed\n"
     ]
    },
    {
     "name": "stdout",
     "output_type": "stream",
     "text": [
      "384\n"
     ]
    },
    {
     "name": "stderr",
     "output_type": "stream",
     "text": [
      "/var/folders/9k/ywvf61854_j0k_l2ksy1rrsc0000gn/T/ipykernel_35480/962940363.py:7: FutureWarning: YF.download() has changed argument auto_adjust default to True\n",
      "  temp = yf.download(ticker, start = '2020-07-24', end = '2025-07-24')\n",
      "[*********************100%***********************]  1 of 1 completed\n"
     ]
    },
    {
     "name": "stdout",
     "output_type": "stream",
     "text": [
      "385\n"
     ]
    },
    {
     "name": "stderr",
     "output_type": "stream",
     "text": [
      "/var/folders/9k/ywvf61854_j0k_l2ksy1rrsc0000gn/T/ipykernel_35480/962940363.py:7: FutureWarning: YF.download() has changed argument auto_adjust default to True\n",
      "  temp = yf.download(ticker, start = '2020-07-24', end = '2025-07-24')\n",
      "[*********************100%***********************]  1 of 1 completed\n"
     ]
    },
    {
     "name": "stdout",
     "output_type": "stream",
     "text": [
      "386\n"
     ]
    },
    {
     "name": "stderr",
     "output_type": "stream",
     "text": [
      "/var/folders/9k/ywvf61854_j0k_l2ksy1rrsc0000gn/T/ipykernel_35480/962940363.py:7: FutureWarning: YF.download() has changed argument auto_adjust default to True\n",
      "  temp = yf.download(ticker, start = '2020-07-24', end = '2025-07-24')\n",
      "[*********************100%***********************]  1 of 1 completed\n"
     ]
    },
    {
     "name": "stdout",
     "output_type": "stream",
     "text": [
      "387\n"
     ]
    },
    {
     "name": "stderr",
     "output_type": "stream",
     "text": [
      "/var/folders/9k/ywvf61854_j0k_l2ksy1rrsc0000gn/T/ipykernel_35480/962940363.py:7: FutureWarning: YF.download() has changed argument auto_adjust default to True\n",
      "  temp = yf.download(ticker, start = '2020-07-24', end = '2025-07-24')\n",
      "[*********************100%***********************]  1 of 1 completed\n"
     ]
    },
    {
     "name": "stdout",
     "output_type": "stream",
     "text": [
      "388\n"
     ]
    },
    {
     "name": "stderr",
     "output_type": "stream",
     "text": [
      "/var/folders/9k/ywvf61854_j0k_l2ksy1rrsc0000gn/T/ipykernel_35480/962940363.py:7: FutureWarning: YF.download() has changed argument auto_adjust default to True\n",
      "  temp = yf.download(ticker, start = '2020-07-24', end = '2025-07-24')\n",
      "[*********************100%***********************]  1 of 1 completed\n"
     ]
    },
    {
     "name": "stdout",
     "output_type": "stream",
     "text": [
      "389\n"
     ]
    },
    {
     "name": "stderr",
     "output_type": "stream",
     "text": [
      "/var/folders/9k/ywvf61854_j0k_l2ksy1rrsc0000gn/T/ipykernel_35480/962940363.py:7: FutureWarning: YF.download() has changed argument auto_adjust default to True\n",
      "  temp = yf.download(ticker, start = '2020-07-24', end = '2025-07-24')\n",
      "[*********************100%***********************]  1 of 1 completed\n"
     ]
    },
    {
     "name": "stdout",
     "output_type": "stream",
     "text": [
      "390\n"
     ]
    },
    {
     "name": "stderr",
     "output_type": "stream",
     "text": [
      "/var/folders/9k/ywvf61854_j0k_l2ksy1rrsc0000gn/T/ipykernel_35480/962940363.py:7: FutureWarning: YF.download() has changed argument auto_adjust default to True\n",
      "  temp = yf.download(ticker, start = '2020-07-24', end = '2025-07-24')\n",
      "[*********************100%***********************]  1 of 1 completed\n"
     ]
    },
    {
     "name": "stdout",
     "output_type": "stream",
     "text": [
      "391\n"
     ]
    },
    {
     "name": "stderr",
     "output_type": "stream",
     "text": [
      "/var/folders/9k/ywvf61854_j0k_l2ksy1rrsc0000gn/T/ipykernel_35480/962940363.py:7: FutureWarning: YF.download() has changed argument auto_adjust default to True\n",
      "  temp = yf.download(ticker, start = '2020-07-24', end = '2025-07-24')\n",
      "[*********************100%***********************]  1 of 1 completed\n"
     ]
    },
    {
     "name": "stdout",
     "output_type": "stream",
     "text": [
      "392\n"
     ]
    },
    {
     "name": "stderr",
     "output_type": "stream",
     "text": [
      "/var/folders/9k/ywvf61854_j0k_l2ksy1rrsc0000gn/T/ipykernel_35480/962940363.py:7: FutureWarning: YF.download() has changed argument auto_adjust default to True\n",
      "  temp = yf.download(ticker, start = '2020-07-24', end = '2025-07-24')\n",
      "[*********************100%***********************]  1 of 1 completed\n"
     ]
    },
    {
     "name": "stdout",
     "output_type": "stream",
     "text": [
      "393\n"
     ]
    },
    {
     "name": "stderr",
     "output_type": "stream",
     "text": [
      "/var/folders/9k/ywvf61854_j0k_l2ksy1rrsc0000gn/T/ipykernel_35480/962940363.py:7: FutureWarning: YF.download() has changed argument auto_adjust default to True\n",
      "  temp = yf.download(ticker, start = '2020-07-24', end = '2025-07-24')\n",
      "[*********************100%***********************]  1 of 1 completed\n"
     ]
    },
    {
     "name": "stdout",
     "output_type": "stream",
     "text": [
      "394\n"
     ]
    },
    {
     "name": "stderr",
     "output_type": "stream",
     "text": [
      "/var/folders/9k/ywvf61854_j0k_l2ksy1rrsc0000gn/T/ipykernel_35480/962940363.py:7: FutureWarning: YF.download() has changed argument auto_adjust default to True\n",
      "  temp = yf.download(ticker, start = '2020-07-24', end = '2025-07-24')\n",
      "[*********************100%***********************]  1 of 1 completed\n"
     ]
    },
    {
     "name": "stdout",
     "output_type": "stream",
     "text": [
      "395\n"
     ]
    },
    {
     "name": "stderr",
     "output_type": "stream",
     "text": [
      "/var/folders/9k/ywvf61854_j0k_l2ksy1rrsc0000gn/T/ipykernel_35480/962940363.py:7: FutureWarning: YF.download() has changed argument auto_adjust default to True\n",
      "  temp = yf.download(ticker, start = '2020-07-24', end = '2025-07-24')\n",
      "[*********************100%***********************]  1 of 1 completed\n"
     ]
    },
    {
     "name": "stdout",
     "output_type": "stream",
     "text": [
      "396\n"
     ]
    },
    {
     "name": "stderr",
     "output_type": "stream",
     "text": [
      "/var/folders/9k/ywvf61854_j0k_l2ksy1rrsc0000gn/T/ipykernel_35480/962940363.py:7: FutureWarning: YF.download() has changed argument auto_adjust default to True\n",
      "  temp = yf.download(ticker, start = '2020-07-24', end = '2025-07-24')\n",
      "[*********************100%***********************]  1 of 1 completed\n"
     ]
    },
    {
     "name": "stdout",
     "output_type": "stream",
     "text": [
      "397\n"
     ]
    },
    {
     "name": "stderr",
     "output_type": "stream",
     "text": [
      "/var/folders/9k/ywvf61854_j0k_l2ksy1rrsc0000gn/T/ipykernel_35480/962940363.py:7: FutureWarning: YF.download() has changed argument auto_adjust default to True\n",
      "  temp = yf.download(ticker, start = '2020-07-24', end = '2025-07-24')\n",
      "[*********************100%***********************]  1 of 1 completed\n"
     ]
    },
    {
     "name": "stdout",
     "output_type": "stream",
     "text": [
      "398\n"
     ]
    },
    {
     "name": "stderr",
     "output_type": "stream",
     "text": [
      "/var/folders/9k/ywvf61854_j0k_l2ksy1rrsc0000gn/T/ipykernel_35480/962940363.py:7: FutureWarning: YF.download() has changed argument auto_adjust default to True\n",
      "  temp = yf.download(ticker, start = '2020-07-24', end = '2025-07-24')\n",
      "[*********************100%***********************]  1 of 1 completed\n"
     ]
    },
    {
     "name": "stdout",
     "output_type": "stream",
     "text": [
      "399\n"
     ]
    },
    {
     "name": "stderr",
     "output_type": "stream",
     "text": [
      "/var/folders/9k/ywvf61854_j0k_l2ksy1rrsc0000gn/T/ipykernel_35480/962940363.py:7: FutureWarning: YF.download() has changed argument auto_adjust default to True\n",
      "  temp = yf.download(ticker, start = '2020-07-24', end = '2025-07-24')\n",
      "[*********************100%***********************]  1 of 1 completed\n"
     ]
    },
    {
     "name": "stdout",
     "output_type": "stream",
     "text": [
      "400\n"
     ]
    },
    {
     "name": "stderr",
     "output_type": "stream",
     "text": [
      "/var/folders/9k/ywvf61854_j0k_l2ksy1rrsc0000gn/T/ipykernel_35480/962940363.py:7: FutureWarning: YF.download() has changed argument auto_adjust default to True\n",
      "  temp = yf.download(ticker, start = '2020-07-24', end = '2025-07-24')\n",
      "[*********************100%***********************]  1 of 1 completed\n"
     ]
    },
    {
     "name": "stdout",
     "output_type": "stream",
     "text": [
      "401\n"
     ]
    },
    {
     "name": "stderr",
     "output_type": "stream",
     "text": [
      "/var/folders/9k/ywvf61854_j0k_l2ksy1rrsc0000gn/T/ipykernel_35480/962940363.py:7: FutureWarning: YF.download() has changed argument auto_adjust default to True\n",
      "  temp = yf.download(ticker, start = '2020-07-24', end = '2025-07-24')\n",
      "[*********************100%***********************]  1 of 1 completed\n"
     ]
    },
    {
     "name": "stdout",
     "output_type": "stream",
     "text": [
      "402\n"
     ]
    },
    {
     "name": "stderr",
     "output_type": "stream",
     "text": [
      "/var/folders/9k/ywvf61854_j0k_l2ksy1rrsc0000gn/T/ipykernel_35480/962940363.py:7: FutureWarning: YF.download() has changed argument auto_adjust default to True\n",
      "  temp = yf.download(ticker, start = '2020-07-24', end = '2025-07-24')\n",
      "[*********************100%***********************]  1 of 1 completed\n"
     ]
    },
    {
     "name": "stdout",
     "output_type": "stream",
     "text": [
      "403\n"
     ]
    },
    {
     "name": "stderr",
     "output_type": "stream",
     "text": [
      "/var/folders/9k/ywvf61854_j0k_l2ksy1rrsc0000gn/T/ipykernel_35480/962940363.py:7: FutureWarning: YF.download() has changed argument auto_adjust default to True\n",
      "  temp = yf.download(ticker, start = '2020-07-24', end = '2025-07-24')\n",
      "[*********************100%***********************]  1 of 1 completed\n"
     ]
    },
    {
     "name": "stdout",
     "output_type": "stream",
     "text": [
      "404\n"
     ]
    },
    {
     "name": "stderr",
     "output_type": "stream",
     "text": [
      "/var/folders/9k/ywvf61854_j0k_l2ksy1rrsc0000gn/T/ipykernel_35480/962940363.py:7: FutureWarning: YF.download() has changed argument auto_adjust default to True\n",
      "  temp = yf.download(ticker, start = '2020-07-24', end = '2025-07-24')\n",
      "[*********************100%***********************]  1 of 1 completed\n"
     ]
    },
    {
     "name": "stdout",
     "output_type": "stream",
     "text": [
      "405\n"
     ]
    },
    {
     "name": "stderr",
     "output_type": "stream",
     "text": [
      "/var/folders/9k/ywvf61854_j0k_l2ksy1rrsc0000gn/T/ipykernel_35480/962940363.py:7: FutureWarning: YF.download() has changed argument auto_adjust default to True\n",
      "  temp = yf.download(ticker, start = '2020-07-24', end = '2025-07-24')\n",
      "[*********************100%***********************]  1 of 1 completed\n"
     ]
    },
    {
     "name": "stdout",
     "output_type": "stream",
     "text": [
      "406\n"
     ]
    },
    {
     "name": "stderr",
     "output_type": "stream",
     "text": [
      "/var/folders/9k/ywvf61854_j0k_l2ksy1rrsc0000gn/T/ipykernel_35480/962940363.py:7: FutureWarning: YF.download() has changed argument auto_adjust default to True\n",
      "  temp = yf.download(ticker, start = '2020-07-24', end = '2025-07-24')\n",
      "[*********************100%***********************]  1 of 1 completed\n"
     ]
    },
    {
     "name": "stdout",
     "output_type": "stream",
     "text": [
      "407\n"
     ]
    },
    {
     "name": "stderr",
     "output_type": "stream",
     "text": [
      "/var/folders/9k/ywvf61854_j0k_l2ksy1rrsc0000gn/T/ipykernel_35480/962940363.py:7: FutureWarning: YF.download() has changed argument auto_adjust default to True\n",
      "  temp = yf.download(ticker, start = '2020-07-24', end = '2025-07-24')\n",
      "[*********************100%***********************]  1 of 1 completed\n"
     ]
    },
    {
     "name": "stdout",
     "output_type": "stream",
     "text": [
      "408\n"
     ]
    },
    {
     "name": "stderr",
     "output_type": "stream",
     "text": [
      "/var/folders/9k/ywvf61854_j0k_l2ksy1rrsc0000gn/T/ipykernel_35480/962940363.py:7: FutureWarning: YF.download() has changed argument auto_adjust default to True\n",
      "  temp = yf.download(ticker, start = '2020-07-24', end = '2025-07-24')\n",
      "[*********************100%***********************]  1 of 1 completed\n"
     ]
    },
    {
     "name": "stdout",
     "output_type": "stream",
     "text": [
      "409\n"
     ]
    },
    {
     "name": "stderr",
     "output_type": "stream",
     "text": [
      "/var/folders/9k/ywvf61854_j0k_l2ksy1rrsc0000gn/T/ipykernel_35480/962940363.py:7: FutureWarning: YF.download() has changed argument auto_adjust default to True\n",
      "  temp = yf.download(ticker, start = '2020-07-24', end = '2025-07-24')\n",
      "[*********************100%***********************]  1 of 1 completed\n"
     ]
    },
    {
     "name": "stdout",
     "output_type": "stream",
     "text": [
      "410\n"
     ]
    },
    {
     "name": "stderr",
     "output_type": "stream",
     "text": [
      "/var/folders/9k/ywvf61854_j0k_l2ksy1rrsc0000gn/T/ipykernel_35480/962940363.py:7: FutureWarning: YF.download() has changed argument auto_adjust default to True\n",
      "  temp = yf.download(ticker, start = '2020-07-24', end = '2025-07-24')\n",
      "[*********************100%***********************]  1 of 1 completed\n"
     ]
    },
    {
     "name": "stdout",
     "output_type": "stream",
     "text": [
      "411\n"
     ]
    },
    {
     "name": "stderr",
     "output_type": "stream",
     "text": [
      "/var/folders/9k/ywvf61854_j0k_l2ksy1rrsc0000gn/T/ipykernel_35480/962940363.py:7: FutureWarning: YF.download() has changed argument auto_adjust default to True\n",
      "  temp = yf.download(ticker, start = '2020-07-24', end = '2025-07-24')\n",
      "[*********************100%***********************]  1 of 1 completed\n",
      "/var/folders/9k/ywvf61854_j0k_l2ksy1rrsc0000gn/T/ipykernel_35480/962940363.py:7: FutureWarning: YF.download() has changed argument auto_adjust default to True\n",
      "  temp = yf.download(ticker, start = '2020-07-24', end = '2025-07-24')\n"
     ]
    },
    {
     "name": "stdout",
     "output_type": "stream",
     "text": [
      "412\n"
     ]
    },
    {
     "name": "stderr",
     "output_type": "stream",
     "text": [
      "[*********************100%***********************]  1 of 1 completed\n"
     ]
    },
    {
     "name": "stdout",
     "output_type": "stream",
     "text": [
      "413\n"
     ]
    },
    {
     "name": "stderr",
     "output_type": "stream",
     "text": [
      "/var/folders/9k/ywvf61854_j0k_l2ksy1rrsc0000gn/T/ipykernel_35480/962940363.py:7: FutureWarning: YF.download() has changed argument auto_adjust default to True\n",
      "  temp = yf.download(ticker, start = '2020-07-24', end = '2025-07-24')\n",
      "[*********************100%***********************]  1 of 1 completed\n"
     ]
    },
    {
     "name": "stdout",
     "output_type": "stream",
     "text": [
      "414\n"
     ]
    },
    {
     "name": "stderr",
     "output_type": "stream",
     "text": [
      "/var/folders/9k/ywvf61854_j0k_l2ksy1rrsc0000gn/T/ipykernel_35480/962940363.py:7: FutureWarning: YF.download() has changed argument auto_adjust default to True\n",
      "  temp = yf.download(ticker, start = '2020-07-24', end = '2025-07-24')\n",
      "[*********************100%***********************]  1 of 1 completed\n"
     ]
    },
    {
     "name": "stdout",
     "output_type": "stream",
     "text": [
      "415\n"
     ]
    },
    {
     "name": "stderr",
     "output_type": "stream",
     "text": [
      "/var/folders/9k/ywvf61854_j0k_l2ksy1rrsc0000gn/T/ipykernel_35480/962940363.py:7: FutureWarning: YF.download() has changed argument auto_adjust default to True\n",
      "  temp = yf.download(ticker, start = '2020-07-24', end = '2025-07-24')\n",
      "[*********************100%***********************]  1 of 1 completed\n"
     ]
    },
    {
     "name": "stdout",
     "output_type": "stream",
     "text": [
      "416\n"
     ]
    },
    {
     "name": "stderr",
     "output_type": "stream",
     "text": [
      "/var/folders/9k/ywvf61854_j0k_l2ksy1rrsc0000gn/T/ipykernel_35480/962940363.py:7: FutureWarning: YF.download() has changed argument auto_adjust default to True\n",
      "  temp = yf.download(ticker, start = '2020-07-24', end = '2025-07-24')\n",
      "[*********************100%***********************]  1 of 1 completed\n"
     ]
    },
    {
     "name": "stdout",
     "output_type": "stream",
     "text": [
      "417\n"
     ]
    },
    {
     "name": "stderr",
     "output_type": "stream",
     "text": [
      "/var/folders/9k/ywvf61854_j0k_l2ksy1rrsc0000gn/T/ipykernel_35480/962940363.py:7: FutureWarning: YF.download() has changed argument auto_adjust default to True\n",
      "  temp = yf.download(ticker, start = '2020-07-24', end = '2025-07-24')\n",
      "[*********************100%***********************]  1 of 1 completed\n"
     ]
    },
    {
     "name": "stdout",
     "output_type": "stream",
     "text": [
      "418\n"
     ]
    },
    {
     "name": "stderr",
     "output_type": "stream",
     "text": [
      "/var/folders/9k/ywvf61854_j0k_l2ksy1rrsc0000gn/T/ipykernel_35480/962940363.py:7: FutureWarning: YF.download() has changed argument auto_adjust default to True\n",
      "  temp = yf.download(ticker, start = '2020-07-24', end = '2025-07-24')\n",
      "[*********************100%***********************]  1 of 1 completed\n",
      "/var/folders/9k/ywvf61854_j0k_l2ksy1rrsc0000gn/T/ipykernel_35480/962940363.py:7: FutureWarning: YF.download() has changed argument auto_adjust default to True\n",
      "  temp = yf.download(ticker, start = '2020-07-24', end = '2025-07-24')\n"
     ]
    },
    {
     "name": "stdout",
     "output_type": "stream",
     "text": [
      "419\n"
     ]
    },
    {
     "name": "stderr",
     "output_type": "stream",
     "text": [
      "[*********************100%***********************]  1 of 1 completed\n"
     ]
    },
    {
     "name": "stdout",
     "output_type": "stream",
     "text": [
      "420\n"
     ]
    },
    {
     "name": "stderr",
     "output_type": "stream",
     "text": [
      "/var/folders/9k/ywvf61854_j0k_l2ksy1rrsc0000gn/T/ipykernel_35480/962940363.py:7: FutureWarning: YF.download() has changed argument auto_adjust default to True\n",
      "  temp = yf.download(ticker, start = '2020-07-24', end = '2025-07-24')\n",
      "[*********************100%***********************]  1 of 1 completed\n"
     ]
    },
    {
     "name": "stdout",
     "output_type": "stream",
     "text": [
      "421\n"
     ]
    },
    {
     "name": "stderr",
     "output_type": "stream",
     "text": [
      "/var/folders/9k/ywvf61854_j0k_l2ksy1rrsc0000gn/T/ipykernel_35480/962940363.py:7: FutureWarning: YF.download() has changed argument auto_adjust default to True\n",
      "  temp = yf.download(ticker, start = '2020-07-24', end = '2025-07-24')\n",
      "[*********************100%***********************]  1 of 1 completed\n"
     ]
    },
    {
     "name": "stdout",
     "output_type": "stream",
     "text": [
      "422\n"
     ]
    },
    {
     "name": "stderr",
     "output_type": "stream",
     "text": [
      "/var/folders/9k/ywvf61854_j0k_l2ksy1rrsc0000gn/T/ipykernel_35480/962940363.py:7: FutureWarning: YF.download() has changed argument auto_adjust default to True\n",
      "  temp = yf.download(ticker, start = '2020-07-24', end = '2025-07-24')\n",
      "[*********************100%***********************]  1 of 1 completed\n"
     ]
    },
    {
     "name": "stdout",
     "output_type": "stream",
     "text": [
      "423\n"
     ]
    },
    {
     "name": "stderr",
     "output_type": "stream",
     "text": [
      "/var/folders/9k/ywvf61854_j0k_l2ksy1rrsc0000gn/T/ipykernel_35480/962940363.py:7: FutureWarning: YF.download() has changed argument auto_adjust default to True\n",
      "  temp = yf.download(ticker, start = '2020-07-24', end = '2025-07-24')\n",
      "[*********************100%***********************]  1 of 1 completed\n"
     ]
    },
    {
     "name": "stdout",
     "output_type": "stream",
     "text": [
      "424\n"
     ]
    },
    {
     "name": "stderr",
     "output_type": "stream",
     "text": [
      "/var/folders/9k/ywvf61854_j0k_l2ksy1rrsc0000gn/T/ipykernel_35480/962940363.py:7: FutureWarning: YF.download() has changed argument auto_adjust default to True\n",
      "  temp = yf.download(ticker, start = '2020-07-24', end = '2025-07-24')\n",
      "[*********************100%***********************]  1 of 1 completed\n"
     ]
    },
    {
     "name": "stdout",
     "output_type": "stream",
     "text": [
      "425\n"
     ]
    },
    {
     "name": "stderr",
     "output_type": "stream",
     "text": [
      "/var/folders/9k/ywvf61854_j0k_l2ksy1rrsc0000gn/T/ipykernel_35480/962940363.py:7: FutureWarning: YF.download() has changed argument auto_adjust default to True\n",
      "  temp = yf.download(ticker, start = '2020-07-24', end = '2025-07-24')\n",
      "[*********************100%***********************]  1 of 1 completed\n"
     ]
    },
    {
     "name": "stdout",
     "output_type": "stream",
     "text": [
      "426\n"
     ]
    },
    {
     "name": "stderr",
     "output_type": "stream",
     "text": [
      "/var/folders/9k/ywvf61854_j0k_l2ksy1rrsc0000gn/T/ipykernel_35480/962940363.py:7: FutureWarning: YF.download() has changed argument auto_adjust default to True\n",
      "  temp = yf.download(ticker, start = '2020-07-24', end = '2025-07-24')\n",
      "[*********************100%***********************]  1 of 1 completed\n"
     ]
    },
    {
     "name": "stdout",
     "output_type": "stream",
     "text": [
      "427\n"
     ]
    },
    {
     "name": "stderr",
     "output_type": "stream",
     "text": [
      "/var/folders/9k/ywvf61854_j0k_l2ksy1rrsc0000gn/T/ipykernel_35480/962940363.py:7: FutureWarning: YF.download() has changed argument auto_adjust default to True\n",
      "  temp = yf.download(ticker, start = '2020-07-24', end = '2025-07-24')\n",
      "[*********************100%***********************]  1 of 1 completed\n"
     ]
    },
    {
     "name": "stdout",
     "output_type": "stream",
     "text": [
      "428\n"
     ]
    },
    {
     "name": "stderr",
     "output_type": "stream",
     "text": [
      "/var/folders/9k/ywvf61854_j0k_l2ksy1rrsc0000gn/T/ipykernel_35480/962940363.py:7: FutureWarning: YF.download() has changed argument auto_adjust default to True\n",
      "  temp = yf.download(ticker, start = '2020-07-24', end = '2025-07-24')\n",
      "[*********************100%***********************]  1 of 1 completed\n"
     ]
    },
    {
     "name": "stdout",
     "output_type": "stream",
     "text": [
      "429\n"
     ]
    },
    {
     "name": "stderr",
     "output_type": "stream",
     "text": [
      "/var/folders/9k/ywvf61854_j0k_l2ksy1rrsc0000gn/T/ipykernel_35480/962940363.py:7: FutureWarning: YF.download() has changed argument auto_adjust default to True\n",
      "  temp = yf.download(ticker, start = '2020-07-24', end = '2025-07-24')\n",
      "[*********************100%***********************]  1 of 1 completed\n"
     ]
    },
    {
     "name": "stdout",
     "output_type": "stream",
     "text": [
      "430\n"
     ]
    },
    {
     "name": "stderr",
     "output_type": "stream",
     "text": [
      "/var/folders/9k/ywvf61854_j0k_l2ksy1rrsc0000gn/T/ipykernel_35480/962940363.py:7: FutureWarning: YF.download() has changed argument auto_adjust default to True\n",
      "  temp = yf.download(ticker, start = '2020-07-24', end = '2025-07-24')\n",
      "[*********************100%***********************]  1 of 1 completed\n"
     ]
    },
    {
     "name": "stdout",
     "output_type": "stream",
     "text": [
      "431\n"
     ]
    },
    {
     "name": "stderr",
     "output_type": "stream",
     "text": [
      "/var/folders/9k/ywvf61854_j0k_l2ksy1rrsc0000gn/T/ipykernel_35480/962940363.py:7: FutureWarning: YF.download() has changed argument auto_adjust default to True\n",
      "  temp = yf.download(ticker, start = '2020-07-24', end = '2025-07-24')\n",
      "[*********************100%***********************]  1 of 1 completed\n"
     ]
    },
    {
     "name": "stdout",
     "output_type": "stream",
     "text": [
      "432\n"
     ]
    },
    {
     "name": "stderr",
     "output_type": "stream",
     "text": [
      "/var/folders/9k/ywvf61854_j0k_l2ksy1rrsc0000gn/T/ipykernel_35480/962940363.py:7: FutureWarning: YF.download() has changed argument auto_adjust default to True\n",
      "  temp = yf.download(ticker, start = '2020-07-24', end = '2025-07-24')\n",
      "[*********************100%***********************]  1 of 1 completed\n"
     ]
    },
    {
     "name": "stdout",
     "output_type": "stream",
     "text": [
      "433\n"
     ]
    },
    {
     "name": "stderr",
     "output_type": "stream",
     "text": [
      "/var/folders/9k/ywvf61854_j0k_l2ksy1rrsc0000gn/T/ipykernel_35480/962940363.py:7: FutureWarning: YF.download() has changed argument auto_adjust default to True\n",
      "  temp = yf.download(ticker, start = '2020-07-24', end = '2025-07-24')\n",
      "[*********************100%***********************]  1 of 1 completed\n"
     ]
    },
    {
     "name": "stdout",
     "output_type": "stream",
     "text": [
      "434\n"
     ]
    },
    {
     "name": "stderr",
     "output_type": "stream",
     "text": [
      "/var/folders/9k/ywvf61854_j0k_l2ksy1rrsc0000gn/T/ipykernel_35480/962940363.py:7: FutureWarning: YF.download() has changed argument auto_adjust default to True\n",
      "  temp = yf.download(ticker, start = '2020-07-24', end = '2025-07-24')\n",
      "[*********************100%***********************]  1 of 1 completed\n"
     ]
    },
    {
     "name": "stdout",
     "output_type": "stream",
     "text": [
      "435\n"
     ]
    },
    {
     "name": "stderr",
     "output_type": "stream",
     "text": [
      "/var/folders/9k/ywvf61854_j0k_l2ksy1rrsc0000gn/T/ipykernel_35480/962940363.py:7: FutureWarning: YF.download() has changed argument auto_adjust default to True\n",
      "  temp = yf.download(ticker, start = '2020-07-24', end = '2025-07-24')\n",
      "[*********************100%***********************]  1 of 1 completed\n"
     ]
    },
    {
     "name": "stdout",
     "output_type": "stream",
     "text": [
      "436\n"
     ]
    },
    {
     "name": "stderr",
     "output_type": "stream",
     "text": [
      "/var/folders/9k/ywvf61854_j0k_l2ksy1rrsc0000gn/T/ipykernel_35480/962940363.py:7: FutureWarning: YF.download() has changed argument auto_adjust default to True\n",
      "  temp = yf.download(ticker, start = '2020-07-24', end = '2025-07-24')\n",
      "[*********************100%***********************]  1 of 1 completed\n"
     ]
    },
    {
     "name": "stdout",
     "output_type": "stream",
     "text": [
      "437\n"
     ]
    },
    {
     "name": "stderr",
     "output_type": "stream",
     "text": [
      "/var/folders/9k/ywvf61854_j0k_l2ksy1rrsc0000gn/T/ipykernel_35480/962940363.py:7: FutureWarning: YF.download() has changed argument auto_adjust default to True\n",
      "  temp = yf.download(ticker, start = '2020-07-24', end = '2025-07-24')\n",
      "[*********************100%***********************]  1 of 1 completed\n"
     ]
    },
    {
     "name": "stdout",
     "output_type": "stream",
     "text": [
      "438\n"
     ]
    },
    {
     "name": "stderr",
     "output_type": "stream",
     "text": [
      "/var/folders/9k/ywvf61854_j0k_l2ksy1rrsc0000gn/T/ipykernel_35480/962940363.py:7: FutureWarning: YF.download() has changed argument auto_adjust default to True\n",
      "  temp = yf.download(ticker, start = '2020-07-24', end = '2025-07-24')\n",
      "[*********************100%***********************]  1 of 1 completed\n"
     ]
    },
    {
     "name": "stdout",
     "output_type": "stream",
     "text": [
      "439\n"
     ]
    },
    {
     "name": "stderr",
     "output_type": "stream",
     "text": [
      "/var/folders/9k/ywvf61854_j0k_l2ksy1rrsc0000gn/T/ipykernel_35480/962940363.py:7: FutureWarning: YF.download() has changed argument auto_adjust default to True\n",
      "  temp = yf.download(ticker, start = '2020-07-24', end = '2025-07-24')\n",
      "[*********************100%***********************]  1 of 1 completed\n"
     ]
    },
    {
     "name": "stdout",
     "output_type": "stream",
     "text": [
      "440\n"
     ]
    },
    {
     "name": "stderr",
     "output_type": "stream",
     "text": [
      "/var/folders/9k/ywvf61854_j0k_l2ksy1rrsc0000gn/T/ipykernel_35480/962940363.py:7: FutureWarning: YF.download() has changed argument auto_adjust default to True\n",
      "  temp = yf.download(ticker, start = '2020-07-24', end = '2025-07-24')\n",
      "[*********************100%***********************]  1 of 1 completed\n"
     ]
    },
    {
     "name": "stdout",
     "output_type": "stream",
     "text": [
      "441\n"
     ]
    },
    {
     "name": "stderr",
     "output_type": "stream",
     "text": [
      "/var/folders/9k/ywvf61854_j0k_l2ksy1rrsc0000gn/T/ipykernel_35480/962940363.py:7: FutureWarning: YF.download() has changed argument auto_adjust default to True\n",
      "  temp = yf.download(ticker, start = '2020-07-24', end = '2025-07-24')\n",
      "[*********************100%***********************]  1 of 1 completed\n"
     ]
    },
    {
     "name": "stdout",
     "output_type": "stream",
     "text": [
      "442\n"
     ]
    },
    {
     "name": "stderr",
     "output_type": "stream",
     "text": [
      "/var/folders/9k/ywvf61854_j0k_l2ksy1rrsc0000gn/T/ipykernel_35480/962940363.py:7: FutureWarning: YF.download() has changed argument auto_adjust default to True\n",
      "  temp = yf.download(ticker, start = '2020-07-24', end = '2025-07-24')\n",
      "[*********************100%***********************]  1 of 1 completed\n"
     ]
    },
    {
     "name": "stdout",
     "output_type": "stream",
     "text": [
      "443\n"
     ]
    },
    {
     "name": "stderr",
     "output_type": "stream",
     "text": [
      "/var/folders/9k/ywvf61854_j0k_l2ksy1rrsc0000gn/T/ipykernel_35480/962940363.py:7: FutureWarning: YF.download() has changed argument auto_adjust default to True\n",
      "  temp = yf.download(ticker, start = '2020-07-24', end = '2025-07-24')\n",
      "[*********************100%***********************]  1 of 1 completed\n"
     ]
    },
    {
     "name": "stdout",
     "output_type": "stream",
     "text": [
      "444\n"
     ]
    },
    {
     "name": "stderr",
     "output_type": "stream",
     "text": [
      "/var/folders/9k/ywvf61854_j0k_l2ksy1rrsc0000gn/T/ipykernel_35480/962940363.py:7: FutureWarning: YF.download() has changed argument auto_adjust default to True\n",
      "  temp = yf.download(ticker, start = '2020-07-24', end = '2025-07-24')\n",
      "[*********************100%***********************]  1 of 1 completed\n"
     ]
    },
    {
     "name": "stdout",
     "output_type": "stream",
     "text": [
      "445\n"
     ]
    },
    {
     "name": "stderr",
     "output_type": "stream",
     "text": [
      "/var/folders/9k/ywvf61854_j0k_l2ksy1rrsc0000gn/T/ipykernel_35480/962940363.py:7: FutureWarning: YF.download() has changed argument auto_adjust default to True\n",
      "  temp = yf.download(ticker, start = '2020-07-24', end = '2025-07-24')\n",
      "[*********************100%***********************]  1 of 1 completed\n"
     ]
    },
    {
     "name": "stdout",
     "output_type": "stream",
     "text": [
      "446\n"
     ]
    },
    {
     "name": "stderr",
     "output_type": "stream",
     "text": [
      "/var/folders/9k/ywvf61854_j0k_l2ksy1rrsc0000gn/T/ipykernel_35480/962940363.py:7: FutureWarning: YF.download() has changed argument auto_adjust default to True\n",
      "  temp = yf.download(ticker, start = '2020-07-24', end = '2025-07-24')\n",
      "[*********************100%***********************]  1 of 1 completed\n"
     ]
    },
    {
     "name": "stdout",
     "output_type": "stream",
     "text": [
      "447\n"
     ]
    },
    {
     "name": "stderr",
     "output_type": "stream",
     "text": [
      "/var/folders/9k/ywvf61854_j0k_l2ksy1rrsc0000gn/T/ipykernel_35480/962940363.py:7: FutureWarning: YF.download() has changed argument auto_adjust default to True\n",
      "  temp = yf.download(ticker, start = '2020-07-24', end = '2025-07-24')\n",
      "[*********************100%***********************]  1 of 1 completed\n"
     ]
    },
    {
     "name": "stdout",
     "output_type": "stream",
     "text": [
      "448\n"
     ]
    },
    {
     "name": "stderr",
     "output_type": "stream",
     "text": [
      "/var/folders/9k/ywvf61854_j0k_l2ksy1rrsc0000gn/T/ipykernel_35480/962940363.py:7: FutureWarning: YF.download() has changed argument auto_adjust default to True\n",
      "  temp = yf.download(ticker, start = '2020-07-24', end = '2025-07-24')\n",
      "[*********************100%***********************]  1 of 1 completed\n"
     ]
    },
    {
     "name": "stdout",
     "output_type": "stream",
     "text": [
      "449\n"
     ]
    },
    {
     "name": "stderr",
     "output_type": "stream",
     "text": [
      "/var/folders/9k/ywvf61854_j0k_l2ksy1rrsc0000gn/T/ipykernel_35480/962940363.py:7: FutureWarning: YF.download() has changed argument auto_adjust default to True\n",
      "  temp = yf.download(ticker, start = '2020-07-24', end = '2025-07-24')\n",
      "[*********************100%***********************]  1 of 1 completed\n"
     ]
    },
    {
     "name": "stdout",
     "output_type": "stream",
     "text": [
      "450\n"
     ]
    },
    {
     "name": "stderr",
     "output_type": "stream",
     "text": [
      "/var/folders/9k/ywvf61854_j0k_l2ksy1rrsc0000gn/T/ipykernel_35480/962940363.py:7: FutureWarning: YF.download() has changed argument auto_adjust default to True\n",
      "  temp = yf.download(ticker, start = '2020-07-24', end = '2025-07-24')\n",
      "[*********************100%***********************]  1 of 1 completed\n"
     ]
    },
    {
     "name": "stdout",
     "output_type": "stream",
     "text": [
      "451\n"
     ]
    },
    {
     "name": "stderr",
     "output_type": "stream",
     "text": [
      "/var/folders/9k/ywvf61854_j0k_l2ksy1rrsc0000gn/T/ipykernel_35480/962940363.py:7: FutureWarning: YF.download() has changed argument auto_adjust default to True\n",
      "  temp = yf.download(ticker, start = '2020-07-24', end = '2025-07-24')\n",
      "[*********************100%***********************]  1 of 1 completed\n"
     ]
    },
    {
     "name": "stdout",
     "output_type": "stream",
     "text": [
      "452\n"
     ]
    },
    {
     "name": "stderr",
     "output_type": "stream",
     "text": [
      "/var/folders/9k/ywvf61854_j0k_l2ksy1rrsc0000gn/T/ipykernel_35480/962940363.py:7: FutureWarning: YF.download() has changed argument auto_adjust default to True\n",
      "  temp = yf.download(ticker, start = '2020-07-24', end = '2025-07-24')\n",
      "[*********************100%***********************]  1 of 1 completed\n"
     ]
    },
    {
     "name": "stdout",
     "output_type": "stream",
     "text": [
      "453\n"
     ]
    },
    {
     "name": "stderr",
     "output_type": "stream",
     "text": [
      "/var/folders/9k/ywvf61854_j0k_l2ksy1rrsc0000gn/T/ipykernel_35480/962940363.py:7: FutureWarning: YF.download() has changed argument auto_adjust default to True\n",
      "  temp = yf.download(ticker, start = '2020-07-24', end = '2025-07-24')\n",
      "[*********************100%***********************]  1 of 1 completed\n"
     ]
    },
    {
     "name": "stdout",
     "output_type": "stream",
     "text": [
      "454\n"
     ]
    },
    {
     "name": "stderr",
     "output_type": "stream",
     "text": [
      "/var/folders/9k/ywvf61854_j0k_l2ksy1rrsc0000gn/T/ipykernel_35480/962940363.py:7: FutureWarning: YF.download() has changed argument auto_adjust default to True\n",
      "  temp = yf.download(ticker, start = '2020-07-24', end = '2025-07-24')\n",
      "[*********************100%***********************]  1 of 1 completed\n"
     ]
    },
    {
     "name": "stdout",
     "output_type": "stream",
     "text": [
      "455\n"
     ]
    },
    {
     "name": "stderr",
     "output_type": "stream",
     "text": [
      "/var/folders/9k/ywvf61854_j0k_l2ksy1rrsc0000gn/T/ipykernel_35480/962940363.py:7: FutureWarning: YF.download() has changed argument auto_adjust default to True\n",
      "  temp = yf.download(ticker, start = '2020-07-24', end = '2025-07-24')\n",
      "[*********************100%***********************]  1 of 1 completed\n"
     ]
    },
    {
     "name": "stdout",
     "output_type": "stream",
     "text": [
      "456\n"
     ]
    },
    {
     "name": "stderr",
     "output_type": "stream",
     "text": [
      "/var/folders/9k/ywvf61854_j0k_l2ksy1rrsc0000gn/T/ipykernel_35480/962940363.py:7: FutureWarning: YF.download() has changed argument auto_adjust default to True\n",
      "  temp = yf.download(ticker, start = '2020-07-24', end = '2025-07-24')\n",
      "[*********************100%***********************]  1 of 1 completed\n"
     ]
    },
    {
     "name": "stdout",
     "output_type": "stream",
     "text": [
      "457\n"
     ]
    },
    {
     "name": "stderr",
     "output_type": "stream",
     "text": [
      "/var/folders/9k/ywvf61854_j0k_l2ksy1rrsc0000gn/T/ipykernel_35480/962940363.py:7: FutureWarning: YF.download() has changed argument auto_adjust default to True\n",
      "  temp = yf.download(ticker, start = '2020-07-24', end = '2025-07-24')\n",
      "[*********************100%***********************]  1 of 1 completed\n"
     ]
    },
    {
     "name": "stdout",
     "output_type": "stream",
     "text": [
      "458\n"
     ]
    },
    {
     "name": "stderr",
     "output_type": "stream",
     "text": [
      "/var/folders/9k/ywvf61854_j0k_l2ksy1rrsc0000gn/T/ipykernel_35480/962940363.py:7: FutureWarning: YF.download() has changed argument auto_adjust default to True\n",
      "  temp = yf.download(ticker, start = '2020-07-24', end = '2025-07-24')\n",
      "[*********************100%***********************]  1 of 1 completed\n"
     ]
    },
    {
     "name": "stdout",
     "output_type": "stream",
     "text": [
      "459\n"
     ]
    },
    {
     "name": "stderr",
     "output_type": "stream",
     "text": [
      "/var/folders/9k/ywvf61854_j0k_l2ksy1rrsc0000gn/T/ipykernel_35480/962940363.py:7: FutureWarning: YF.download() has changed argument auto_adjust default to True\n",
      "  temp = yf.download(ticker, start = '2020-07-24', end = '2025-07-24')\n",
      "[*********************100%***********************]  1 of 1 completed\n"
     ]
    },
    {
     "name": "stdout",
     "output_type": "stream",
     "text": [
      "460\n"
     ]
    },
    {
     "name": "stderr",
     "output_type": "stream",
     "text": [
      "/var/folders/9k/ywvf61854_j0k_l2ksy1rrsc0000gn/T/ipykernel_35480/962940363.py:7: FutureWarning: YF.download() has changed argument auto_adjust default to True\n",
      "  temp = yf.download(ticker, start = '2020-07-24', end = '2025-07-24')\n",
      "[*********************100%***********************]  1 of 1 completed\n"
     ]
    },
    {
     "name": "stdout",
     "output_type": "stream",
     "text": [
      "461\n"
     ]
    },
    {
     "name": "stderr",
     "output_type": "stream",
     "text": [
      "/var/folders/9k/ywvf61854_j0k_l2ksy1rrsc0000gn/T/ipykernel_35480/962940363.py:7: FutureWarning: YF.download() has changed argument auto_adjust default to True\n",
      "  temp = yf.download(ticker, start = '2020-07-24', end = '2025-07-24')\n",
      "[*********************100%***********************]  1 of 1 completed\n"
     ]
    },
    {
     "name": "stdout",
     "output_type": "stream",
     "text": [
      "462\n"
     ]
    },
    {
     "name": "stderr",
     "output_type": "stream",
     "text": [
      "/var/folders/9k/ywvf61854_j0k_l2ksy1rrsc0000gn/T/ipykernel_35480/962940363.py:7: FutureWarning: YF.download() has changed argument auto_adjust default to True\n",
      "  temp = yf.download(ticker, start = '2020-07-24', end = '2025-07-24')\n",
      "[*********************100%***********************]  1 of 1 completed\n"
     ]
    },
    {
     "name": "stdout",
     "output_type": "stream",
     "text": [
      "463\n"
     ]
    },
    {
     "name": "stderr",
     "output_type": "stream",
     "text": [
      "/var/folders/9k/ywvf61854_j0k_l2ksy1rrsc0000gn/T/ipykernel_35480/962940363.py:7: FutureWarning: YF.download() has changed argument auto_adjust default to True\n",
      "  temp = yf.download(ticker, start = '2020-07-24', end = '2025-07-24')\n",
      "[*********************100%***********************]  1 of 1 completed\n"
     ]
    },
    {
     "name": "stdout",
     "output_type": "stream",
     "text": [
      "464\n"
     ]
    },
    {
     "name": "stderr",
     "output_type": "stream",
     "text": [
      "/var/folders/9k/ywvf61854_j0k_l2ksy1rrsc0000gn/T/ipykernel_35480/962940363.py:7: FutureWarning: YF.download() has changed argument auto_adjust default to True\n",
      "  temp = yf.download(ticker, start = '2020-07-24', end = '2025-07-24')\n",
      "[*********************100%***********************]  1 of 1 completed\n"
     ]
    },
    {
     "name": "stdout",
     "output_type": "stream",
     "text": [
      "465\n"
     ]
    },
    {
     "name": "stderr",
     "output_type": "stream",
     "text": [
      "/var/folders/9k/ywvf61854_j0k_l2ksy1rrsc0000gn/T/ipykernel_35480/962940363.py:7: FutureWarning: YF.download() has changed argument auto_adjust default to True\n",
      "  temp = yf.download(ticker, start = '2020-07-24', end = '2025-07-24')\n",
      "[*********************100%***********************]  1 of 1 completed\n"
     ]
    },
    {
     "name": "stdout",
     "output_type": "stream",
     "text": [
      "466\n"
     ]
    },
    {
     "name": "stderr",
     "output_type": "stream",
     "text": [
      "/var/folders/9k/ywvf61854_j0k_l2ksy1rrsc0000gn/T/ipykernel_35480/962940363.py:7: FutureWarning: YF.download() has changed argument auto_adjust default to True\n",
      "  temp = yf.download(ticker, start = '2020-07-24', end = '2025-07-24')\n",
      "[*********************100%***********************]  1 of 1 completed\n"
     ]
    },
    {
     "name": "stdout",
     "output_type": "stream",
     "text": [
      "467\n"
     ]
    },
    {
     "name": "stderr",
     "output_type": "stream",
     "text": [
      "/var/folders/9k/ywvf61854_j0k_l2ksy1rrsc0000gn/T/ipykernel_35480/962940363.py:7: FutureWarning: YF.download() has changed argument auto_adjust default to True\n",
      "  temp = yf.download(ticker, start = '2020-07-24', end = '2025-07-24')\n",
      "[*********************100%***********************]  1 of 1 completed\n"
     ]
    },
    {
     "name": "stdout",
     "output_type": "stream",
     "text": [
      "468\n"
     ]
    },
    {
     "name": "stderr",
     "output_type": "stream",
     "text": [
      "/var/folders/9k/ywvf61854_j0k_l2ksy1rrsc0000gn/T/ipykernel_35480/962940363.py:7: FutureWarning: YF.download() has changed argument auto_adjust default to True\n",
      "  temp = yf.download(ticker, start = '2020-07-24', end = '2025-07-24')\n",
      "[*********************100%***********************]  1 of 1 completed\n",
      "/var/folders/9k/ywvf61854_j0k_l2ksy1rrsc0000gn/T/ipykernel_35480/962940363.py:7: FutureWarning: YF.download() has changed argument auto_adjust default to True\n",
      "  temp = yf.download(ticker, start = '2020-07-24', end = '2025-07-24')\n"
     ]
    },
    {
     "name": "stdout",
     "output_type": "stream",
     "text": [
      "469\n"
     ]
    },
    {
     "name": "stderr",
     "output_type": "stream",
     "text": [
      "[*********************100%***********************]  1 of 1 completed\n"
     ]
    },
    {
     "name": "stdout",
     "output_type": "stream",
     "text": [
      "470\n"
     ]
    },
    {
     "name": "stderr",
     "output_type": "stream",
     "text": [
      "/var/folders/9k/ywvf61854_j0k_l2ksy1rrsc0000gn/T/ipykernel_35480/962940363.py:7: FutureWarning: YF.download() has changed argument auto_adjust default to True\n",
      "  temp = yf.download(ticker, start = '2020-07-24', end = '2025-07-24')\n",
      "[*********************100%***********************]  1 of 1 completed\n"
     ]
    },
    {
     "name": "stdout",
     "output_type": "stream",
     "text": [
      "471\n"
     ]
    },
    {
     "name": "stderr",
     "output_type": "stream",
     "text": [
      "/var/folders/9k/ywvf61854_j0k_l2ksy1rrsc0000gn/T/ipykernel_35480/962940363.py:7: FutureWarning: YF.download() has changed argument auto_adjust default to True\n",
      "  temp = yf.download(ticker, start = '2020-07-24', end = '2025-07-24')\n",
      "[*********************100%***********************]  1 of 1 completed\n"
     ]
    },
    {
     "name": "stdout",
     "output_type": "stream",
     "text": [
      "472\n"
     ]
    },
    {
     "name": "stderr",
     "output_type": "stream",
     "text": [
      "/var/folders/9k/ywvf61854_j0k_l2ksy1rrsc0000gn/T/ipykernel_35480/962940363.py:7: FutureWarning: YF.download() has changed argument auto_adjust default to True\n",
      "  temp = yf.download(ticker, start = '2020-07-24', end = '2025-07-24')\n",
      "[*********************100%***********************]  1 of 1 completed\n"
     ]
    },
    {
     "name": "stdout",
     "output_type": "stream",
     "text": [
      "473\n"
     ]
    },
    {
     "name": "stderr",
     "output_type": "stream",
     "text": [
      "/var/folders/9k/ywvf61854_j0k_l2ksy1rrsc0000gn/T/ipykernel_35480/962940363.py:7: FutureWarning: YF.download() has changed argument auto_adjust default to True\n",
      "  temp = yf.download(ticker, start = '2020-07-24', end = '2025-07-24')\n",
      "[*********************100%***********************]  1 of 1 completed\n"
     ]
    },
    {
     "name": "stdout",
     "output_type": "stream",
     "text": [
      "474\n"
     ]
    },
    {
     "name": "stderr",
     "output_type": "stream",
     "text": [
      "/var/folders/9k/ywvf61854_j0k_l2ksy1rrsc0000gn/T/ipykernel_35480/962940363.py:7: FutureWarning: YF.download() has changed argument auto_adjust default to True\n",
      "  temp = yf.download(ticker, start = '2020-07-24', end = '2025-07-24')\n",
      "[*********************100%***********************]  1 of 1 completed\n"
     ]
    },
    {
     "name": "stdout",
     "output_type": "stream",
     "text": [
      "475\n"
     ]
    },
    {
     "name": "stderr",
     "output_type": "stream",
     "text": [
      "/var/folders/9k/ywvf61854_j0k_l2ksy1rrsc0000gn/T/ipykernel_35480/962940363.py:7: FutureWarning: YF.download() has changed argument auto_adjust default to True\n",
      "  temp = yf.download(ticker, start = '2020-07-24', end = '2025-07-24')\n",
      "[*********************100%***********************]  1 of 1 completed\n"
     ]
    },
    {
     "name": "stdout",
     "output_type": "stream",
     "text": [
      "476\n"
     ]
    },
    {
     "name": "stderr",
     "output_type": "stream",
     "text": [
      "/var/folders/9k/ywvf61854_j0k_l2ksy1rrsc0000gn/T/ipykernel_35480/962940363.py:7: FutureWarning: YF.download() has changed argument auto_adjust default to True\n",
      "  temp = yf.download(ticker, start = '2020-07-24', end = '2025-07-24')\n",
      "[*********************100%***********************]  1 of 1 completed\n"
     ]
    },
    {
     "name": "stdout",
     "output_type": "stream",
     "text": [
      "477\n"
     ]
    },
    {
     "name": "stderr",
     "output_type": "stream",
     "text": [
      "/var/folders/9k/ywvf61854_j0k_l2ksy1rrsc0000gn/T/ipykernel_35480/962940363.py:7: FutureWarning: YF.download() has changed argument auto_adjust default to True\n",
      "  temp = yf.download(ticker, start = '2020-07-24', end = '2025-07-24')\n",
      "[*********************100%***********************]  1 of 1 completed\n"
     ]
    },
    {
     "name": "stdout",
     "output_type": "stream",
     "text": [
      "478\n"
     ]
    },
    {
     "name": "stderr",
     "output_type": "stream",
     "text": [
      "/var/folders/9k/ywvf61854_j0k_l2ksy1rrsc0000gn/T/ipykernel_35480/962940363.py:7: FutureWarning: YF.download() has changed argument auto_adjust default to True\n",
      "  temp = yf.download(ticker, start = '2020-07-24', end = '2025-07-24')\n",
      "[*********************100%***********************]  1 of 1 completed\n"
     ]
    },
    {
     "name": "stdout",
     "output_type": "stream",
     "text": [
      "479\n"
     ]
    },
    {
     "name": "stderr",
     "output_type": "stream",
     "text": [
      "/var/folders/9k/ywvf61854_j0k_l2ksy1rrsc0000gn/T/ipykernel_35480/962940363.py:7: FutureWarning: YF.download() has changed argument auto_adjust default to True\n",
      "  temp = yf.download(ticker, start = '2020-07-24', end = '2025-07-24')\n",
      "[*********************100%***********************]  1 of 1 completed\n"
     ]
    },
    {
     "name": "stdout",
     "output_type": "stream",
     "text": [
      "480\n"
     ]
    },
    {
     "name": "stderr",
     "output_type": "stream",
     "text": [
      "/var/folders/9k/ywvf61854_j0k_l2ksy1rrsc0000gn/T/ipykernel_35480/962940363.py:7: FutureWarning: YF.download() has changed argument auto_adjust default to True\n",
      "  temp = yf.download(ticker, start = '2020-07-24', end = '2025-07-24')\n",
      "[*********************100%***********************]  1 of 1 completed\n"
     ]
    },
    {
     "name": "stdout",
     "output_type": "stream",
     "text": [
      "481\n"
     ]
    },
    {
     "name": "stderr",
     "output_type": "stream",
     "text": [
      "/var/folders/9k/ywvf61854_j0k_l2ksy1rrsc0000gn/T/ipykernel_35480/962940363.py:7: FutureWarning: YF.download() has changed argument auto_adjust default to True\n",
      "  temp = yf.download(ticker, start = '2020-07-24', end = '2025-07-24')\n",
      "[*********************100%***********************]  1 of 1 completed\n"
     ]
    },
    {
     "name": "stdout",
     "output_type": "stream",
     "text": [
      "482\n"
     ]
    },
    {
     "name": "stderr",
     "output_type": "stream",
     "text": [
      "/var/folders/9k/ywvf61854_j0k_l2ksy1rrsc0000gn/T/ipykernel_35480/962940363.py:7: FutureWarning: YF.download() has changed argument auto_adjust default to True\n",
      "  temp = yf.download(ticker, start = '2020-07-24', end = '2025-07-24')\n",
      "[*********************100%***********************]  1 of 1 completed\n"
     ]
    },
    {
     "name": "stdout",
     "output_type": "stream",
     "text": [
      "483\n"
     ]
    },
    {
     "name": "stderr",
     "output_type": "stream",
     "text": [
      "/var/folders/9k/ywvf61854_j0k_l2ksy1rrsc0000gn/T/ipykernel_35480/962940363.py:7: FutureWarning: YF.download() has changed argument auto_adjust default to True\n",
      "  temp = yf.download(ticker, start = '2020-07-24', end = '2025-07-24')\n",
      "[*********************100%***********************]  1 of 1 completed\n"
     ]
    },
    {
     "name": "stdout",
     "output_type": "stream",
     "text": [
      "484\n"
     ]
    },
    {
     "name": "stderr",
     "output_type": "stream",
     "text": [
      "/var/folders/9k/ywvf61854_j0k_l2ksy1rrsc0000gn/T/ipykernel_35480/962940363.py:7: FutureWarning: YF.download() has changed argument auto_adjust default to True\n",
      "  temp = yf.download(ticker, start = '2020-07-24', end = '2025-07-24')\n",
      "[*********************100%***********************]  1 of 1 completed\n"
     ]
    },
    {
     "name": "stdout",
     "output_type": "stream",
     "text": [
      "485\n"
     ]
    },
    {
     "name": "stderr",
     "output_type": "stream",
     "text": [
      "/var/folders/9k/ywvf61854_j0k_l2ksy1rrsc0000gn/T/ipykernel_35480/962940363.py:7: FutureWarning: YF.download() has changed argument auto_adjust default to True\n",
      "  temp = yf.download(ticker, start = '2020-07-24', end = '2025-07-24')\n",
      "[*********************100%***********************]  1 of 1 completed\n"
     ]
    },
    {
     "name": "stdout",
     "output_type": "stream",
     "text": [
      "486\n"
     ]
    },
    {
     "name": "stderr",
     "output_type": "stream",
     "text": [
      "/var/folders/9k/ywvf61854_j0k_l2ksy1rrsc0000gn/T/ipykernel_35480/962940363.py:7: FutureWarning: YF.download() has changed argument auto_adjust default to True\n",
      "  temp = yf.download(ticker, start = '2020-07-24', end = '2025-07-24')\n",
      "[*********************100%***********************]  1 of 1 completed\n"
     ]
    },
    {
     "name": "stdout",
     "output_type": "stream",
     "text": [
      "487\n"
     ]
    },
    {
     "name": "stderr",
     "output_type": "stream",
     "text": [
      "/var/folders/9k/ywvf61854_j0k_l2ksy1rrsc0000gn/T/ipykernel_35480/962940363.py:7: FutureWarning: YF.download() has changed argument auto_adjust default to True\n",
      "  temp = yf.download(ticker, start = '2020-07-24', end = '2025-07-24')\n",
      "[*********************100%***********************]  1 of 1 completed\n"
     ]
    },
    {
     "name": "stdout",
     "output_type": "stream",
     "text": [
      "488\n"
     ]
    },
    {
     "name": "stderr",
     "output_type": "stream",
     "text": [
      "/var/folders/9k/ywvf61854_j0k_l2ksy1rrsc0000gn/T/ipykernel_35480/962940363.py:7: FutureWarning: YF.download() has changed argument auto_adjust default to True\n",
      "  temp = yf.download(ticker, start = '2020-07-24', end = '2025-07-24')\n",
      "[*********************100%***********************]  1 of 1 completed\n"
     ]
    },
    {
     "name": "stdout",
     "output_type": "stream",
     "text": [
      "489\n"
     ]
    },
    {
     "name": "stderr",
     "output_type": "stream",
     "text": [
      "/var/folders/9k/ywvf61854_j0k_l2ksy1rrsc0000gn/T/ipykernel_35480/962940363.py:7: FutureWarning: YF.download() has changed argument auto_adjust default to True\n",
      "  temp = yf.download(ticker, start = '2020-07-24', end = '2025-07-24')\n",
      "[*********************100%***********************]  1 of 1 completed\n"
     ]
    },
    {
     "name": "stdout",
     "output_type": "stream",
     "text": [
      "490\n"
     ]
    },
    {
     "name": "stderr",
     "output_type": "stream",
     "text": [
      "/var/folders/9k/ywvf61854_j0k_l2ksy1rrsc0000gn/T/ipykernel_35480/962940363.py:7: FutureWarning: YF.download() has changed argument auto_adjust default to True\n",
      "  temp = yf.download(ticker, start = '2020-07-24', end = '2025-07-24')\n",
      "[*********************100%***********************]  1 of 1 completed\n"
     ]
    },
    {
     "name": "stdout",
     "output_type": "stream",
     "text": [
      "491\n"
     ]
    },
    {
     "name": "stderr",
     "output_type": "stream",
     "text": [
      "/var/folders/9k/ywvf61854_j0k_l2ksy1rrsc0000gn/T/ipykernel_35480/962940363.py:7: FutureWarning: YF.download() has changed argument auto_adjust default to True\n",
      "  temp = yf.download(ticker, start = '2020-07-24', end = '2025-07-24')\n",
      "[*********************100%***********************]  1 of 1 completed\n"
     ]
    },
    {
     "name": "stdout",
     "output_type": "stream",
     "text": [
      "492\n"
     ]
    },
    {
     "name": "stderr",
     "output_type": "stream",
     "text": [
      "/var/folders/9k/ywvf61854_j0k_l2ksy1rrsc0000gn/T/ipykernel_35480/962940363.py:7: FutureWarning: YF.download() has changed argument auto_adjust default to True\n",
      "  temp = yf.download(ticker, start = '2020-07-24', end = '2025-07-24')\n",
      "[*********************100%***********************]  1 of 1 completed\n"
     ]
    },
    {
     "name": "stdout",
     "output_type": "stream",
     "text": [
      "493\n"
     ]
    },
    {
     "name": "stderr",
     "output_type": "stream",
     "text": [
      "/var/folders/9k/ywvf61854_j0k_l2ksy1rrsc0000gn/T/ipykernel_35480/962940363.py:7: FutureWarning: YF.download() has changed argument auto_adjust default to True\n",
      "  temp = yf.download(ticker, start = '2020-07-24', end = '2025-07-24')\n",
      "[*********************100%***********************]  1 of 1 completed\n"
     ]
    },
    {
     "name": "stdout",
     "output_type": "stream",
     "text": [
      "494\n"
     ]
    },
    {
     "name": "stderr",
     "output_type": "stream",
     "text": [
      "/var/folders/9k/ywvf61854_j0k_l2ksy1rrsc0000gn/T/ipykernel_35480/962940363.py:7: FutureWarning: YF.download() has changed argument auto_adjust default to True\n",
      "  temp = yf.download(ticker, start = '2020-07-24', end = '2025-07-24')\n",
      "[*********************100%***********************]  1 of 1 completed\n"
     ]
    },
    {
     "name": "stdout",
     "output_type": "stream",
     "text": [
      "495\n"
     ]
    },
    {
     "name": "stderr",
     "output_type": "stream",
     "text": [
      "/var/folders/9k/ywvf61854_j0k_l2ksy1rrsc0000gn/T/ipykernel_35480/962940363.py:7: FutureWarning: YF.download() has changed argument auto_adjust default to True\n",
      "  temp = yf.download(ticker, start = '2020-07-24', end = '2025-07-24')\n",
      "[*********************100%***********************]  1 of 1 completed\n"
     ]
    },
    {
     "name": "stdout",
     "output_type": "stream",
     "text": [
      "496\n"
     ]
    },
    {
     "name": "stderr",
     "output_type": "stream",
     "text": [
      "/var/folders/9k/ywvf61854_j0k_l2ksy1rrsc0000gn/T/ipykernel_35480/962940363.py:7: FutureWarning: YF.download() has changed argument auto_adjust default to True\n",
      "  temp = yf.download(ticker, start = '2020-07-24', end = '2025-07-24')\n",
      "[*********************100%***********************]  1 of 1 completed\n"
     ]
    },
    {
     "name": "stdout",
     "output_type": "stream",
     "text": [
      "497\n"
     ]
    },
    {
     "name": "stderr",
     "output_type": "stream",
     "text": [
      "/var/folders/9k/ywvf61854_j0k_l2ksy1rrsc0000gn/T/ipykernel_35480/962940363.py:7: FutureWarning: YF.download() has changed argument auto_adjust default to True\n",
      "  temp = yf.download(ticker, start = '2020-07-24', end = '2025-07-24')\n",
      "[*********************100%***********************]  1 of 1 completed\n"
     ]
    },
    {
     "name": "stdout",
     "output_type": "stream",
     "text": [
      "498\n"
     ]
    },
    {
     "name": "stderr",
     "output_type": "stream",
     "text": [
      "/var/folders/9k/ywvf61854_j0k_l2ksy1rrsc0000gn/T/ipykernel_35480/962940363.py:7: FutureWarning: YF.download() has changed argument auto_adjust default to True\n",
      "  temp = yf.download(ticker, start = '2020-07-24', end = '2025-07-24')\n",
      "[*********************100%***********************]  1 of 1 completed\n"
     ]
    },
    {
     "name": "stdout",
     "output_type": "stream",
     "text": [
      "499\n"
     ]
    },
    {
     "name": "stderr",
     "output_type": "stream",
     "text": [
      "/var/folders/9k/ywvf61854_j0k_l2ksy1rrsc0000gn/T/ipykernel_35480/962940363.py:7: FutureWarning: YF.download() has changed argument auto_adjust default to True\n",
      "  temp = yf.download(ticker, start = '2020-07-24', end = '2025-07-24')\n",
      "[*********************100%***********************]  1 of 1 completed\n"
     ]
    },
    {
     "name": "stdout",
     "output_type": "stream",
     "text": [
      "500\n"
     ]
    },
    {
     "name": "stderr",
     "output_type": "stream",
     "text": [
      "/var/folders/9k/ywvf61854_j0k_l2ksy1rrsc0000gn/T/ipykernel_35480/962940363.py:7: FutureWarning: YF.download() has changed argument auto_adjust default to True\n",
      "  temp = yf.download(ticker, start = '2020-07-24', end = '2025-07-24')\n",
      "[*********************100%***********************]  1 of 1 completed\n"
     ]
    },
    {
     "name": "stdout",
     "output_type": "stream",
     "text": [
      "501\n"
     ]
    },
    {
     "name": "stderr",
     "output_type": "stream",
     "text": [
      "/var/folders/9k/ywvf61854_j0k_l2ksy1rrsc0000gn/T/ipykernel_35480/962940363.py:7: FutureWarning: YF.download() has changed argument auto_adjust default to True\n",
      "  temp = yf.download(ticker, start = '2020-07-24', end = '2025-07-24')\n",
      "[*********************100%***********************]  1 of 1 completed\n"
     ]
    },
    {
     "name": "stdout",
     "output_type": "stream",
     "text": [
      "502\n"
     ]
    },
    {
     "name": "stderr",
     "output_type": "stream",
     "text": [
      "/var/folders/9k/ywvf61854_j0k_l2ksy1rrsc0000gn/T/ipykernel_35480/962940363.py:7: FutureWarning: YF.download() has changed argument auto_adjust default to True\n",
      "  temp = yf.download(ticker, start = '2020-07-24', end = '2025-07-24')\n",
      "[*********************100%***********************]  1 of 1 completed\n"
     ]
    },
    {
     "name": "stdout",
     "output_type": "stream",
     "text": [
      "503\n"
     ]
    },
    {
     "name": "stderr",
     "output_type": "stream",
     "text": [
      "/var/folders/9k/ywvf61854_j0k_l2ksy1rrsc0000gn/T/ipykernel_35480/962940363.py:7: FutureWarning: YF.download() has changed argument auto_adjust default to True\n",
      "  temp = yf.download(ticker, start = '2020-07-24', end = '2025-07-24')\n",
      "[*********************100%***********************]  1 of 1 completed\n"
     ]
    }
   ],
   "source": [
    "Ticker_Dict={}\n",
    "regular_betas = {}\n",
    "j=1\n",
    "for ticker in sp500_tickers:\n",
    "    print(j)\n",
    "    i =0\n",
    "    temp = yf.download(ticker, start = '2020-07-24', end = '2025-07-24')\n",
    "    temp[\"Returns\"] = temp[\"Close\"].pct_change()\n",
    "    \n",
    "    del temp[\"Open\"]\n",
    "    del temp[\"High\"]\n",
    "    del temp[\"Low\"]\n",
    "    del temp[\"Volume\"]\n",
    "    temp.dropna(inplace = True)\n",
    "    tempup = pd.DataFrame(columns=[\"Returns\"])\n",
    "    tempdown = pd.DataFrame(columns=[\"Returns\"])\n",
    "    j+=1\n",
    "    i = 0\n",
    "    if len(temp[\"Returns\"])==len(BullorBear):\n",
    "        for row in temp.itertuples(index=True):\n",
    "            if BullorBear[i]==1:\n",
    "                tempup.loc[len(tempup)] = row[2]\n",
    "\n",
    "            else:\n",
    "                tempdown.loc[len(tempdown)] = row[2]\n",
    "\n",
    "            i+=1\n",
    "        upB = tempup[\"Returns\"].cov(updf[\"Returns\"])/updf[\"Returns\"].var()\n",
    "        downB = tempdown[\"Returns\"].cov(downdf[\"Returns\"])/downdf[\"Returns\"].var()\n",
    "        Ticker_Dict[ticker]= [upB,downB]\n",
    "        regular_betas[ticker] = temp[\"Returns\"].cov(mydf[\"Returns\"])/mydf[\"Returns\"].var()\n",
    "\n",
    "\n",
    "    "
   ]
  },
  {
   "cell_type": "markdown",
   "id": "03b31d32",
   "metadata": {},
   "source": [
    "# Examination of Results\n",
    "#### First let's examine the regular beta. "
   ]
  },
  {
   "cell_type": "code",
   "execution_count": 46,
   "id": "b6d7febe",
   "metadata": {},
   "outputs": [
    {
     "data": {
      "image/png": "[encoded data removed]",
      "text/plain": [
       "<Figure size 432x288 with 1 Axes>"
      ]
     },
     "metadata": {
      "needs_background": "light"
     },
     "output_type": "display_data"
    }
   ],
   "source": [
    "# Extract values\n",
    "values = list(regular_betas.values())\n",
    "\n",
    "# Plot histogram\n",
    "plt.figure(figsize=(6,4))\n",
    "plt.hist(values, bins=20, edgecolor='black', color='skyblue')\n",
    "plt.xlabel('Beta')\n",
    "plt.ylabel('Frequency')\n",
    "plt.title('Distribution of Beta')\n",
    "plt.grid(True)\n",
    "plt.tight_layout()\n",
    "plt.show()"
   ]
  },
  {
   "cell_type": "markdown",
   "id": "74a9af1a",
   "metadata": {},
   "source": [
    "#### As we could've predicted, the distribution of beta is centered around 1. This suggests that many companies in the S&P 500 move roughly in line with the market."
   ]
  },
  {
   "cell_type": "markdown",
   "id": "aaf24c79",
   "metadata": {},
   "source": [
    "#### Next let's examine the extremes, starting with companies that have a low beta."
   ]
  },
  {
   "cell_type": "code",
   "execution_count": 63,
   "id": "6daad0a6",
   "metadata": {},
   "outputs": [],
   "source": [
    "sorted_regular_betas = dict(sorted(regular_betas.items(), key=lambda item: item[1]))\n",
    "sorted_keys_betas = list(sorted_regular_betas.keys())\n",
    "lowest_betas_sectors = {}\n",
    "for t in sorted_keys_betas[:25]:\n",
    "    if yf.Ticker(t).info['sector'] in lowest_betas_sectors:\n",
    "        lowest_betas_sectors[yf.Ticker(t).info['sector']]+=1\n",
    "    else:\n",
    "        lowest_betas_sectors[yf.Ticker(t).info['sector']] = 1\n"
   ]
  },
  {
   "cell_type": "code",
   "execution_count": 66,
   "id": "2bf6fad6",
   "metadata": {},
   "outputs": [
    {
     "data": {
      "image/png": "[encoded data removed]",
      "text/plain": [
       "<Figure size 576x360 with 1 Axes>"
      ]
     },
     "metadata": {
      "needs_background": "light"
     },
     "output_type": "display_data"
    }
   ],
   "source": [
    "plt.figure(figsize=(8,5))\n",
    "plt.bar(lowest_betas_sectors.keys(), lowest_betas_sectors.values(), color='skyblue', edgecolor='black')\n",
    "plt.xlabel('Sector')\n",
    "plt.ylabel('Number of Appearences')\n",
    "plt.title('Sector Count in Low Beta Companies')\n",
    "plt.xticks(rotation=45)\n",
    "plt.grid(axis='y', linestyle='--', alpha=0.7)\n",
    "plt.tight_layout()\n",
    "plt.show()"
   ]
  },
  {
   "cell_type": "markdown",
   "id": "8b2923da",
   "metadata": {},
   "source": [
    "#### It is easy to see that companies which are consumer staples or utilities tend to have lower beta. This is because those companies produce essential goods and items, that are important enough that people by them no matter the market conditions. "
   ]
  },
  {
   "cell_type": "markdown",
   "id": "a9ff0c6f",
   "metadata": {},
   "source": [
    "#### Next, lets look at stocks which have high betas, and see if we can spot any similar patterns."
   ]
  },
  {
   "cell_type": "code",
   "execution_count": 68,
   "id": "5532667c",
   "metadata": {},
   "outputs": [
    {
     "name": "stdout",
     "output_type": "stream",
     "text": [
      "{'Financial Services': 2, 'Technology': 15, 'Industrials': 1, 'Communication Services': 2, 'Consumer Cyclical': 5}\n"
     ]
    }
   ],
   "source": [
    "highest_betas_sectors = {}\n",
    "for t in sorted_keys_betas[465:]:\n",
    "    if yf.Ticker(t).info['sector'] in highest_betas_sectors:\n",
    "        highest_betas_sectors[yf.Ticker(t).info['sector']]+=1\n",
    "    else:\n",
    "        highest_betas_sectors[yf.Ticker(t).info['sector']] = 1\n"
   ]
  },
  {
   "cell_type": "code",
   "execution_count": 69,
   "id": "a6103752",
   "metadata": {},
   "outputs": [
    {
     "data": {
      "image/png": "[encoded data removed]",
      "text/plain": [
       "<Figure size 576x360 with 1 Axes>"
      ]
     },
     "metadata": {
      "needs_background": "light"
     },
     "output_type": "display_data"
    }
   ],
   "source": [
    "plt.figure(figsize=(8,5))\n",
    "plt.bar(highest_betas_sectors.keys(), highest_betas_sectors.values(), color='skyblue', edgecolor='black')\n",
    "plt.xlabel('Sector')\n",
    "plt.ylabel('Number of Appearences')\n",
    "plt.title('Sector Count in High Beta Companies')\n",
    "plt.xticks(rotation=45)\n",
    "plt.grid(axis='y', linestyle='--', alpha=0.7)\n",
    "plt.tight_layout()\n",
    "plt.show()"
   ]
  },
  {
   "cell_type": "markdown",
   "id": "a2072c64",
   "metadata": {},
   "source": [
    "#### Again, its easy to spot that tech companies tend to have high betas. One reason for this is because tech companies are seen to have a lot of potential for future growth, so there is a lot of hype around them. Another interesting column is consumer cyclical. These companies tend to produce luxury items and non-essential goods, i.e. they produce goods that people buy a lot more of when the market is doing well, but less of when it isn't."
   ]
  },
  {
   "cell_type": "markdown",
   "id": "a683562d",
   "metadata": {},
   "source": [
    "#### Next, lets focus on the bull and bear betas. We'll start with a scatter plot of bull vs bear betas for each company."
   ]
  },
  {
   "cell_type": "code",
   "execution_count": 70,
   "id": "9753b1a1",
   "metadata": {},
   "outputs": [
    {
     "data": {
      "image/png": "[encoded data removed]",
      "text/plain": [
       "<Figure size 576x432 with 1 Axes>"
      ]
     },
     "metadata": {
      "needs_background": "light"
     },
     "output_type": "display_data"
    }
   ],
   "source": [
    "import matplotlib.pyplot as plt\n",
    "\n",
    "# Unpack data\n",
    "tickers = list(Ticker_Dict.keys())\n",
    "bull_betas = [Ticker_Dict[t][0] for t in tickers]\n",
    "bear_betas = [Ticker_Dict[t][1] for t in tickers]\n",
    "\n",
    "# Plot\n",
    "plt.figure(figsize=(8,6))\n",
    "plt.scatter(bear_betas, bull_betas, color='blue')\n",
    "\n",
    "# Add labels (optional)\n",
    "for i, ticker in enumerate(tickers):\n",
    "    plt.text(bear_betas[i] + 0.01, bull_betas[i], ticker, fontsize=8)\n",
    "\n",
    "# Formatting\n",
    "plt.xlabel('Bear Beta')\n",
    "plt.ylabel('Bull Beta')\n",
    "plt.title('Bull vs Bear Betas per Company')\n",
    "plt.axline((0, 0), slope=1, color='gray', linestyle='--')  # y = x reference line\n",
    "plt.grid(True)\n",
    "plt.tight_layout()\n",
    "plt.show()"
   ]
  },
  {
   "cell_type": "markdown",
   "id": "3f6be7d7",
   "metadata": {},
   "source": [
    "#### As we expect, most stocks sit around the y=x line, i.e., there bull and bear beta values are very similar. First, lets look at companies with the best and worst ratio of beta. Then, we'll examine the actual spread. "
   ]
  },
  {
   "cell_type": "code",
   "execution_count": 40,
   "id": "c6f032ff",
   "metadata": {},
   "outputs": [],
   "source": [
    "beta_ratio = {}\n",
    "positive_betas = {}\n",
    "negative_betas = {}\n",
    "\n",
    "for key in Ticker_Dict:\n",
    "    if Ticker_Dict[key][0] <0:\n",
    "        Negative_bulls.append(key)\n",
    "    elif Ticker_Dict[key][0] <0:\n",
    "        Negative_bears.append(key)\n",
    "    beta_ratio[key] = Ticker_Dict[key][0]/Ticker_Dict[key][1]\n",
    "    \n",
    "    positive_betas[key] = Ticker_Dict[key][0]\n",
    "    \n",
    "    negative_betas[key] = Ticker_Dict[key][1]"
   ]
  },
  {
   "cell_type": "code",
   "execution_count": 77,
   "id": "f6e4c501",
   "metadata": {},
   "outputs": [
    {
     "data": {
      "text/plain": [
       "{'CBOE': 0.31627967441934307,\n",
       " 'KR': 0.4136761077073663,\n",
       " 'EQT': 0.6071479499839412,\n",
       " 'CME': 0.6249259343700967,\n",
       " 'PFE': 0.6361798112650566,\n",
       " 'DLTR': 0.6436226878284117,\n",
       " 'ABBV': 0.6667180718147128,\n",
       " 'AZO': 0.66982134070755,\n",
       " 'KMI': 0.698121486192428,\n",
       " 'CTRA': 0.6983728706917606,\n",
       " 'TKO': 0.7092270149475932,\n",
       " 'WMB': 0.7213976499352429,\n",
       " 'FANG': 0.7225311786070986,\n",
       " 'KHC': 0.7394451016970547,\n",
       " 'TRGP': 0.7404703822361229,\n",
       " 'GEN': 0.7457141760956562,\n",
       " 'VST': 0.7464216198450657,\n",
       " 'APA': 0.749921127771767,\n",
       " 'ORLY': 0.7523326765229249,\n",
       " 'EOG': 0.7542051848814215,\n",
       " 'CHD': 0.7621013826227867,\n",
       " 'KDP': 0.7677516646887347,\n",
       " 'OXY': 0.7801012265320093,\n",
       " 'SJM': 0.7855145565763338,\n",
       " 'CRWD': 0.7858185236713524,\n",
       " 'CVX': 0.7913671280333249,\n",
       " 'WELL': 0.7918075210038832,\n",
       " 'ICE': 0.7950508945589458,\n",
       " 'MKC': 0.7958205399635068,\n",
       " 'EVRG': 0.7969946558537915,\n",
       " 'HAL': 0.8018716579351128,\n",
       " 'DPZ': 0.803482308136914,\n",
       " 'DVN': 0.8038850867290228,\n",
       " 'FE': 0.805044149627733,\n",
       " 'MCK': 0.8077856675503299,\n",
       " 'RTX': 0.8078069968695077,\n",
       " 'KMX': 0.8117197123117942,\n",
       " 'SPG': 0.8184890553718993,\n",
       " 'REGN': 0.8201120252512464,\n",
       " 'ARE': 0.8221190979051328,\n",
       " 'OKE': 0.8240014065375492,\n",
       " 'PANW': 0.8244502723886742,\n",
       " 'VRSN': 0.8270059866743261,\n",
       " 'VZ': 0.8295742561884907,\n",
       " 'DG': 0.831986584571087,\n",
       " 'PM': 0.8320719955632307,\n",
       " 'AXON': 0.8343945631509387,\n",
       " 'VRTX': 0.8357339212777227,\n",
       " 'XOM': 0.838268121022751,\n",
       " 'KO': 0.8400852110862626,\n",
       " 'YUM': 0.841994346133615,\n",
       " 'DTE': 0.8458280866824908,\n",
       " 'VLO': 0.8474152774297725,\n",
       " 'O': 0.8483975474559842,\n",
       " 'ANET': 0.8510417846174033,\n",
       " 'MCD': 0.8533289241944694,\n",
       " 'AMZN': 0.8555073670500439,\n",
       " 'TGT': 0.8558901854012562,\n",
       " 'COP': 0.8565988317338523,\n",
       " 'APO': 0.8581737021165201,\n",
       " 'GNRC': 0.8593498070344899,\n",
       " 'HSY': 0.860172632565552,\n",
       " 'GE': 0.861136592538991,\n",
       " 'ETR': 0.8611531420847791,\n",
       " 'ADM': 0.861163444299995,\n",
       " 'HRL': 0.8614714969627321,\n",
       " 'CNP': 0.8663473812601554,\n",
       " 'GIS': 0.8756410988610867,\n",
       " 'SCHW': 0.8769302603726725,\n",
       " 'TMUS': 0.8781822724108524,\n",
       " 'EL': 0.8783924050175013,\n",
       " 'IRM': 0.8788720203959295,\n",
       " 'BXP': 0.8796384406909171,\n",
       " 'COST': 0.8808603480649259,\n",
       " 'NI': 0.8827694521993195,\n",
       " 'CCI': 0.8849111146545222,\n",
       " 'MO': 0.8854430938824269,\n",
       " 'MPC': 0.8868792387942133,\n",
       " 'PARA': 0.8870388860993275,\n",
       " 'JNJ': 0.8873619988093358,\n",
       " 'TPL': 0.889167009476254,\n",
       " 'ESS': 0.8897615115824371,\n",
       " 'WMT': 0.8905666239003536,\n",
       " 'FTNT': 0.8915106753595797,\n",
       " 'EBAY': 0.8921356377443279,\n",
       " 'BA': 0.8926702533088443,\n",
       " 'FOXA': 0.892678462782811,\n",
       " 'CTVA': 0.8941383922497513,\n",
       " 'BBY': 0.895445552608951,\n",
       " 'LLY': 0.8958912354168712,\n",
       " 'DVA': 0.8969161194331623,\n",
       " 'CMCSA': 0.8974522892394503,\n",
       " 'DELL': 0.9004259838087278,\n",
       " 'GRMN': 0.9006706514518215,\n",
       " 'BKR': 0.9055117254058148,\n",
       " 'WBA': 0.9066497464945162,\n",
       " 'EQR': 0.9076957569196108,\n",
       " 'NFLX': 0.9089201881339523,\n",
       " 'WFC': 0.9107909631000418,\n",
       " 'MSI': 0.9117755090390779,\n",
       " 'BAC': 0.9122779369620393,\n",
       " 'BMY': 0.9128755446162781,\n",
       " 'LNT': 0.9154191090450176,\n",
       " 'PSA': 0.91629608275396,\n",
       " 'TSCO': 0.9165178458931924,\n",
       " 'TSLA': 0.9166612515460772,\n",
       " 'RJF': 0.918605715175612,\n",
       " 'NTAP': 0.9197892041162904,\n",
       " 'GDDY': 0.9202670687140001,\n",
       " 'DOC': 0.9209879414800768,\n",
       " 'BAX': 0.9230348012437336,\n",
       " 'SYY': 0.9233376636582002,\n",
       " 'FOX': 0.9236579533895687,\n",
       " 'DECK': 0.9251273558981419,\n",
       " 'ADBE': 0.9263443984104975,\n",
       " 'AMT': 0.92646552960256,\n",
       " 'OTIS': 0.9281979150018074,\n",
       " 'MOS': 0.9284984132835185,\n",
       " 'ORCL': 0.9294444921166877,\n",
       " 'MDT': 0.9296828969971876,\n",
       " 'PSX': 0.9306576320931305,\n",
       " 'VRSK': 0.9310230752587653,\n",
       " 'CHRW': 0.9328892657779843,\n",
       " 'PG': 0.93334356323622,\n",
       " 'AEE': 0.9333865842223663,\n",
       " 'AVB': 0.9334826438735442,\n",
       " 'VTRS': 0.9340254587456169,\n",
       " 'NUE': 0.9350882351212398,\n",
       " 'HII': 0.9357987734656904,\n",
       " 'CF': 0.940326583195222,\n",
       " 'BRO': 0.9405877261993273,\n",
       " 'TTD': 0.941004609436574,\n",
       " 'DRI': 0.9419206820750791,\n",
       " 'T': 0.942251159072886,\n",
       " 'HWM': 0.9428574584278828,\n",
       " 'NOC': 0.9430830343522988,\n",
       " 'HAS': 0.9446313186817685,\n",
       " 'CVS': 0.9457045109519495,\n",
       " 'EXC': 0.945951546815389,\n",
       " 'SO': 0.9460159148173991,\n",
       " 'EXR': 0.948728838628518,\n",
       " 'USB': 0.9496093035593457,\n",
       " 'BG': 0.94994762645648,\n",
       " 'KIM': 0.9519347921729854,\n",
       " 'CPB': 0.9530948122439129,\n",
       " 'JKHY': 0.9546627298073919,\n",
       " 'IT': 0.9553879599827227,\n",
       " 'DDOG': 0.955657200014954,\n",
       " 'DIS': 0.9567921044725913,\n",
       " 'JCI': 0.9591013462845147,\n",
       " 'CTSH': 0.9595216108328736,\n",
       " 'PRU': 0.9602900858563989,\n",
       " 'LYV': 0.9604969311772062,\n",
       " 'STZ': 0.9631681496616848,\n",
       " 'FCX': 0.9654828712085548,\n",
       " 'VICI': 0.9657564821963243,\n",
       " 'FFIV': 0.9666482372663242,\n",
       " 'CAT': 0.9668161122316513,\n",
       " 'CB': 0.9669716399984668,\n",
       " 'ALL': 0.9678836352908726,\n",
       " 'MRNA': 0.9690370036406201,\n",
       " 'PPL': 0.9698184336895829,\n",
       " 'NCLH': 0.970433165181329,\n",
       " 'MRK': 0.9704650437283228,\n",
       " 'LUV': 0.9707680053141544,\n",
       " 'TPR': 0.9710848033753485,\n",
       " 'HLT': 0.974424062044017,\n",
       " 'FRT': 0.9746604159122666,\n",
       " 'VTR': 0.9750180667098708,\n",
       " 'UDR': 0.9755588946905653,\n",
       " 'ATO': 0.9755874896195023,\n",
       " 'WY': 0.975979380699485,\n",
       " 'SLB': 0.9769584080786666,\n",
       " 'CPT': 0.9778911238125484,\n",
       " 'TAP': 0.9785778480489483,\n",
       " 'HSIC': 0.9788170038948139,\n",
       " 'PEP': 0.9790220206237155,\n",
       " 'MSCI': 0.9806357944796221,\n",
       " 'AMGN': 0.9813917925839813,\n",
       " 'GOOGL': 0.9824651716037919,\n",
       " 'PGR': 0.9826721968001348,\n",
       " 'FDX': 0.9827739286885632,\n",
       " 'AES': 0.9835142854174871,\n",
       " 'GLW': 0.9836114981407801,\n",
       " 'IBM': 0.9837568773676514,\n",
       " 'HPQ': 0.9845978129744768,\n",
       " 'KKR': 0.98504701071805,\n",
       " 'DD': 0.9858238158438822,\n",
       " 'ULTA': 0.9860509123564993,\n",
       " 'CAH': 0.9874699084155495,\n",
       " 'BSX': 0.9875243033273229,\n",
       " 'TEL': 0.9894327046086879,\n",
       " 'AFL': 0.9907805158911267,\n",
       " 'TDG': 0.9911964651678639,\n",
       " 'MGM': 0.991698631142521,\n",
       " 'ZTS': 0.9921541834667211,\n",
       " 'INTU': 0.9929027852225653,\n",
       " 'INCY': 0.9941857189630338,\n",
       " 'BR': 0.9943729239414295,\n",
       " 'TYL': 0.9944270749644487,\n",
       " 'EG': 0.9947629391137542,\n",
       " 'WBD': 0.9949607505874645,\n",
       " 'MAR': 0.9950940067725315,\n",
       " 'LII': 0.9960654429383199,\n",
       " 'CL': 0.9963960384754676,\n",
       " 'BK': 0.9992515273526508,\n",
       " 'MET': 0.9992581701092856,\n",
       " 'CHTR': 0.999513998730644,\n",
       " 'BX': 0.9997500461453703,\n",
       " 'NDAQ': 1.0016792618036903,\n",
       " 'GOOG': 1.002262780590121,\n",
       " 'REG': 1.0022716027799985,\n",
       " 'LVS': 1.00272348959386,\n",
       " 'RL': 1.002940976884124,\n",
       " 'URI': 1.003137438537158,\n",
       " 'TXT': 1.0031406076411762,\n",
       " 'CRM': 1.0068266381443083,\n",
       " 'STX': 1.007804896444277,\n",
       " 'NOW': 1.0083866630927212,\n",
       " 'EW': 1.008526778877925,\n",
       " 'BKNG': 1.0094700818577973,\n",
       " 'ENPH': 1.0096159983238635,\n",
       " 'CMI': 1.0097791710254933,\n",
       " 'HD': 1.012360094706176,\n",
       " 'D': 1.0130104728596108,\n",
       " 'TRV': 1.0137986882309473,\n",
       " 'AON': 1.0139797002389028,\n",
       " 'APH': 1.0142949447742362,\n",
       " 'C': 1.0147161845231971,\n",
       " 'CMG': 1.0153604039815045,\n",
       " 'GILD': 1.0180529836722,\n",
       " 'ACN': 1.0183601514920242,\n",
       " 'ROP': 1.0190190316152583,\n",
       " 'SBAC': 1.020660337882652,\n",
       " 'TSN': 1.0216316731161013,\n",
       " 'CPAY': 1.022297149551632,\n",
       " 'MNST': 1.0243052214481436,\n",
       " 'RF': 1.0257039870793703,\n",
       " 'CINF': 1.0270434703483913,\n",
       " 'TDY': 1.027274765648641,\n",
       " 'GM': 1.0277106640654368,\n",
       " 'COR': 1.029495302582301,\n",
       " 'WSM': 1.0297688994235812,\n",
       " 'WTW': 1.0304753291286526,\n",
       " 'PNC': 1.0308020228043266,\n",
       " 'WAB': 1.033177590342859,\n",
       " 'AMP': 1.0332393460619713,\n",
       " 'LOW': 1.0343363443914493,\n",
       " 'WEC': 1.0344082602140194,\n",
       " 'OMC': 1.0348971849694972,\n",
       " 'AXP': 1.035270856259844,\n",
       " 'NRG': 1.0358310084566593,\n",
       " 'PWR': 1.0364792529770532,\n",
       " 'MS': 1.0374913367429717,\n",
       " 'XYZ': 1.0379803705317727,\n",
       " 'SPGI': 1.0380998570606357,\n",
       " 'IPG': 1.0381840513560516,\n",
       " 'MU': 1.0399141634522586,\n",
       " 'NVDA': 1.04041294540596,\n",
       " 'MSFT': 1.0407838109270628,\n",
       " 'AKAM': 1.0414320764917475,\n",
       " 'SNPS': 1.0415101455343418,\n",
       " 'SYK': 1.0416154497025554,\n",
       " 'PEG': 1.0428005843823522,\n",
       " 'LULU': 1.0459069391928741,\n",
       " 'FITB': 1.0462888917756783,\n",
       " 'MA': 1.046463886965127,\n",
       " 'EMN': 1.0473468183150352,\n",
       " 'AAPL': 1.0483444096292929,\n",
       " 'CCL': 1.048905963617615,\n",
       " 'ZBRA': 1.049685219127078,\n",
       " 'AVGO': 1.0517205934295302,\n",
       " 'A': 1.0529564302115717,\n",
       " 'JPM': 1.0530708134403708,\n",
       " 'DUK': 1.0537530751724693,\n",
       " 'UPS': 1.054596026486147,\n",
       " 'AJG': 1.0547310721303398,\n",
       " 'CLX': 1.055186740315968,\n",
       " 'MTB': 1.0551900516798538,\n",
       " 'EXPD': 1.0554077791381906,\n",
       " 'RCL': 1.055457268036524,\n",
       " 'IVZ': 1.0591328259939403,\n",
       " 'SMCI': 1.0602435436774713,\n",
       " 'SYF': 1.0603080734177415,\n",
       " 'PFG': 1.0615376185853131,\n",
       " 'LYB': 1.062753709733812,\n",
       " 'SRE': 1.0639643429484553,\n",
       " 'WYNN': 1.064340542831642,\n",
       " 'MMC': 1.065288264968501,\n",
       " 'LEN': 1.0661492429220099,\n",
       " 'ALB': 1.0673687869911803,\n",
       " 'FDS': 1.068059366371561,\n",
       " 'TRMB': 1.0682879317332101,\n",
       " 'FTV': 1.068776311017256,\n",
       " 'J': 1.0689146909938028,\n",
       " 'DLR': 1.070750478114181,\n",
       " 'VMC': 1.0720235935769653,\n",
       " 'KEYS': 1.0730203613630709,\n",
       " 'DE': 1.0731745671919282,\n",
       " 'ROK': 1.0733557093793629,\n",
       " 'IEX': 1.0736853604384267,\n",
       " 'STLD': 1.074781821806356,\n",
       " 'V': 1.0748245624740935,\n",
       " 'AWK': 1.0750471854531,\n",
       " 'HON': 1.0757093770354316,\n",
       " 'WM': 1.076184924674345,\n",
       " 'LH': 1.0768812515904076,\n",
       " 'NEM': 1.078538979105699,\n",
       " 'ACGL': 1.0786985479654343,\n",
       " 'MAA': 1.0790113255136748,\n",
       " 'AEP': 1.0793749385542935,\n",
       " 'ISRG': 1.0799111180407222,\n",
       " 'LDOS': 1.0806787642967872,\n",
       " 'L': 1.0817638561854241,\n",
       " 'SWK': 1.0819388281049522,\n",
       " 'IDXX': 1.082511239517222,\n",
       " 'PLD': 1.0828434598292913,\n",
       " 'MTD': 1.0829882514555331,\n",
       " 'EQIX': 1.084381511260027,\n",
       " 'META': 1.084552087633595,\n",
       " 'FI': 1.084668080662976,\n",
       " 'APTV': 1.0848285929588883,\n",
       " 'BLDR': 1.085901738483844,\n",
       " 'CARR': 1.0859738350944712,\n",
       " 'MDLZ': 1.0861714390208124,\n",
       " 'HBAN': 1.0866092690180613,\n",
       " 'AME': 1.0870983873075983,\n",
       " 'RSG': 1.0871098673400175,\n",
       " 'PKG': 1.0886582542706318,\n",
       " 'EMR': 1.0902111595113262,\n",
       " 'GL': 1.0908045737935874,\n",
       " 'XYL': 1.0915564376859261,\n",
       " 'LW': 1.0920135094459806,\n",
       " 'UBER': 1.0929718753046882,\n",
       " 'GD': 1.0931624955202073,\n",
       " 'GS': 1.0941882829923677,\n",
       " 'AIG': 1.0950694451174814,\n",
       " 'IQV': 1.0952092350584808,\n",
       " 'IFF': 1.0955652010416255,\n",
       " 'ABT': 1.0956677284296412,\n",
       " 'WDC': 1.0960114642554666,\n",
       " 'PCG': 1.096124412744875,\n",
       " 'DXCM': 1.0996311715230447,\n",
       " 'LHX': 1.099765429685959,\n",
       " 'CBRE': 1.1008367552085145,\n",
       " 'ECL': 1.1010261676585824,\n",
       " 'CMS': 1.1022220294784018,\n",
       " 'STT': 1.1029321714684173,\n",
       " 'RMD': 1.1044001509010002,\n",
       " 'TROW': 1.1049094040160214,\n",
       " 'HCA': 1.1052494057231228,\n",
       " 'CRL': 1.1065457105833882,\n",
       " 'ADI': 1.1068350390433994,\n",
       " 'HST': 1.1087648953649383,\n",
       " 'F': 1.1090486236002868,\n",
       " 'QCOM': 1.1094095924141019,\n",
       " 'XEL': 1.1095672041058748,\n",
       " 'DOV': 1.1118179998023832,\n",
       " 'UHS': 1.1118414518155535,\n",
       " 'WRB': 1.1124011859877776,\n",
       " 'STE': 1.1128770553762015,\n",
       " 'PCAR': 1.114526368004196,\n",
       " 'MTCH': 1.1158770370887632,\n",
       " 'MPWR': 1.1170862364980436,\n",
       " 'NWS': 1.1173402884720107,\n",
       " 'NTRS': 1.1205719181612328,\n",
       " 'DOW': 1.122443582700622,\n",
       " 'BALL': 1.1227164984769984,\n",
       " 'SBUX': 1.1228563872670427,\n",
       " 'MCHP': 1.1230702091541296,\n",
       " 'ON': 1.1234984722711816,\n",
       " 'CFG': 1.1286233114215518,\n",
       " 'MMM': 1.1291582994174536,\n",
       " 'EFX': 1.1313712371031857,\n",
       " 'PTC': 1.1313848193175307,\n",
       " 'MCO': 1.1333951561573923,\n",
       " 'ELV': 1.134981896824466,\n",
       " 'IP': 1.1361687141835888,\n",
       " 'TER': 1.136215664967857,\n",
       " 'PH': 1.1368632249779855,\n",
       " 'AMD': 1.1376191464057592,\n",
       " 'CDNS': 1.1386127161230863,\n",
       " 'RVTY': 1.13919759691188,\n",
       " 'HIG': 1.1392239664378414,\n",
       " 'INVH': 1.1397136779326877,\n",
       " 'JBL': 1.1401853482186397,\n",
       " 'UAL': 1.1420088840812115,\n",
       " 'ADSK': 1.143035747619693,\n",
       " 'WDAY': 1.1447971183336871,\n",
       " 'BIIB': 1.1448984842601901,\n",
       " 'NWSA': 1.1457350498532366,\n",
       " 'PAYC': 1.1473867390237384,\n",
       " 'IR': 1.1491654799109754,\n",
       " 'MLM': 1.149565281940609,\n",
       " 'PODD': 1.1516465981114428,\n",
       " 'SHW': 1.1534475533402062,\n",
       " 'WST': 1.1540139895182453,\n",
       " 'PHM': 1.154126829426311,\n",
       " 'LKQ': 1.155389962728901,\n",
       " 'LIN': 1.156986638605234,\n",
       " 'ALGN': 1.1572000762441697,\n",
       " 'CSGP': 1.1573102128245931,\n",
       " 'PYPL': 1.1574669576127958,\n",
       " 'BEN': 1.1581000947980502,\n",
       " 'CSCO': 1.1610998152471292,\n",
       " 'ETN': 1.1627650764595692,\n",
       " 'COF': 1.1634387657412755,\n",
       " 'NKE': 1.1641773580957666,\n",
       " 'DAY': 1.1646337659249975,\n",
       " 'TECH': 1.1652974212536267,\n",
       " 'AMAT': 1.16660458618116,\n",
       " 'CZR': 1.1666049315809668,\n",
       " 'BDX': 1.169472858217744,\n",
       " 'ITW': 1.1791776655540271,\n",
       " 'EXPE': 1.180256498236354,\n",
       " 'FIS': 1.1805716470144796,\n",
       " 'TJX': 1.1838622923917552,\n",
       " 'TFC': 1.1839165627872694,\n",
       " 'CPRT': 1.1846726171647635,\n",
       " 'PNR': 1.186433626926719,\n",
       " 'GPN': 1.186588459618753,\n",
       " 'PAYX': 1.1874475346440099,\n",
       " 'LRCX': 1.188300118693967,\n",
       " 'CDW': 1.190361584925441,\n",
       " 'DHI': 1.1905953202560178,\n",
       " 'CAG': 1.1909406970401784,\n",
       " 'BLK': 1.1925778104326115,\n",
       " 'UNP': 1.1927614370176434,\n",
       " 'MAS': 1.1942801701910621,\n",
       " 'HPE': 1.1945846085432636,\n",
       " 'SW': 1.1949076365242373,\n",
       " 'TMO': 1.2003059333563995,\n",
       " 'ROL': 1.2040462075162188,\n",
       " 'CTAS': 1.204770717048236,\n",
       " 'KLAC': 1.2054562550668528,\n",
       " 'JBHT': 1.2099766968614671,\n",
       " 'NXPI': 1.2110329032183103,\n",
       " 'CI': 1.2130888255064072,\n",
       " 'NDSN': 1.2141449257489478,\n",
       " 'AIZ': 1.216101697109788,\n",
       " 'INTC': 1.2178668951711105,\n",
       " 'POOL': 1.2179598858900855,\n",
       " 'APD': 1.2195916324785898,\n",
       " 'ES': 1.2197838236025527,\n",
       " 'SWKS': 1.2201484876937811,\n",
       " 'NEE': 1.2237923161238755,\n",
       " 'TTWO': 1.2256851674340323,\n",
       " 'EPAM': 1.2265743964260436,\n",
       " 'NSC': 1.2298519997123383,\n",
       " 'KEY': 1.234246214841903,\n",
       " 'TT': 1.2393856045081941,\n",
       " 'HUM': 1.2418976606248633,\n",
       " 'DHR': 1.2435460981743403,\n",
       " 'FSLR': 1.2484802006104236,\n",
       " 'CNC': 1.2588661908495449,\n",
       " 'ADP': 1.2632851912522474,\n",
       " 'GPC': 1.2662702168119266,\n",
       " 'ODFL': 1.2677482332384618,\n",
       " 'TXN': 1.2728754641284807,\n",
       " 'AMCR': 1.2756339271600237,\n",
       " 'COO': 1.2845461720539704,\n",
       " 'AVY': 1.291689183179688,\n",
       " 'ALLE': 1.2952058151446766,\n",
       " 'KMB': 1.2955147060434835,\n",
       " 'WAT': 1.2985818387768036,\n",
       " 'EA': 1.300356190444906,\n",
       " 'ROST': 1.3009726160064963,\n",
       " 'FAST': 1.30113027349971,\n",
       " 'FICO': 1.308921480555325,\n",
       " 'CSX': 1.3099014285233566,\n",
       " 'AOS': 1.3172070138304501,\n",
       " 'DAL': 1.3176986262900103,\n",
       " 'DGX': 1.3185717043157197,\n",
       " 'SNA': 1.3270509595917421,\n",
       " 'ZBH': 1.3451315191142306,\n",
       " 'PNW': 1.352627235758011,\n",
       " 'NVR': 1.3535970433961115,\n",
       " 'EIX': 1.3587563649727497,\n",
       " 'MHK': 1.3636203524774138,\n",
       " 'MOH': 1.3732925812849732,\n",
       " 'PPG': 1.3844489091100907,\n",
       " 'HOLX': 1.3945660423974555,\n",
       " 'UNH': 1.3980144114672832,\n",
       " 'HUBB': 1.4247299803532927,\n",
       " 'GWW': 1.4779831052099466,\n",
       " 'LMT': 1.4791552709780367,\n",
       " 'MKTX': 1.6767268168039386,\n",
       " 'ERIE': 1.6797619613885078,\n",
       " 'ED': 1.8813303849670158,\n",
       " 'K': 3.2655792314416168}"
      ]
     },
     "execution_count": 77,
     "metadata": {},
     "output_type": "execute_result"
    }
   ],
   "source": [
    "sorted_beta_ratio = dict(sorted(beta_ratio.items(), key=lambda item: item[1]))\n",
    "sorted_beta_ratio_keys = list(sorted_beta_ratio.keys())"
   ]
  },
  {
   "cell_type": "code",
   "execution_count": 79,
   "id": "3a8d5738",
   "metadata": {},
   "outputs": [],
   "source": [
    "lowest_br_sectors = {}\n",
    "for t in sorted_beta_ratio_keys[:25]:\n",
    "    if yf.Ticker(t).info['sector'] in lowest_br_sectors:\n",
    "        lowest_br_sectors[yf.Ticker(t).info['sector']]+=1\n",
    "    else:\n",
    "        lowest_br_sectors[yf.Ticker(t).info['sector']] = 1"
   ]
  },
  {
   "cell_type": "code",
   "execution_count": 80,
   "id": "e9689940",
   "metadata": {},
   "outputs": [
    {
     "data": {
      "image/png": "[encoded data removed]",
      "text/plain": [
       "<Figure size 576x360 with 1 Axes>"
      ]
     },
     "metadata": {
      "needs_background": "light"
     },
     "output_type": "display_data"
    }
   ],
   "source": [
    "plt.figure(figsize=(8,5))\n",
    "plt.bar(lowest_br_sectors.keys(), lowest_br_sectors.values(), color='skyblue', edgecolor='black')\n",
    "plt.xlabel('Sector')\n",
    "plt.ylabel('Number of Appearences')\n",
    "plt.title('Sector Count in low BR Companies')\n",
    "plt.xticks(rotation=45)\n",
    "plt.grid(axis='y', linestyle='--', alpha=0.7)\n",
    "plt.tight_layout()\n",
    "plt.show()"
   ]
  },
  {
   "cell_type": "markdown",
   "id": "67fafb32",
   "metadata": {},
   "source": [
    "#### Here, we have the sectors with the most companies that have low beta ratios. The beta ratio is $\\frac{ \\beta_{Bull}}{ \\beta_{Bear}}$, we would rather have companies with high beta ratios. One reason we see a lot of energy companies is that energy and commodities like oil, tend to move because of global events, not necessarily the market. These moves tend to have massive downside. Furthermore, energy companies have been under a lot fo pressure the past few years because of global warming and ESG governance. "
   ]
  },
  {
   "cell_type": "code",
   "execution_count": 81,
   "id": "3a7ed9b7",
   "metadata": {},
   "outputs": [],
   "source": [
    "highest_br_sectors = {}\n",
    "for t in sorted_beta_ratio_keys[465:]:\n",
    "    if yf.Ticker(t).info['sector'] in highest_br_sectors:\n",
    "        highest_br_sectors[yf.Ticker(t).info['sector']]+=1\n",
    "    else:\n",
    "        highest_br_sectors[yf.Ticker(t).info['sector']] = 1"
   ]
  },
  {
   "cell_type": "code",
   "execution_count": 82,
   "id": "64a4c3d9",
   "metadata": {},
   "outputs": [
    {
     "data": {
      "image/png": "[encoded data removed]",
      "text/plain": [
       "<Figure size 576x360 with 1 Axes>"
      ]
     },
     "metadata": {
      "needs_background": "light"
     },
     "output_type": "display_data"
    }
   ],
   "source": [
    "plt.figure(figsize=(8,5))\n",
    "plt.bar(highest_br_sectors.keys(), highest_br_sectors.values(), color='skyblue', edgecolor='black')\n",
    "plt.xlabel('Sector')\n",
    "plt.ylabel('Number of Appearences')\n",
    "plt.title('Sector Count in low BR Companies')\n",
    "plt.xticks(rotation=45)\n",
    "plt.grid(axis='y', linestyle='--', alpha=0.7)\n",
    "plt.tight_layout()\n",
    "plt.show()"
   ]
  },
  {
   "cell_type": "markdown",
   "id": "5af44bfd",
   "metadata": {},
   "source": [
    "#### The Industrial sector has a lot of companies with a good beta ratio. This makes sense because when the market is doing well, other comapnies are buying a lot of materials and machines from the industrial sector. The healthcare sector, is rather defensive when the market isn't doing well because people always need healthcare. "
   ]
  }
 ],
 "metadata": {
  "kernelspec": {
   "display_name": "Python 3 (ipykernel)",
   "language": "python",
   "name": "python3"
  },
  "language_info": {
   "codemirror_mode": {
    "name": "ipython",
    "version": 3
   },
   "file_extension": ".py",
   "mimetype": "text/x-python",
   "name": "python",
   "nbconvert_exporter": "python",
   "pygments_lexer": "ipython3",
   "version": "3.9.7"
  }
 },
 "nbformat": 4,
 "nbformat_minor": 5
}
